{
  "cells": [
    {
      "cell_type": "markdown",
      "metadata": {
        "id": "view-in-github",
        "colab_type": "text"
      },
      "source": [
        "<a href=\"https://colab.research.google.com/github/escuelaDeCodigoMargaritaMaza/Python/blob/main/CuadernoTrabajo.ipynb\" target=\"_parent\"><img src=\"https://colab.research.google.com/assets/colab-badge.svg\" alt=\"Open In Colab\"/></a>"
      ]
    },
    {
      "cell_type": "code",
      "execution_count": null,
      "metadata": {
        "colab": {
          "base_uri": "https://localhost:8080/"
        },
        "id": "zhLZ5EPgoi20",
        "outputId": "863c1d94-a62a-427b-bb53-397d7105c443"
      },
      "outputs": [
        {
          "name": "stdout",
          "output_type": "stream",
          "text": [
            "Me gusta \" Python \" \n"
          ]
        }
      ],
      "source": [
        "print(\"Me gusta \\\" Python \\\" \")"
      ]
    },
    {
      "cell_type": "code",
      "execution_count": null,
      "metadata": {
        "colab": {
          "base_uri": "https://localhost:8080/"
        },
        "id": "aWuF3z8eomnD",
        "outputId": "d1bf928a-2064-43a1-f587-78ce26b41c7d"
      },
      "outputs": [
        {
          "name": "stdout",
          "output_type": "stream",
          "text": [
            "Me gusta \t Monty Python \n"
          ]
        }
      ],
      "source": [
        "print(\"Me gusta \\t Monty Python \")"
      ]
    },
    {
      "cell_type": "code",
      "execution_count": null,
      "metadata": {
        "colab": {
          "base_uri": "https://localhost:8080/"
        },
        "id": "pn8KwkTMop8K",
        "outputId": "dde9cf23-10c2-4e19-8c0b-9a9eff16553e"
      },
      "outputs": [
        {
          "name": "stdout",
          "output_type": "stream",
          "text": [
            "Me gusta \n",
            " Monty Python \n"
          ]
        }
      ],
      "source": [
        "print(\"Me gusta \\n Monty Python \")"
      ]
    },
    {
      "cell_type": "code",
      "execution_count": null,
      "metadata": {
        "colab": {
          "base_uri": "https://localhost:8080/"
        },
        "id": "zhDgc6LJo0SF",
        "outputId": "6076819d-14cf-4f47-ebb8-5193ca71aa73"
      },
      "outputs": [
        {
          "name": "stdout",
          "output_type": "stream",
          "text": [
            "Datos de contrucción:\n",
            "Rangos de error.\n",
            "Datos a validar\n"
          ]
        }
      ],
      "source": [
        "multilinea = \"\"\"Datos de contrucción:\n",
        "Rangos de error.\n",
        "Datos a validar\"\"\"\n",
        "print(multilinea)"
      ]
    },
    {
      "cell_type": "code",
      "execution_count": null,
      "metadata": {
        "colab": {
          "base_uri": "https://localhost:8080/"
        },
        "id": "6YuI-C3Lo3tg",
        "outputId": "3d5c34b7-ede5-43d6-b7e0-7c5b133f57c9"
      },
      "outputs": [
        {
          "name": "stdout",
          "output_type": "stream",
          "text": [
            "En los diferentes centros PILARES podrás encontrar diversas opciones\n"
          ]
        }
      ],
      "source": [
        "nombre = 'PILARES'\n",
        "print(f'En los diferentes centros {nombre} podrás encontrar diversas opciones')"
      ]
    },
    {
      "cell_type": "code",
      "execution_count": null,
      "metadata": {
        "colab": {
          "base_uri": "https://localhost:8080/"
        },
        "id": "xIR-m40To6Xx",
        "outputId": "8c7c15cd-96b1-490b-a5d3-6c1b175ee666"
      },
      "outputs": [
        {
          "name": "stdout",
          "output_type": "stream",
          "text": [
            "En los centros PILARES, puedes encontrar la Escuela de Código\n",
            " ... exiten 140 PILARES en donde se oferta el taller en toda la CDMX\n"
          ]
        }
      ],
      "source": [
        "nombre = 'PILARES'\n",
        "taller = 'Escuela de Código'\n",
        "ciudad = 'CDMX'\n",
        "print(f'En los centros {nombre}, puedes encontrar la {taller}\\n ... exiten 140 {nombre} en donde se oferta el taller en toda la {ciudad}')"
      ]
    },
    {
      "cell_type": "code",
      "execution_count": null,
      "metadata": {
        "colab": {
          "base_uri": "https://localhost:8080/"
        },
        "id": "WuUorO1MpIag",
        "outputId": "b0e2b80f-fa04-45f3-ff64-bbea7cb6d8f3"
      },
      "outputs": [
        {
          "name": "stdout",
          "output_type": "stream",
          "text": [
            "***************\n"
          ]
        }
      ],
      "source": [
        "print(\"*\" * 15)"
      ]
    },
    {
      "cell_type": "markdown",
      "metadata": {
        "id": "a8ZtmkOypBfG"
      },
      "source": [
        "# Ejercicio\n",
        "\n",
        "![image.png](data:image/png;base64,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)"
      ]
    },
    {
      "cell_type": "code",
      "execution_count": null,
      "metadata": {
        "colab": {
          "base_uri": "https://localhost:8080/"
        },
        "id": "ng_B-jofpDe4",
        "outputId": "f199b9f7-b772-4f6c-8985-a69955acb032"
      },
      "outputs": [
        {
          "name": "stdout",
          "output_type": "stream",
          "text": [
            "8\n",
            "8.0\n"
          ]
        }
      ],
      "source": [
        "#Exponente\n",
        "print(2 ** 3)\n",
        "print(2. ** 3)"
      ]
    },
    {
      "cell_type": "code",
      "execution_count": null,
      "metadata": {
        "id": "8nT_CcvqpkG5"
      },
      "outputs": [],
      "source": [
        "#multiplicacion\n",
        "print(2 * 3)\n",
        "print(2.0 * 3)"
      ]
    },
    {
      "cell_type": "code",
      "execution_count": null,
      "metadata": {
        "colab": {
          "base_uri": "https://localhost:8080/"
        },
        "id": "ai6KJ1LopoVk",
        "outputId": "8a363f1a-5c1f-4a13-d299-37f7495cddee"
      },
      "outputs": [
        {
          "name": "stdout",
          "output_type": "stream",
          "text": [
            "2.0\n",
            "2.0\n"
          ]
        }
      ],
      "source": [
        "#diviion\n",
        "print(6 / 3)\n",
        "print(6. / 3)"
      ]
    },
    {
      "cell_type": "code",
      "execution_count": null,
      "metadata": {
        "colab": {
          "base_uri": "https://localhost:8080/"
        },
        "id": "DulIeOvHpsgn",
        "outputId": "dd0a770c-81d4-46fe-c38d-80f2eee18d90"
      },
      "outputs": [
        {
          "name": "stdout",
          "output_type": "stream",
          "text": [
            "2\n",
            "2.0\n"
          ]
        }
      ],
      "source": [
        "#division de piso\n",
        "print(6 // 3)\n",
        "print(6. // 3)"
      ]
    },
    {
      "cell_type": "code",
      "execution_count": null,
      "metadata": {
        "colab": {
          "base_uri": "https://localhost:8080/"
        },
        "id": "5aUw6wcApxax",
        "outputId": "096b8bc8-6312-435e-f2fa-7898af3b4ba3"
      },
      "outputs": [
        {
          "name": "stdout",
          "output_type": "stream",
          "text": [
            "2\n",
            "2.0\n"
          ]
        }
      ],
      "source": [
        "#residuo\n",
        "print(14 % 4)\n",
        "print(14.0 % 4)"
      ]
    },
    {
      "cell_type": "code",
      "execution_count": null,
      "metadata": {
        "colab": {
          "base_uri": "https://localhost:8080/"
        },
        "id": "Tmw9CmtTp-k6",
        "outputId": "92fbe1cb-0ae7-4cfa-d230-714e71ebc534"
      },
      "outputs": [
        {
          "name": "stdout",
          "output_type": "stream",
          "text": [
            "256\n"
          ]
        }
      ],
      "source": [
        "print(2 ** 2 ** 3)"
      ]
    },
    {
      "cell_type": "code",
      "execution_count": null,
      "metadata": {
        "colab": {
          "base_uri": "https://localhost:8080/"
        },
        "id": "5NudYvVhqCOn",
        "outputId": "be7246aa-d62d-42af-fc5c-c6ee41bee04e"
      },
      "outputs": [
        {
          "name": "stdout",
          "output_type": "stream",
          "text": [
            "10.0\n"
          ]
        }
      ],
      "source": [
        "print((5 * ((25 % 13) + 100) / (2 * 13)) // 2)"
      ]
    },
    {
      "cell_type": "code",
      "execution_count": null,
      "metadata": {
        "colab": {
          "base_uri": "https://localhost:8080/"
        },
        "id": "8D0ZNLFAqXSu",
        "outputId": "07bdf387-d232-4de8-f0bd-2b6653b41e60"
      },
      "outputs": [
        {
          "name": "stdout",
          "output_type": "stream",
          "text": [
            "Dime lo que sea...\n",
            "kjhkjh\n",
            "Hmm... kjhkjh ... ¿en serio?\n"
          ]
        }
      ],
      "source": [
        "print(\"Dime lo que sea...\")\n",
        "loquesea = input()\n",
        "print(\"Hmm...\", loquesea, \"... ¿en serio?\")"
      ]
    },
    {
      "cell_type": "code",
      "execution_count": null,
      "metadata": {
        "colab": {
          "base_uri": "https://localhost:8080/"
        },
        "id": "8M3sfDRFqbMm",
        "outputId": "2d6b0f1b-7cfb-44f9-c9eb-40e0f8e7eadd"
      },
      "outputs": [
        {
          "name": "stdout",
          "output_type": "stream",
          "text": [
            "Dime lo que sea...fdfs\n",
            "Hmm... fdfs ... ¿en serio?\n"
          ]
        }
      ],
      "source": [
        "dime=input(\"Dime lo que sea...\")\n",
        "print(\"Hmm...\", dime, \"... ¿en serio?\")"
      ]
    },
    {
      "cell_type": "code",
      "execution_count": null,
      "metadata": {
        "colab": {
          "base_uri": "https://localhost:8080/",
          "height": 217
        },
        "id": "ftreSY-aqjRl",
        "outputId": "a4563f70-7231-497f-9281-3721d444b145"
      },
      "outputs": [
        {
          "name": "stdout",
          "output_type": "stream",
          "text": [
            "Ingresa un número:5\n"
          ]
        },
        {
          "ename": "TypeError",
          "evalue": "ignored",
          "output_type": "error",
          "traceback": [
            "\u001b[0;31m---------------------------------------------------------------------------\u001b[0m",
            "\u001b[0;31mTypeError\u001b[0m                                 Traceback (most recent call last)",
            "\u001b[0;32m<ipython-input-23-137aa46ef0ab>\u001b[0m in \u001b[0;36m<cell line: 2>\u001b[0;34m()\u001b[0m\n\u001b[1;32m      1\u001b[0m \u001b[0mnumero\u001b[0m \u001b[0;34m=\u001b[0m \u001b[0minput\u001b[0m\u001b[0;34m(\u001b[0m\u001b[0;34m\"Ingresa un número:\"\u001b[0m\u001b[0;34m)\u001b[0m\u001b[0;34m\u001b[0m\u001b[0;34m\u001b[0m\u001b[0m\n\u001b[0;32m----> 2\u001b[0;31m \u001b[0mcuadrado\u001b[0m \u001b[0;34m=\u001b[0m \u001b[0mnumero\u001b[0m \u001b[0;34m**\u001b[0m \u001b[0;36m2.0\u001b[0m\u001b[0;34m\u001b[0m\u001b[0;34m\u001b[0m\u001b[0m\n\u001b[0m\u001b[1;32m      3\u001b[0m \u001b[0mprint\u001b[0m\u001b[0;34m(\u001b[0m\u001b[0mnumero\u001b[0m\u001b[0;34m,\u001b[0m \u001b[0;34m\"al cuadrado es\"\u001b[0m\u001b[0;34m,\u001b[0m \u001b[0mcuadrado\u001b[0m\u001b[0;34m)\u001b[0m\u001b[0;34m\u001b[0m\u001b[0;34m\u001b[0m\u001b[0m\n",
            "\u001b[0;31mTypeError\u001b[0m: unsupported operand type(s) for ** or pow(): 'str' and 'float'"
          ]
        }
      ],
      "source": [
        "numero = input(\"Ingresa un número:\")\n",
        "cuadrado = numero ** 2.0\n",
        "print(numero, \"al cuadrado es\", cuadrado)"
      ]
    },
    {
      "cell_type": "code",
      "execution_count": null,
      "metadata": {
        "id": "NAaE_CBfqvY8"
      },
      "outputs": [],
      "source": [
        "numero = int(input(\"Ingresa un número:\"))\n",
        "cuadrado = numero ** 2\n",
        "print(numero, \"al cuadrado es\", cuadrado)"
      ]
    },
    {
      "cell_type": "code",
      "execution_count": null,
      "metadata": {
        "colab": {
          "base_uri": "https://localhost:8080/"
        },
        "id": "ntBLYrQkq_A0",
        "outputId": "8c45e950-eb52-46fe-8bce-3793d94fd5c0"
      },
      "outputs": [
        {
          "name": "stdout",
          "output_type": "stream",
          "text": [
            "¿Me puedes dar tu nombre por favor? asd\n",
            "¿Me puedes dar tu apellido por favor? asdsad\n",
            "Gracias. \n",
            "\n",
            "Tu nombre es asd asdsad.\n"
          ]
        }
      ],
      "source": [
        "fnam = input(\"¿Me puedes dar tu nombre por favor? \")\n",
        "lnam = input(\"¿Me puedes dar tu apellido por favor? \")\n",
        "print(\"Gracias. \")\n",
        "print(\"\\nTu nombre es \" + fnam + \" \" + lnam + \".\")"
      ]
    },
    {
      "cell_type": "code",
      "execution_count": null,
      "metadata": {
        "colab": {
          "base_uri": "https://localhost:8080/"
        },
        "id": "ifEZZfYErBmc",
        "outputId": "78de1045-c5f3-4db6-f9ad-d2febe24953d"
      },
      "outputs": [
        {
          "name": "stdout",
          "output_type": "stream",
          "text": [
            "+----------+\n",
            "|          |\n",
            "|          |\n",
            "|          |\n",
            "|          |\n",
            "|          |\n",
            "+----------+\n"
          ]
        }
      ],
      "source": [
        "print(\"+\" + 10 * \"-\" + \"+\")\n",
        "print((\"|\" + \" \" * 10 + \"|\\n\") * 5, end=\"\")\n",
        "print(\"+\" + 10 * \"-\" + \"+\")"
      ]
    },
    {
      "cell_type": "code",
      "execution_count": null,
      "metadata": {
        "id": "84oq8qTyr71c"
      },
      "outputs": [],
      "source": [
        "paises = ['Canada', 'EU', 'México', 'Guatemala', 'Belice', 'Honduras', 'El Salvador', 'Micaragua']"
      ]
    },
    {
      "cell_type": "code",
      "execution_count": null,
      "metadata": {
        "id": "SI4fbiXrr_ZT"
      },
      "outputs": [],
      "source": [
        "print('El primer país es', paises[0])\n",
        "print('El segundo país es', paises[1])\n",
        "print('El tercer país es', paises[2])\n",
        "print('El tercer país es', paises[15])"
      ]
    },
    {
      "cell_type": "code",
      "execution_count": null,
      "metadata": {
        "id": "wbM2cCresIjC"
      },
      "outputs": [],
      "source": [
        "paises[1] = 'América'\n",
        "print('Eu es mal llamado también', paises[1])"
      ]
    },
    {
      "cell_type": "code",
      "execution_count": null,
      "metadata": {
        "colab": {
          "base_uri": "https://localhost:8080/"
        },
        "id": "hbEsQ9OesLOH",
        "outputId": "5f5f2e9a-8723-45d9-f962-911cd5cd3185"
      },
      "outputs": [
        {
          "name": "stdout",
          "output_type": "stream",
          "text": [
            "Hay 8 paises en la lista\n"
          ]
        }
      ],
      "source": [
        "numero_de_paises = len(paises)\n",
        "print('Hay', numero_de_paises, 'paises en la lista')"
      ]
    },
    {
      "cell_type": "code",
      "execution_count": null,
      "metadata": {
        "id": "fbgwvqE_sOFi"
      },
      "outputs": [],
      "source": [
        "paises.append('Panama')\n",
        "numero_de_paises = len(paises)\n",
        "print('Ahora la lista de paises es de ', numero_de_paises, 'paises.')"
      ]
    },
    {
      "cell_type": "code",
      "execution_count": null,
      "metadata": {
        "id": "1ASKYWxRsZVw"
      },
      "outputs": [],
      "source": [
        "paises.pop()\n",
        "numero_de_paises = len(paises)\n",
        "print('Ahora la lista de paises vuelve a ser de' , numero_de_paises, 'paises.')\n",
        "paises"
      ]
    },
    {
      "cell_type": "code",
      "execution_count": null,
      "metadata": {
        "id": "KWtZtdMkscZN"
      },
      "outputs": [],
      "source": [
        "print('El último país es ', paises[-1])\n",
        "print('El penúltimo país es ', paises[-2])"
      ]
    },
    {
      "cell_type": "code",
      "execution_count": null,
      "metadata": {
        "colab": {
          "base_uri": "https://localhost:8080/"
        },
        "id": "lxSXCCSbslsR",
        "outputId": "d30c51e9-76ad-4f90-8376-054181120762"
      },
      "outputs": [
        {
          "name": "stdout",
          "output_type": "stream",
          "text": [
            "México es el 3 er pais de la lista\n"
          ]
        }
      ],
      "source": [
        "mex_index = paises.index('México')\n",
        "print('México es el', mex_index + 1, 'er pais de la lista')"
      ]
    },
    {
      "cell_type": "code",
      "execution_count": null,
      "metadata": {
        "id": "kzekLTCdPT39"
      },
      "outputs": [],
      "source": [
        "poblacion = [37.8, 330.6, 127.1, 16.9, 0.4, 9.2, 6.7, 6.5]"
      ]
    },
    {
      "cell_type": "code",
      "execution_count": null,
      "metadata": {
        "id": "Jvitw9gKtKTC"
      },
      "outputs": [],
      "source": [
        "print(f'el total de población de todos los paises es {sum(poblacion)} ')"
      ]
    },
    {
      "cell_type": "code",
      "execution_count": null,
      "metadata": {
        "colab": {
          "base_uri": "https://localhost:8080/"
        },
        "id": "uHRSQ8lLtM84",
        "outputId": "c4c7f57a-6a36-484f-b295-f312ae6cbbf6"
      },
      "outputs": [
        {
          "name": "stdout",
          "output_type": "stream",
          "text": [
            "En México  Hay  89.3 millones mas habitantes que en  Canada\n"
          ]
        }
      ],
      "source": [
        "print('En',paises[2],' Hay ',abs(poblacion[0]-poblacion[2]),'millones mas habitantes que en ',paises[0])"
      ]
    },
    {
      "cell_type": "code",
      "execution_count": null,
      "metadata": {
        "id": "OhpH1kJptQnl"
      },
      "outputs": [],
      "source": [
        "print('El mayor número de habitantes de la lista es ',max(poblacion))\n",
        "print('El menor número de habitantes de la lista es ',min(poblacion))"
      ]
    },
    {
      "cell_type": "code",
      "execution_count": null,
      "metadata": {
        "colab": {
          "base_uri": "https://localhost:8080/"
        },
        "id": "WAkczivPtVbw",
        "outputId": "76bfa0b5-97ba-4740-b6f4-e3ddb540d15d"
      },
      "outputs": [
        {
          "name": "stdout",
          "output_type": "stream",
          "text": [
            "['Canada', 'EU']\n"
          ]
        }
      ],
      "source": [
        "paises = ['Canada', 'EU', 'México', 'Guatemala', 'Belice', 'Honduras', 'El Salvador', 'Micaragua']\n",
        "paises_antes_de_mexico = paises[0:2]\n",
        "print(paises_antes_de_mexico)"
      ]
    },
    {
      "cell_type": "code",
      "execution_count": null,
      "metadata": {
        "colab": {
          "base_uri": "https://localhost:8080/"
        },
        "id": "S7mheIwdtXhL",
        "outputId": "b89194a4-2ff5-44ab-94c4-f55a6e11afb4"
      },
      "outputs": [
        {
          "name": "stdout",
          "output_type": "stream",
          "text": [
            "['Guatemala', 'Belice', 'Honduras', 'El Salvador', 'Micaragua']\n"
          ]
        }
      ],
      "source": [
        "paises_despues_de_mexico = paises[3:8]\n",
        "print(paises_despues_de_mexico)"
      ]
    },
    {
      "cell_type": "code",
      "execution_count": null,
      "metadata": {
        "colab": {
          "base_uri": "https://localhost:8080/"
        },
        "id": "fD2eTOrdtZj3",
        "outputId": "06f90ff1-d280-4a55-85cb-85c9226af263"
      },
      "outputs": [
        {
          "name": "stdout",
          "output_type": "stream",
          "text": [
            "['Guatemala', 'Belice', 'Honduras', 'El Salvador', 'Micaragua']\n"
          ]
        }
      ],
      "source": [
        "paises_despues_de_mexico = paises[3:]\n",
        "print(paises_despues_de_mexico)"
      ]
    },
    {
      "cell_type": "code",
      "execution_count": null,
      "metadata": {
        "colab": {
          "base_uri": "https://localhost:8080/"
        },
        "id": "fmB4tz6HtcFf",
        "outputId": "b7449068-67ba-4110-afc6-05d99e54005c"
      },
      "outputs": [
        {
          "name": "stdout",
          "output_type": "stream",
          "text": [
            "['Canada', 'EU', 'México', 'Guatemala', 'Belice', 'Honduras', 'El Salvador', 'Micaragua']\n"
          ]
        }
      ],
      "source": [
        "paises_norte = ['Canada', 'EU', 'México']\n",
        "paises_centro = ['Guatemala', 'Belice', 'Honduras', 'El Salvador', 'Micaragua']\n",
        "lista_unida = paises_norte  + paises_centro\n",
        "print(lista_unida)"
      ]
    },
    {
      "cell_type": "code",
      "execution_count": null,
      "metadata": {
        "id": "93Sxknw3teSo"
      },
      "outputs": [],
      "source": [
        "lista_unida.sort()\n",
        "print('La lista ordenada quedaría ', lista_unida)"
      ]
    },
    {
      "cell_type": "code",
      "execution_count": null,
      "metadata": {
        "id": "KZZI3yXstg_S"
      },
      "outputs": [],
      "source": [
        "lista_unida.sort(reverse=True)\n",
        "print('La lista ordenada quedaría ', lista_unida)"
      ]
    },
    {
      "cell_type": "markdown",
      "metadata": {
        "id": "WqUf0Bvetw0n"
      },
      "source": [
        "# EJERCICIO\n",
        "\n",
        "Vamos a crear y manipular una lista que contiene nombres de alumnos, esta lista contedrá los nombres siguientes: 'Juan','Pedro','Beatriz','Angel','Miguel','Paz'\n",
        "\n",
        "A continuación, agrega el código para solicitar al usuario un nombre. Debido a que las cadenas distinguen entre mayúsculas y minúsculas en Python, píde al usuario que use una letra mayúscula para comenzar el nombre del alumno, ingresa tú nombre y agregalo a lista\n",
        "\n",
        "A continuación, agrega el código para solicitar al usuario un nombre a buscar, igresa tu nombre."
      ]
    },
    {
      "cell_type": "markdown",
      "metadata": {
        "id": "fOcfs80arKYw"
      },
      "source": [
        "Solicitar dos números e imprimir el resultado de las 4 operaciones básicas\n",
        "\n",
        "preparar un código simple para evaluar o encontrar el tiempo final de un periodo de tiempo dado, expresándolo en horas y minutos."
      ]
    },
    {
      "cell_type": "code",
      "execution_count": null,
      "metadata": {
        "id": "o6BEPCttrNj2"
      },
      "outputs": [],
      "source": [
        "alumno = {\n",
        "    'nombre':'Juan',\n",
        "    'calificacion': 7\n",
        "}"
      ]
    },
    {
      "cell_type": "code",
      "execution_count": null,
      "metadata": {
        "id": "yW4Xaw1crP8F"
      },
      "outputs": [],
      "source": [
        "print(alumno.get('nombre'))"
      ]
    },
    {
      "cell_type": "code",
      "execution_count": null,
      "metadata": {
        "id": "i6u-bVe5rUdF"
      },
      "outputs": [],
      "source": [
        "# alumno['nombre'] es idéntico a usar alumno.get('nombre')\n",
        "print(alumno['nombre'])"
      ]
    },
    {
      "cell_type": "code",
      "execution_count": null,
      "metadata": {
        "id": "xA_H4GMFr6tf"
      },
      "outputs": [],
      "source": [
        "#modificar valores de un diccionario\n",
        "alumno.update({'nombre': 'Beatriz'})\n",
        "print(alumno)"
      ]
    },
    {
      "cell_type": "code",
      "execution_count": null,
      "metadata": {
        "id": "deuISrhYr_U8"
      },
      "outputs": [],
      "source": [
        "alumno['nombre'] = 'Angel'\n",
        "print(alumno)"
      ]
    },
    {
      "cell_type": "code",
      "execution_count": null,
      "metadata": {
        "id": "pOMChk5usivt"
      },
      "outputs": [],
      "source": [
        "#Adicionar claves\n",
        "alumno['apellido'] = 'Pérez'\n",
        "print(alumno)\n",
        "\n",
        "# el diccionario alumno ahora contiene: {\n",
        "#   nombre: 'Miguel'\n",
        "#   calificcion: 9\n",
        "#   apellido: Pérez\n",
        "# }"
      ]
    },
    {
      "cell_type": "code",
      "execution_count": null,
      "metadata": {
        "id": "Nw6rxxqssk26"
      },
      "outputs": [],
      "source": [
        "#eliminar claves\n",
        "alumno.pop('apellido')\n",
        "print(alumno)"
      ]
    },
    {
      "cell_type": "code",
      "execution_count": null,
      "metadata": {
        "id": "R0lisqQRsnH9"
      },
      "outputs": [],
      "source": [
        "#los diccionarios pueden almacenar a otros diccionarios\n",
        "\n",
        "# Añadimos los datos\n",
        "alumno['periodo'] = {\n",
        "    'periodo1': 8,\n",
        "    'periodo2': 9\n",
        "}\n",
        "\n",
        "print(alumno)"
      ]
    },
    {
      "cell_type": "markdown",
      "metadata": {
        "id": "HqXylSzhtd1h"
      },
      "source": [
        "Para este ejercicio, crearás un diccionario que almacene información sobre paises y su población.\n",
        "\n",
        "Agrega el código para crear un nuevo diccionario denominado 'paises'. Rellena con la siguiente información:\n",
        "\n",
        "pais: México\n",
        "\n",
        "habitantes: 127.5 millones\n",
        "\n",
        "imprime el diccionarios usando string f con la información del diccionario\n",
        "\n",
        "Agrega un nuevo valor con una clave de 'datos'. Este nuevo valor debería almacenar un diccionario con dos datos del país:\n",
        "\n",
        "idioma: 'español'\n",
        "\n",
        "moneda: 'peso'"
      ]
    },
    {
      "cell_type": "code",
      "execution_count": null,
      "metadata": {
        "colab": {
          "base_uri": "https://localhost:8080/"
        },
        "id": "ni7MFNQ8vX5b",
        "outputId": "ae17f4ea-97c8-465e-9207-0e379b6d6e07"
      },
      "outputs": [
        {
          "data": {
            "text/plain": [
              "0"
            ]
          },
          "execution_count": 4,
          "metadata": {},
          "output_type": "execute_result"
        }
      ],
      "source": [
        "import random\n",
        "\n",
        "numero= random.randint(0, 5)\n",
        "\n",
        "numero"
      ]
    },
    {
      "cell_type": "code",
      "execution_count": null,
      "metadata": {
        "colab": {
          "base_uri": "https://localhost:8080/"
        },
        "id": "TOqBDqq0xz16",
        "outputId": "f8d58df0-97f0-4860-aa37-a61faf3d0787"
      },
      "outputs": [
        {
          "data": {
            "text/plain": [
              "2"
            ]
          },
          "execution_count": 15,
          "metadata": {},
          "output_type": "execute_result"
        }
      ],
      "source": [
        "lista = [2, 190, False, \"hola\", \"pelota\", 123]\n",
        "alea=random.choice(lista)\n",
        "alea"
      ]
    },
    {
      "cell_type": "code",
      "execution_count": null,
      "metadata": {
        "colab": {
          "base_uri": "https://localhost:8080/"
        },
        "id": "T5j15ovrx2SB",
        "outputId": "70fd2964-8f75-470f-95b8-265556938561"
      },
      "outputs": [
        {
          "data": {
            "text/plain": [
              "[8, 6, 4, 9]"
            ]
          },
          "execution_count": 18,
          "metadata": {},
          "output_type": "execute_result"
        }
      ],
      "source": [
        "lista=[]\n",
        "lista.append(random.randint(0,10))\n",
        "lista.append(random.randint(0,10))\n",
        "lista.append(random.randint(0,10))\n",
        "lista.append(random.randint(0,10))\n",
        "lista"
      ]
    },
    {
      "cell_type": "code",
      "execution_count": null,
      "metadata": {
        "id": "43BtIj0dyLrQ"
      },
      "outputs": [],
      "source": [
        "2 == 2"
      ]
    },
    {
      "cell_type": "code",
      "execution_count": null,
      "metadata": {
        "id": "_E3WiOvLyNaw"
      },
      "outputs": [],
      "source": [
        "'2' == 2"
      ]
    },
    {
      "cell_type": "code",
      "execution_count": null,
      "metadata": {
        "id": "INthrrbFyQng"
      },
      "outputs": [],
      "source": [
        "var = 0\n",
        "var != 0"
      ]
    },
    {
      "cell_type": "code",
      "execution_count": null,
      "metadata": {
        "id": "NaSddE58yTWg"
      },
      "outputs": [],
      "source": [
        "5 >= 5.0"
      ]
    },
    {
      "cell_type": "code",
      "execution_count": null,
      "metadata": {
        "id": "FH4w5H_dyYY3"
      },
      "outputs": [],
      "source": [
        "n = int(input(\"Ingresa un número: \"))\n",
        "print(n > 100)"
      ]
    },
    {
      "cell_type": "code",
      "execution_count": null,
      "metadata": {
        "id": "0R2Dn1XYyiFM"
      },
      "outputs": [],
      "source": [
        "a = 97\n",
        "b = 55\n",
        "if a < b:\n",
        "    print(b)"
      ]
    },
    {
      "cell_type": "code",
      "execution_count": null,
      "metadata": {
        "id": "bLT4O-DLykB3"
      },
      "outputs": [],
      "source": [
        "a = 54\n",
        "b = 44\n",
        "if a <= 0:\n",
        "    print(b)\n",
        "print(a)"
      ]
    },
    {
      "cell_type": "code",
      "execution_count": null,
      "metadata": {
        "id": "65DvV3jzyo6C"
      },
      "outputs": [],
      "source": [
        "a = 3\n",
        "b = 27\n",
        "if a >= b:\n",
        "    print(a)\n",
        "else:\n",
        "    print(b)"
      ]
    },
    {
      "cell_type": "code",
      "execution_count": null,
      "metadata": {
        "id": "N-GJ2a2xytgr"
      },
      "outputs": [],
      "source": [
        "a = 93\n",
        "b = 93\n",
        "if a > b:\n",
        "    print(\"a es mayor que b\")\n",
        "elif a == b:\n",
        "    print(\"a es igual que b\")"
      ]
    },
    {
      "cell_type": "code",
      "execution_count": null,
      "metadata": {
        "id": "1JwrFa7aywvS"
      },
      "outputs": [],
      "source": [
        "lenguaje = input(\"Introduce el nombre del lenguaje: \")\n",
        "\n",
        "if lenguaje == \"PYTHON\":\n",
        "    print(\"Si, ¡El Python es el mejor lenguaje de todos los tiempos!\")\n",
        "elif lenguaje == \"python\":\n",
        "    print(\"No, ¡quiero un gran PYTHON!\")\n",
        "else:\n",
        "    print(\"PYTHON!, ¡No\", lenguaje + \"!\")"
      ]
    },
    {
      "cell_type": "markdown",
      "metadata": {
        "id": "lq6l-BfmzD9J"
      },
      "source": [
        "### Ejercicio\n",
        "solicitar tres números e imprimir cual es el más grande\n",
        "\n",
        "### Ejercicio\n",
        "Solicitar por consola 3 números y mostrarlos impresos de menor a mayor"
      ]
    },
    {
      "cell_type": "code",
      "execution_count": null,
      "metadata": {
        "id": "FJoW7BNQzXAF"
      },
      "outputs": [],
      "source": [
        "a = 23\n",
        "b = 34\n",
        "if a == 34 or b == 34:\n",
        "    print('ok')"
      ]
    },
    {
      "cell_type": "code",
      "execution_count": null,
      "metadata": {
        "id": "KSVKe5udzY6J"
      },
      "outputs": [],
      "source": [
        "a = 23\n",
        "b = 34\n",
        "if a == 34 and b == 34:\n",
        "    print ('ok')"
      ]
    },
    {
      "cell_type": "markdown",
      "metadata": {
        "id": "NcIbXEPOzdKl"
      },
      "source": [
        "### Ejercicio\n",
        "Como seguramente sabrás, debido a algunas razones astronómicas, el año puede ser bisiesto o común. Los primeros tienen una duración de 366 días, mientras que los últimos tienen una duración de 365 días.\n",
        "\n",
        "Desde la introducción del calendario Gregoriano (en 1582), se utiliza la siguiente regla para determinar el tipo de año:\n",
        "\n",
        "si el número del año no es divisible entre cuatro, es un año común.\n",
        "de lo contrario, si el número del año no es divisible entre 100, es un año bisiesto.\n",
        "de lo contrario, si el número del año no es divisible entre 400, es un año común.\n",
        "de lo contrario, es un año bisiesto."
      ]
    },
    {
      "cell_type": "code",
      "execution_count": null,
      "metadata": {
        "id": "-SXMoXnaJLL4"
      },
      "outputs": [],
      "source": [
        "year = int(input(\"Introduce un año: \"))\n",
        "\n",
        "if year < 1582:\n",
        "\tprint(\"No esta dentro del período del calendario Gregoriano\")\n",
        "else:\n",
        "\tif year % 4 != 0:\n",
        "\t\tprint(\"Año Común\")\n",
        "\telif year % 100 != 0:\n",
        "\t\tprint(\"Año Bisiesto\")\n",
        "\telif year % 400 != 0:\n",
        "\t\tprint(\"Año Común\")\n",
        "\telse:\n",
        "\t\tprint(\"Año Bisiesto\")"
      ]
    },
    {
      "cell_type": "code",
      "execution_count": null,
      "metadata": {
        "id": "oJKQoiHdJTqG"
      },
      "outputs": [],
      "source": [
        "#while\n",
        "i = 0\n",
        "while i < 100:\n",
        "    i += 1\n",
        "    print(i)"
      ]
    },
    {
      "cell_type": "code",
      "execution_count": null,
      "metadata": {
        "id": "_1bMtfdxJtuE"
      },
      "outputs": [],
      "source": [
        "import time   #libreria para manejar tiempo\n",
        "\n",
        "numero_par = 0\n",
        "numero_impar = 0\n",
        "\n",
        "# Lee el primer número.\n",
        "numero = int(input(\"Introduce un número o escribe 0 para detener: \"))\n",
        "\n",
        "# 0 termina la ejecución.\n",
        "while numero != 0:\n",
        "    # Verificar si el número es impar.\n",
        "    if numero % 2 == 1:\n",
        "        # Incrementar el contador de números impares odd_numbers.\n",
        "        numero_impar += 1\n",
        "    else:\n",
        "        # Incrementar el contador de números pares even_numbers.\n",
        "        numero_par += 1\n",
        "    # Leer el siguiente número.\n",
        "    numero = int(input(\"Introduce un número o escribe 0 para detener: \"))\n",
        "\n",
        "# Imprimir resultados.\n",
        "print(\"Conteo de números impares:\", numero_impar)\n",
        "time.sleep(5)\n",
        "print(\"Conteo de números pares:\", numero_par)"
      ]
    },
    {
      "cell_type": "code",
      "execution_count": null,
      "metadata": {
        "id": "Gcdvh02LJzf4"
      },
      "outputs": [],
      "source": [
        "#bucle infinito y while true\n",
        "while True:\n",
        "    print(\"Estoy atrapado dentro de un bucle.\")"
      ]
    },
    {
      "cell_type": "code",
      "execution_count": null,
      "metadata": {
        "id": "JvlLRZgsJ_ns"
      },
      "outputs": [],
      "source": [
        "while True:\n",
        "    print(\"Estoy atrapado dentro de un bucle.\")\n",
        "    break"
      ]
    },
    {
      "cell_type": "markdown",
      "metadata": {
        "id": "wa2Xhl91KGSc"
      },
      "source": [
        "## Ejercicio\n",
        "Realizar el juego adivina el número"
      ]
    },
    {
      "cell_type": "code",
      "execution_count": null,
      "metadata": {
        "id": "j34c43Y3K2kG"
      },
      "outputs": [],
      "source": [
        "for i in range(8):\n",
        "    print(i)"
      ]
    },
    {
      "cell_type": "code",
      "execution_count": null,
      "metadata": {
        "id": "bxlVQoGIK5sR"
      },
      "outputs": [],
      "source": [
        "for i in range(2, 8):\n",
        "    print(i)"
      ]
    },
    {
      "cell_type": "code",
      "execution_count": null,
      "metadata": {
        "id": "9X1UPvKPKrz7"
      },
      "outputs": [],
      "source": [
        "for i in range(0,30,3):  #rango\n",
        "    print(i)"
      ]
    },
    {
      "cell_type": "markdown",
      "metadata": {
        "id": "EbWMK8QgLWtO"
      },
      "source": [
        "Nota: el conjunto generado por range() debe ordenarse en un orden ascendente. No hay forma de forzar el range() para crear un conjunto en una forma diferente. Esto significa que el segundo argumento de range() debe ser mayor que el primero."
      ]
    },
    {
      "cell_type": "code",
      "execution_count": null,
      "metadata": {
        "id": "z2wrWjHLLbX4"
      },
      "outputs": [],
      "source": [
        "#for con listas\n",
        "paises = ['Canada', 'EU', 'México', 'Guatemala', 'Belice', 'Honduras', 'El Salvador', 'Micaragua']\n",
        "for pais in paises:\n",
        "  print(pais)"
      ]
    },
    {
      "cell_type": "code",
      "execution_count": null,
      "metadata": {
        "id": "BmJXA40KLhmV"
      },
      "outputs": [],
      "source": [
        "conteo = [4, 3, 2, 1, 0]\n",
        "for numero in conteo:\n",
        "    print(numero)\n",
        "    time.sleep(2)\n",
        "\n",
        "print(\"SALIDA!!\")"
      ]
    },
    {
      "cell_type": "code",
      "execution_count": null,
      "metadata": {
        "id": "J7zfVnZ0Ll8n"
      },
      "outputs": [],
      "source": [
        "#break\n",
        "print(\"La instrucción break:\")\n",
        "for i in range(1, 6):\n",
        "    if i == 3:\n",
        "        break\n",
        "    print(i)"
      ]
    },
    {
      "cell_type": "code",
      "execution_count": null,
      "metadata": {
        "id": "l2fU63_FLqBn"
      },
      "outputs": [],
      "source": [
        "#continue\n",
        "print(\"\\nLa instrucción continue:\")\n",
        "for i in range(1, 6):\n",
        "    if i == 3:\n",
        "        continue\n",
        "    print(i)"
      ]
    },
    {
      "cell_type": "code",
      "execution_count": null,
      "metadata": {
        "id": "hTwxWHmVMbjB"
      },
      "outputs": [],
      "source": [
        "numero_grande = 0\n",
        "\n",
        "while True:\n",
        "    numero = int(input(\"Ingresa un número o escribe 0 para finalizar el programa: \"))\n",
        "    if numero == 0:\n",
        "        break\n",
        "    if numero > numero_grande:\n",
        "        numero_grande = numero\n",
        "\n",
        "\n",
        "print(\"El número más grande es\", numero_grande)"
      ]
    },
    {
      "cell_type": "code",
      "execution_count": null,
      "metadata": {
        "id": "daC_aZSfNjdk"
      },
      "outputs": [],
      "source": [
        "numero_grande = 0\n",
        "\n",
        "numero = int(input(\"Ingresa un número o escribe 0 para finalizar el programa: \"))\n",
        "\n",
        "while numero != 0:\n",
        "    if numero == 0:\n",
        "        continue\n",
        "\n",
        "    if numero > numero_grande:\n",
        "        numero_grande = numero\n",
        "    numero = int(input(\"Ingresa un número o escribe 0 para finalizar el programa: \"))\n",
        "\n",
        "\n",
        "print(\"El número más grande es\", numero_grande)"
      ]
    },
    {
      "cell_type": "markdown",
      "metadata": {
        "id": "FEQm2zmXNpfr"
      },
      "source": [
        "1\n",
        "Tu tarea aquí es muy especial: ¡Debes diseñar un devorador de vocales! Escribe un programa que use:\n",
        "\n",
        "un bucle for;\n",
        "* el concepto de ejecución condicional (if-elif-else).\n",
        "* la sentencia continue.\n",
        "Tu programa debe:\n",
        "\n",
        "* pedir al usuario que ingrese una palabra.\n",
        "* utiliza la ejecución condicional y la instrucción continue para \"devorar\" las siguientes vocales A, E, I, O, U de la palabra ingresada.\n",
        "* imprime las letras no consumidas en la pantalla, cada una de ellas en una línea separada"
      ]
    },
    {
      "cell_type": "markdown",
      "metadata": {
        "id": "OYJu_EbfN__L"
      },
      "source": [
        "2 Crea un bucle for que cuente de 0 a 10, e imprima números impares en la pantalla."
      ]
    },
    {
      "cell_type": "markdown",
      "metadata": {
        "id": "fSZM5VUpOFEW"
      },
      "source": [
        "3 Crea un programa con un bucle for y una sentencia break. El programa debe iterar sobre los caracteres en una dirección de correo electrónico, salir del bucle cuando llegue al símbolo @ e imprimir la parte antes de @ en una línea."
      ]
    },
    {
      "cell_type": "markdown",
      "metadata": {
        "id": "6C18oAoYMjDr"
      },
      "source": [
        "# POO\n",
        "https://docs.google.com/presentation/d/17GdWdk_hdPkQEr9CPAkV1JcscTy22Z8I246_8AraV3A/edit?usp=sharing"
      ]
    },
    {
      "cell_type": "code",
      "execution_count": null,
      "metadata": {
        "id": "3ixIXKC5Mm99"
      },
      "outputs": [],
      "source": [
        "class Usuario():\n",
        "    def __init__ (self,nombre,folio,telefono,correo):\n",
        "      self.nombre=nombre\n",
        "      self.folio= folio\n",
        "      self.telefono = telefono\n",
        "      self.correo = correo"
      ]
    },
    {
      "cell_type": "code",
      "execution_count": null,
      "metadata": {
        "id": "SfDZueCNM7iY"
      },
      "outputs": [],
      "source": [
        "#Instanciar un usuario\n",
        "usuario1=Usuario('juan','1212','2323232332','juan@correo.com')"
      ]
    },
    {
      "cell_type": "code",
      "execution_count": null,
      "metadata": {
        "id": "cTEAIEbhNRNA"
      },
      "outputs": [],
      "source": [
        "usuario2=Usuario('pedro','cdcc343','77464755','pedro@correo.com')"
      ]
    },
    {
      "cell_type": "code",
      "execution_count": null,
      "metadata": {
        "id": "fYwhmq0VNVE8"
      },
      "outputs": [],
      "source": [
        "#acceder al nombre\n",
        "usuario2.nombre"
      ]
    },
    {
      "cell_type": "code",
      "execution_count": null,
      "metadata": {
        "id": "FuCQiUIfNe1F"
      },
      "outputs": [],
      "source": [
        "#modificando el nombre\n",
        "usuario2.nombre='carlos'\n",
        "usuario2.nombre"
      ]
    },
    {
      "cell_type": "code",
      "execution_count": null,
      "metadata": {
        "id": "lzoLk2gENju3"
      },
      "outputs": [],
      "source": [
        "#accede a los datos de usario1"
      ]
    },
    {
      "cell_type": "code",
      "execution_count": null,
      "metadata": {
        "id": "wMqZOBFMNoBT"
      },
      "outputs": [],
      "source": [
        "#agregando solo a usuario 1 una ubicación\n",
        "usuario1.ubicacion='CDMX'"
      ]
    },
    {
      "cell_type": "code",
      "execution_count": null,
      "metadata": {
        "id": "0YTCCtI4Nyvb"
      },
      "outputs": [],
      "source": [
        "print('la ubicacion del usuario es ',usuario1.ubicacion)"
      ]
    },
    {
      "cell_type": "markdown",
      "metadata": {
        "id": "UW9vrrOsN4ri"
      },
      "source": [
        "clase con método"
      ]
    },
    {
      "cell_type": "code",
      "execution_count": null,
      "metadata": {
        "id": "Fl2NA4k1N7c-"
      },
      "outputs": [],
      "source": [
        "class Usuario():\n",
        "  def __init__ (self,nombre,folio,telefono,correo):\n",
        "    self.nombre=nombre\n",
        "    self.folio= folio\n",
        "    self.telefono = telefono\n",
        "    self.correo = correo\n",
        "    self.talleres =[]\n",
        "\n",
        "  def mostar_usuario(self):\n",
        "    return f'''    nombre : {self.nombre}\n",
        "    folio: {self.folio}\n",
        "    telefono: {self.telefono}\n",
        "    correo: {self.correo}'''"
      ]
    },
    {
      "cell_type": "code",
      "execution_count": null,
      "metadata": {
        "colab": {
          "base_uri": "https://localhost:8080/"
        },
        "id": "ueGjGv_5OAEI",
        "outputId": "775ff689-738f-49ce-ba9b-edad2e68c47f"
      },
      "outputs": [
        {
          "data": {
            "text/plain": [
              "('juan', '1212')"
            ]
          },
          "execution_count": 15,
          "metadata": {},
          "output_type": "execute_result"
        }
      ],
      "source": [
        "usuario3=Usuario('juan','1212','2323232332','juan@correo.com')\n",
        "usuario3.mostar_usuario()"
      ]
    },
    {
      "cell_type": "code",
      "execution_count": null,
      "metadata": {
        "id": "995MEw5HOKs2"
      },
      "outputs": [],
      "source": [
        "class Usuario():\n",
        "  def __init__ (self,nombre,folio,telefono,correo):\n",
        "    self.nombre=nombre\n",
        "    self.folio= folio\n",
        "    self.telefono = telefono\n",
        "    self.correo = correo\n",
        "    self.talleres =[]\n",
        "\n",
        "  def mostar_usuario(self):\n",
        "    return f'''    nombre : {self.nombre}\n",
        "    folio: {self.folio}\n",
        "    telefono: {self.telefono}\n",
        "    correo: {self.correo}'''\n",
        "\n",
        "  def modificar_usuario(self):\n",
        "    self.nombre = input(f'ingresa el nuevo nombre a cambiar por {self.nombre}')\n",
        "    self.folio = input(f'ingresa el nuevo folio a cambiar por {self.folio}')\n",
        "    self.telefono = input(f'ingresa el nuevo telefono a cambiar por {self.telefono}')\n",
        "    self.correo = input(f'ingresa el nuevo correo a cambiar por {self.correo}')"
      ]
    },
    {
      "cell_type": "code",
      "execution_count": null,
      "metadata": {
        "id": "uq5TSbWJOOZv"
      },
      "outputs": [],
      "source": [
        "usuario3=Usuario('juan','1212','2323232332','juan@correo.com')\n",
        "usuario3.modificar_usuario()"
      ]
    },
    {
      "cell_type": "code",
      "execution_count": null,
      "metadata": {
        "id": "hboEwKt2OUbu"
      },
      "outputs": [],
      "source": [
        "class Usuario():\n",
        "  def __init__ (self,nombre,folio,telefono,correo):\n",
        "    self.nombre=nombre\n",
        "    self.folio= folio\n",
        "    self.telefono = telefono\n",
        "    self.correo = correo\n",
        "    self.talleres =[]\n",
        "\n",
        "  def mostar_usuario(self):\n",
        "    print(f'''nombre : {self.nombre}\n",
        "          folio: {self.folio}\n",
        "          telefono: {self.telefono}\n",
        "          correo: {self.correo}''')\n",
        "\n",
        "  def modificar_usuario(self):\n",
        "    self.nombre = input(f'ingresa el nuevo nombre a cambiar por {self.nombre}')\n",
        "    self.folio = input(f'ingresa el nuevo folio a cambiar por {self.folio}')\n",
        "    self.telefono = input(f'ingresa el nuevo telefono a cambiar por {self.telefono}')\n",
        "    self.correo = input(f'ingresa el nuevo correo a cambiar por {self.correo}')\n",
        "\n",
        "  def checar_taller(self,taller):\n",
        "    if (taller in self.talleres):\n",
        "      return f'el usuario {self.nombre} si esta inscrito en el talller de {taller}'\n",
        "    else:\n",
        "      return f'el usuario no esta en el taller'"
      ]
    },
    {
      "cell_type": "code",
      "execution_count": null,
      "metadata": {
        "id": "dYDdm54UOZ6_"
      },
      "outputs": [],
      "source": [
        "usuario1=Usuario('david','jnjnc','njnc','ccjdcn')\n",
        "usuario1.talleres.append('huertos')"
      ]
    },
    {
      "cell_type": "code",
      "execution_count": null,
      "metadata": {
        "colab": {
          "base_uri": "https://localhost:8080/"
        },
        "id": "OAiTdJwEOcKl",
        "outputId": "8f439f1d-04cb-4f26-8f47-74c2f480b1c4"
      },
      "outputs": [
        {
          "data": {
            "text/plain": [
              "['codigo', 'ajedrez', 'huertos']"
            ]
          },
          "execution_count": 21,
          "metadata": {},
          "output_type": "execute_result"
        }
      ],
      "source": [
        "usuario1.talleres=['codigo','ajedrez','huertos']\n",
        "usuario1.talleres"
      ]
    },
    {
      "cell_type": "code",
      "execution_count": null,
      "metadata": {
        "colab": {
          "base_uri": "https://localhost:8080/",
          "height": 35
        },
        "id": "jN9JQJJpOd7R",
        "outputId": "cdb2a580-205a-4cdd-bd52-bd22a2270d5a"
      },
      "outputs": [
        {
          "data": {
            "application/vnd.google.colaboratory.intrinsic+json": {
              "type": "string"
            },
            "text/plain": [
              "'el usuario no esta en el taller'"
            ]
          },
          "execution_count": 23,
          "metadata": {},
          "output_type": "execute_result"
        }
      ],
      "source": [
        "usuario1.checar_taller('CORTE')"
      ]
    },
    {
      "cell_type": "markdown",
      "metadata": {
        "id": "HscPkejlOhrs"
      },
      "source": [
        "#HERENCIA"
      ]
    },
    {
      "cell_type": "code",
      "execution_count": null,
      "metadata": {
        "id": "ntlQRyQJOjmu"
      },
      "outputs": [],
      "source": [
        "class Usuario():\n",
        "  def __init__ (self,nombre,folio,telefono,correo):\n",
        "    self.nombre=nombre\n",
        "    self.folio= folio\n",
        "    self.telefono = telefono\n",
        "    self.correo = correo\n",
        "    self.talleres =[]\n",
        "\n",
        "  def mostar_usuario(self):\n",
        "    print(f'''nombre : {self.nombre}\n",
        "          folio: {self.folio}\n",
        "          telefono: {self.telefono}\n",
        "          correo: {self.correo}''')\n",
        "\n",
        "  def modificar_usuario(self):\n",
        "    self.nombre = input(f'ingresa el nuevo nombre a cambiar por {self.nombre}')\n",
        "    self.folio = input(f'ingresa el nuevo folio a cambiar por {self.folio}')\n",
        "    self.telefono = input(f'ingresa el nuevo telefono a cambiar por {self.telefono}')\n",
        "    self.correo = input(f'ingresa el nuevo correo a cambiar por {self.correo}')\n",
        "\n",
        "  def checar_taller(self,taller):\n",
        "    return taller in self.talleres\n",
        "\n",
        "class Usuario_menor(Usuario):\n",
        "  def __init__(self,nombre,folio,telefono,correo,tutor):\n",
        "    self.tutor=tutor\n",
        "    super().__init__(nombre,folio,telefono,correo)"
      ]
    },
    {
      "cell_type": "code",
      "execution_count": null,
      "metadata": {
        "id": "BFtnaS5LOyuN"
      },
      "outputs": [],
      "source": [
        "usuario_menor1=Usuario_menor('juan','1212','2323232332','juan@correo.com','pedro')\n",
        "usuario_menor1.tutor"
      ]
    },
    {
      "cell_type": "code",
      "execution_count": null,
      "metadata": {
        "id": "rbFvj79yO1el"
      },
      "outputs": [],
      "source": [
        "usuario_menor1.nombre"
      ]
    },
    {
      "cell_type": "code",
      "execution_count": null,
      "metadata": {
        "id": "TbCEqIKJO30j"
      },
      "outputs": [],
      "source": [
        "usuario_menor1.talleres=['pintura','robotica']\n",
        "usuario_menor1.checar_taller('huertos')"
      ]
    },
    {
      "cell_type": "markdown",
      "metadata": {
        "id": "4juXtG4sO-Xq"
      },
      "source": [
        "###OTRO EJEMPLO"
      ]
    },
    {
      "cell_type": "code",
      "execution_count": null,
      "metadata": {
        "id": "5QplJWrHPAUE"
      },
      "outputs": [],
      "source": [
        "class Empleado():\n",
        "    def __init__(self, nombre, puesto, sueldo):\n",
        "        self.nombre=nombre\n",
        "        self.puesto=puesto\n",
        "        self.sueldoBruto=sueldo\n",
        "\n",
        "    def calcularSueldo(self, descuentos):\n",
        "        return self.sueldoBruto-descuentos\n",
        "\n",
        "class Gerente(Empleado): #esta clase es hija de la superclase Empleado, pero su metodo calcularSueldo pide parámetros distintos a la super\n",
        "    def calcularSueldo(self, descuentos, bonificaciones):\n",
        "        return self.sueldoBruto-descuentos+bonificaciones\n",
        "\n",
        "marcos=Empleado(\"Marcos Ríos\", 'chofer', 6000) #este es el objeto marcos\n",
        "julia=Gerente(\"Julia Campos\", 'gerente', 20000) #este es el objeto de la clase gerente con los mismos atributos\n",
        "\n",
        "print(marcos.calcularSueldo(3000)) #solo requiere de un atributo\n",
        "\n",
        "print(julia.calcularSueldo(1000, 2000))"
      ]
    },
    {
      "cell_type": "markdown",
      "metadata": {
        "id": "_pd1ZeVBPGfW"
      },
      "source": [
        "#ENCAPSULAMIENTO"
      ]
    },
    {
      "cell_type": "code",
      "execution_count": null,
      "metadata": {
        "id": "mmhu1VF1PKj3"
      },
      "outputs": [],
      "source": [
        "class Usuario:\n",
        "  def __init__ (self,nombre,folio,telefono,correo):\n",
        "    self._nombre=nombre   #este guion  indicara esta protegido Lo cual establece que solo puede ser accedido por esa clase y sus sub-clases\n",
        "    self.folio= folio\n",
        "    self.telefono = telefono\n",
        "    self.correo = correo\n",
        "    self.talleres =[]\n",
        "\n",
        "usuario6=Usuario('daniel','dfds','554875485','danielcorreo@correo.com')\n",
        "usuario6.nombre  #error\n"
      ]
    },
    {
      "cell_type": "code",
      "execution_count": null,
      "metadata": {
        "id": "majLzk6uPST8"
      },
      "outputs": [],
      "source": [
        "usuario6._nombre"
      ]
    },
    {
      "cell_type": "code",
      "execution_count": null,
      "metadata": {
        "id": "Mjjma6_WPTb8"
      },
      "outputs": [],
      "source": [
        "class Usuario:\n",
        "  def __init__ (self,nombre,folio,telefono,correo):\n",
        "    self.__nombre=nombre   #este guion doble indicara que es privado solo podrá ser accedido o modificado si se especifica la clase precedida por un guión bajo seguida del atributo precedido por doble guión bajo.\n",
        "    self.folio= folio\n",
        "    self.telefono = telefono\n",
        "    self.correo = correo\n",
        "    self.talleres =[]\n",
        "\n",
        "usuario7=Usuario('daniel','dfds','554875485','danielcorreo@correo.com')\n",
        "usuario7.__nombre  #error"
      ]
    },
    {
      "cell_type": "code",
      "execution_count": null,
      "metadata": {
        "id": "6KchF3o8PYI0"
      },
      "outputs": [],
      "source": [
        "usuario7._Usuario__nombre"
      ]
    },
    {
      "cell_type": "code",
      "execution_count": null,
      "metadata": {
        "id": "b42vVN6_Pb4z"
      },
      "outputs": [],
      "source": [
        "class Usuario:\n",
        "  def __init__ (self,nombre,folio,telefono,correo):\n",
        "    self.__nombre=nombre\n",
        "    self.folio= folio\n",
        "    self.telefono = telefono\n",
        "    self.correo = correo\n",
        "    self.talleres =[]\n",
        "\n",
        "  @property\n",
        "  def nombre(self):\n",
        "    return self.__nombre\n",
        "\n",
        "\n",
        "  @nombre.setter #Propiedad SETTER\n",
        "  def nombre(self, nuevo):\n",
        "      print (\"Modificando nombre..\")\n",
        "      self.__nombre = nuevo\n",
        "      print (\"El nombre se ha modificado por\")\n",
        "      print (self.__nombre) #Aquí vuelvo a pedir que retorne el atributo para confirmar"
      ]
    },
    {
      "cell_type": "code",
      "execution_count": null,
      "metadata": {
        "id": "vmyLNhVGPeqd"
      },
      "outputs": [],
      "source": [
        "usuario7=Usuario('daniel','dfds','554875485','danielcorreo@correo.com')\n",
        "usuario7.nombre='pedro'\n",
        "usuario7.nombre"
      ]
    },
    {
      "cell_type": "markdown",
      "metadata": {
        "id": "SOhuNMeTPokf"
      },
      "source": [
        "###OTRO EJEMPLO"
      ]
    },
    {
      "cell_type": "code",
      "execution_count": null,
      "metadata": {
        "id": "J1T52AgNPrZh"
      },
      "outputs": [],
      "source": [
        "class Usuario:\n",
        "  def __init__ (self,nombre,folio,telefono,correo):\n",
        "    self.__nombre=nombre\n",
        "    self.__folio= folio\n",
        "    self.__telefono = telefono\n",
        "    self.__correo = correo\n",
        "\n",
        "  @property\n",
        "  def nombre(self):\n",
        "    return self.__nombre\n",
        "\n",
        "  @nombre.setter #Propiedad SETTER\n",
        "  def nombre(self, nuevo):\n",
        "    self.__nombre=nuevo\n",
        "    return self.__nombre\n",
        "\n",
        "  @property\n",
        "  def folio(self):\n",
        "    return self.__folio\n",
        "\n",
        "  @folio.setter #Propiedad SETTER\n",
        "  def folio(self, nuevofolio):\n",
        "    self.__folio=nuevofolio\n",
        "    return self.__folio\n",
        "\n",
        "  @property\n",
        "  def telefono(self):\n",
        "    return self.__telefono\n",
        "\n",
        "  @telefono.setter #Propiedad SETTER\n",
        "  def telefono(self, nuevotelefono):\n",
        "    self.__telefono=nuevotelefono\n",
        "    return self.__telefono\n",
        "\n",
        "  @property\n",
        "  def correo(self):\n",
        "    return self.__correo\n",
        "\n",
        "  @correo.setter #Propiedad SETTER\n",
        "  def correo(self, nuevocorreo):\n",
        "    self.__correo=nuevocorreo\n",
        "    return self.__correo\n",
        "\n",
        "  def mostrar(self):\n",
        "    return \"Nombre:\" + self.nombre + \" - Folio:\"+self.folio + \" - telefono:\" + self.telefono + \" - correo \" + self.correo\n",
        "\n",
        "  def checar_taller(self,taller):\n",
        "    if (taller in self.talleres):\n",
        "      return f'el usuario {self.nombre} si esta inscrito en el talller de {taller}'\n",
        "    else:\n",
        "      return f'el usuario no esta en el taller'\n",
        "\n",
        "  def jugar(self):\n",
        "    import time\n",
        "    print('BINVENIDO ',self.__nombre)\n",
        "    print('''-------------------------------------------\n",
        "    -------ADIVINA EL NÚMERO SECRETO-------------\n",
        "    ---------TIENES 5 OPORTUNIDADES--------------\n",
        "    ---------------------------------------------''')\n",
        "    time.sleep(5)\n",
        "    import random\n",
        "    numero_secreto = random.randint(1,100)\n",
        "    num =int(input('Adivina el número secreto'))\n",
        "    opor = 1\n",
        "    while numero_secreto != num and opor < 6:\n",
        "      opor = opor + 1\n",
        "      if num < numero_secreto:\n",
        "        print(f'{num} es menor al número secreto')\n",
        "\n",
        "      else:\n",
        "        print(f'{num} es mayor al número secreto')\n",
        "      num =int(input('Adivina el número secreto'))\n",
        "    if num == numero_secreto:\n",
        "      print(f'felicidades!!!!!{self.__nombre} has atinado al número en {opor} oportunidades')\n",
        "    else:\n",
        "      print(f'lástima!!!!!{self.__nombre} se terminaron tus oportunidades, el número secreto era {numero_secreto}')\n",
        "\n"
      ]
    },
    {
      "cell_type": "code",
      "execution_count": null,
      "metadata": {
        "id": "aR1cPK65Pxo8"
      },
      "outputs": [],
      "source": [
        "usuario9=Usuario('daniel','dfds','554875485','danielcorreo@correo.com')\n",
        "usuario9.nombre='jose'\n",
        "usuario9.mostrar()"
      ]
    },
    {
      "cell_type": "code",
      "execution_count": null,
      "metadata": {
        "id": "gLkc0fX5Pzgc"
      },
      "outputs": [],
      "source": [
        "usuario9.jugar()"
      ]
    },
    {
      "cell_type": "markdown",
      "metadata": {
        "id": "WS4cYYKRkiqx"
      },
      "source": [
        "## Funciones vs métodos\n",
        "Un método es un tipo específico de función - se comporta como una función y se parece a una función, pero difiere en la forma en que actúa y en su estilo de invocación.\n",
        "\n",
        "Una función no pertenece a ningún dato - obtiene datos, puede crear nuevos datos y (generalmente) produce un resultado.\n",
        "\n",
        "Un método hace todas estas cosas, pero también puede cambiar el estado de una entidad seleccionada.\n",
        "\n",
        "Un método es propiedad de los datos para los que trabaja, mientras que una función es propiedad de todo el código.\n",
        "\n",
        "Esto también significa que invocar un método requiere alguna especificación de los datos a partir de los cuales se invoca el método.\n",
        "\n",
        "Nota: el nombre del método está precedido por el nombre de los datos que posee el método. A continuación, se agrega un punto, seguido del nombre del método y un par de paréntesis que encierran los argumentos.\n",
        "\n",
        "El método se comportará como una función, pero puede hacer algo más - puede cambiar el estado interno de los datos a partir de los cuales se ha invocado."
      ]
    },
    {
      "cell_type": "markdown",
      "metadata": {
        "id": "NShU5W-3kmoc"
      },
      "source": [
        "### CADENAS\n",
        "count(value) Devuelve el número de veces que se encuentra la busqueda en la cadena. Los parámetros opcionales start y end definen una subcadena en la que buscar."
      ]
    },
    {
      "cell_type": "code",
      "execution_count": null,
      "metadata": {
        "colab": {
          "base_uri": "https://localhost:8080/"
        },
        "id": "cpotCnlWkpGs",
        "outputId": "d760d29b-f659-4552-8ea5-31862bce1457"
      },
      "outputs": [
        {
          "data": {
            "text/plain": [
              "0"
            ]
          },
          "execution_count": 3,
          "metadata": {},
          "output_type": "execute_result"
        }
      ],
      "source": [
        "  s = \"Hola mundo\"\n",
        "  s.count(\"1\")"
      ]
    },
    {
      "cell_type": "markdown",
      "metadata": {
        "id": "POyHwytDkscc"
      },
      "source": [
        "find(sub) Devuelve la posición en la que se encontró por primera vez sub en la cadena o -1 si no se encontró."
      ]
    },
    {
      "cell_type": "code",
      "execution_count": null,
      "metadata": {
        "colab": {
          "base_uri": "https://localhost:8080/"
        },
        "id": "hScl6m7Tkvdd",
        "outputId": "46b564c2-37d1-4a28-c000-d9cb7c3803d9"
      },
      "outputs": [
        {
          "data": {
            "text/plain": [
              "52"
            ]
          },
          "execution_count": 4,
          "metadata": {},
          "output_type": "execute_result"
        }
      ],
      "source": [
        "cadenaDeTexto = \"Es peor cometer una injusticia que padecerla porque quien la comete se convierte en injusto y quien la padece no.\"\n",
        "cadenaDeTexto.find('quien')"
      ]
    },
    {
      "cell_type": "markdown",
      "metadata": {
        "id": "K8kI0oSIkxhc"
      },
      "source": [
        "join(secuence) Devuelve una cadena resultante de concatenar las cadenas de la secuencia separadas por la cadena sobre la que se llama el método."
      ]
    },
    {
      "cell_type": "code",
      "execution_count": null,
      "metadata": {
        "colab": {
          "base_uri": "https://localhost:8080/"
        },
        "id": "VjlL446Ek0Sk",
        "outputId": "02f6f9f2-06c9-4f72-bdda-bad58e5b4096"
      },
      "outputs": [
        {
          "name": "stdout",
          "output_type": "stream",
          "text": [
            "1*2*3*4\n"
          ]
        }
      ],
      "source": [
        "list1 = ['1','2','3','4']\n",
        "s = \"*\"\n",
        "s = s.join(list1)\n",
        "print(s)"
      ]
    },
    {
      "cell_type": "markdown",
      "metadata": {
        "id": "H9r3A-RCk472"
      },
      "source": [
        "partition(sep) Busca el separador (sep) en la cadena y devuelve una tupla con la subcadena hasta dicho separador, el separador en si, y la subcadena del separador hasta el final de la cadena. Si no se encuentra el separador, la tupla contendrá la cadena en si y dos cadenas vacías."
      ]
    },
    {
      "cell_type": "code",
      "execution_count": null,
      "metadata": {
        "colab": {
          "base_uri": "https://localhost:8080/"
        },
        "id": "Yu53JZs0k8Nb",
        "outputId": "188a8da4-5ae3-451d-8c6e-c83a03ef6bf3"
      },
      "outputs": [
        {
          "data": {
            "text/plain": [
              "('Juan ', 'G', 'ónzalez Pérez')"
            ]
          },
          "execution_count": 9,
          "metadata": {},
          "output_type": "execute_result"
        }
      ],
      "source": [
        "nombre = \"Juan Gónzalez Pérez\"\n",
        "nombre.partition(\"G\")"
      ]
    },
    {
      "cell_type": "markdown",
      "metadata": {
        "id": "Jf6DQ94Pk_IL"
      },
      "source": [
        "replace(old) Devuelve una cadena en la que se han reemplazado todas las ocurrencias de la cadena old por la cadena new. Si se especifica el parámetro count, este indica el número máximo de ocurrencias a reemplazar."
      ]
    },
    {
      "cell_type": "code",
      "execution_count": null,
      "metadata": {
        "colab": {
          "base_uri": "https://localhost:8080/"
        },
        "id": "Bb6rINO_lCEu",
        "outputId": "66e10f29-54c2-4e6b-fb0e-f06504613d0b"
      },
      "outputs": [
        {
          "name": "stdout",
          "output_type": "stream",
          "text": [
            "Estimado Sr. Juan Pérez:\n"
          ]
        }
      ],
      "source": [
        "buscar = \"nombre \"\n",
        "reemplazar_por = \"Juan Pérez\"\n",
        "print(\"Estimado Sr. nombre :\".replace(buscar, reemplazar_por) )"
      ]
    },
    {
      "cell_type": "code",
      "execution_count": null,
      "metadata": {
        "colab": {
          "base_uri": "https://localhost:8080/"
        },
        "id": "LoZ6UrmUlESq",
        "outputId": "16f31ec1-9f80-42aa-bcb5-7550da1b9bca"
      },
      "outputs": [
        {
          "name": "stdout",
          "output_type": "stream",
          "text": [
            "no puedes cambiar un dato no le especificas si hay limite :\n"
          ]
        }
      ],
      "source": [
        " print(\"si puedes cambiar un dato si le especificas si hay limite :\".replace(\"si\", \"no\",2) )"
      ]
    },
    {
      "cell_type": "markdown",
      "metadata": {
        "id": "iaVZbjvwlG-q"
      },
      "source": [
        "split() Devuelve una lista conteniendo las subcadenas en las que se divide nuestra cadena al dividirlas por el delimitador sep. En el caso de que no se especifique sep, se usan espacios. Si se especifica maxsplit, este indica el número máximo de particiones a realizar."
      ]
    },
    {
      "cell_type": "code",
      "execution_count": null,
      "metadata": {
        "colab": {
          "base_uri": "https://localhost:8080/"
        },
        "id": "dC4S0kuVlJfh",
        "outputId": "d26f13f1-48ac-4aba-f405-3832f0abdca3"
      },
      "outputs": [
        {
          "data": {
            "text/plain": [
              "['Hola']"
            ]
          },
          "execution_count": 13,
          "metadata": {},
          "output_type": "execute_result"
        }
      ],
      "source": [
        "cadena = 'Hola compañeros del taller'\n",
        "cadena.split()"
      ]
    },
    {
      "cell_type": "code",
      "execution_count": null,
      "metadata": {
        "colab": {
          "base_uri": "https://localhost:8080/"
        },
        "id": "pJV0thU7lLke",
        "outputId": "4f37eb77-65f4-4bc5-8357-0f41fd97f3ab"
      },
      "outputs": [
        {
          "data": {
            "text/plain": [
              "['80', '1', '20', '12', '44']"
            ]
          },
          "execution_count": 14,
          "metadata": {},
          "output_type": "execute_result"
        }
      ],
      "source": [
        "cadena = \"80Edad:1Edad:20Edad:12Edad:44\"\n",
        "separador = \"Edad:\"\n",
        "cadena.split(separador)"
      ]
    },
    {
      "cell_type": "code",
      "execution_count": null,
      "metadata": {
        "id": "R81pMieMlNb6"
      },
      "outputs": [],
      "source": [
        "cadena = \"Hola mundo estamos explicando el funcionamiento de split en Python\"\n",
        "separador = \" \"\n",
        "cadena.split(separador)"
      ]
    },
    {
      "cell_type": "code",
      "execution_count": null,
      "metadata": {
        "id": "85veUtlWlP_S"
      },
      "outputs": [],
      "source": [
        "palabra='popocatepetl'\n",
        "\n",
        "while True:\n",
        "  letra=input('adivina las letras que componen la palabra secreta')\n",
        "  if letra in palabra:\n",
        "    print('si esta en la palabra',palabra.count(letra))\n",
        "  else:\n",
        "    print('no esta en la palabra')\n",
        "    i = i - 1\n",
        "\n",
        "\n",
        "\n",
        "\n",
        "\n"
      ]
    },
    {
      "cell_type": "markdown",
      "metadata": {
        "id": "wq306ko-lU9r"
      },
      "source": [
        "# Tipos de secuencia y mutabilidad.\n",
        "\n",
        "Un tipo de secuencia es un tipo de dato en Python el cual es capaz de almacenar más de un valor (o ninguno si la secuencia esta vacía), los cuales pueden ser secuencialmente (de ahí el nombre) examinados, elemento por elemento.\n",
        "\n",
        "Debido a que el bucle for es una herramienta especialmente diseñada para iterar a través de las secuencias, podemos definirlas de la siguiente manera: una secuencia es un tipo de dato que puede ser escaneado por el bucle for.\n",
        "\n",
        "Hasta ahora, has trabajado con una secuencia en Python - la lista. La lista es un clásico ejemplo de una secuencia de Python. Aunque existen otras secuencias dignas de mencionar, las cuales se presentaran a continuación.\n",
        "\n",
        "La segunda noción - la mutabilidad - es una propiedad de cualquier tipo de dato en Python que describe su disponibilidad para poder cambiar libremente durante la ejecución de un programa. Existen dos tipos de datos en Python: mutables e inmutables.\n",
        "\n",
        "Los datos mutables pueden ser actualizados libremente en cualquier momento - a esta operación se le denomina \"in situ\"."
      ]
    },
    {
      "cell_type": "markdown",
      "metadata": {
        "id": "Q71xeQqElYKS"
      },
      "source": [
        "La función len()\n",
        "\n",
        "La longitud de una lista puede variar durante la ejecución. Se pueden agregar nuevos elementos a la lista, mientras que otros pueden eliminarse de ella. Esto significa que la lista es una entidad muy dinámica.\n",
        "\n",
        "Si deseas verificar la longitud actual de la lista, puedes usar una función llamada len() (su nombre proviene de length - longitud).\n",
        "\n",
        "La función toma el nombre de la lista como un argumento y devuelve el número de elementos almacenados actualmente dentro de la lista (en otras palabras - la longitud de la lista)."
      ]
    },
    {
      "cell_type": "code",
      "execution_count": null,
      "metadata": {
        "colab": {
          "background_save": true
        },
        "id": "Xt7MY0kglaoi",
        "outputId": "23373873-7a59-49d5-b9a5-26b75e03c843"
      },
      "outputs": [
        {
          "data": {
            "text/plain": [
              "5"
            ]
          },
          "execution_count": 1,
          "metadata": {},
          "output_type": "execute_result"
        }
      ],
      "source": [
        "numeros=[111,15,45,78,85]\n",
        "len(numeros)"
      ]
    },
    {
      "cell_type": "markdown",
      "metadata": {
        "id": "w9zZVKkFleXa"
      },
      "source": [
        "### Eliminando elementos de una lista\n",
        "Cualquier elemento de la lista puede ser eliminado en cualquier momento - esto se hace con una instrucción llamada del (eliminar). Nota: es una instrucción, no una función.\n",
        "\n",
        "Tienes que apuntar al elemento que quieres eliminar - desaparecerá de la lista y la longitud de la lista se reducirá en uno."
      ]
    },
    {
      "cell_type": "code",
      "execution_count": null,
      "metadata": {
        "id": "fW4skCQ4lgr7"
      },
      "outputs": [],
      "source": [
        "del numeros[1]\n",
        "print(len(numeros))\n",
        "print(numeros)"
      ]
    },
    {
      "cell_type": "markdown",
      "metadata": {
        "id": "6CblFGUuljvR"
      },
      "source": [
        "### Los índices negativos son legales\n",
        "Puede parecer extraño, pero los índices negativos son válidos, y pueden ser muy útiles.\n",
        "\n",
        "Un elemento con un índice igual a -1 es el último en la lista."
      ]
    },
    {
      "cell_type": "code",
      "execution_count": null,
      "metadata": {
        "id": "CK2uyCmIlmQp"
      },
      "outputs": [],
      "source": [
        "numeros = [111, 7, 2, 1]\n",
        "print(numeros[-1])"
      ]
    },
    {
      "cell_type": "markdown",
      "metadata": {
        "id": "uJ_0Pe9Glopc"
      },
      "source": [
        "Agregando elementos a una lista: append() y insert()\n",
        "Un nuevo elemento puede ser añadido al final de la lista existente:"
      ]
    },
    {
      "cell_type": "code",
      "execution_count": null,
      "metadata": {
        "colab": {
          "background_save": true
        },
        "id": "xt_UXAaplssg",
        "outputId": "f179dbe4-b90b-4de6-9e98-a74f76ee9841"
      },
      "outputs": [
        {
          "name": "stdout",
          "output_type": "stream",
          "text": [
            "4\n",
            "[111, 7, 2, 1]\n",
            "5\n",
            "[111, 7, 2, 1, 4]\n",
            "6\n",
            "[222, 111, 7, 2, 1, 4]\n"
          ]
        }
      ],
      "source": [
        "numbers = [111, 7, 2, 1]\n",
        "print(len(numbers))\n",
        "print(numbers)\n",
        "\n",
        "###\n",
        "\n",
        "numbers.append(4)\n",
        "\n",
        "print(len(numbers))\n",
        "print(numbers)\n",
        "\n",
        "###\n",
        "\n",
        "numbers.insert(0, 222)\n",
        "print(len(numbers))\n",
        "print(numbers)"
      ]
    },
    {
      "cell_type": "code",
      "execution_count": null,
      "metadata": {
        "colab": {
          "base_uri": "https://localhost:8080/"
        },
        "id": "tQ6oFoe6lvJw",
        "outputId": "e45cccae-917a-46d1-ca6b-e5f56f5b695b"
      },
      "outputs": [
        {
          "name": "stdout",
          "output_type": "stream",
          "text": [
            "[1, 2, 3, 4, 5]\n"
          ]
        }
      ],
      "source": [
        "my_list = []  # Creando una lista vacía.\n",
        "\n",
        "for i in range(5):\n",
        "    my_list.append(i + 1)\n",
        "\n",
        "print(my_list)\n"
      ]
    },
    {
      "cell_type": "code",
      "execution_count": null,
      "metadata": {
        "colab": {
          "base_uri": "https://localhost:8080/"
        },
        "id": "c4MDb9IAlxgA",
        "outputId": "4d37ff0a-a6ee-470c-f2b2-9f3a03321d8f"
      },
      "outputs": [
        {
          "name": "stdout",
          "output_type": "stream",
          "text": [
            "[5, 4, 3, 2, 1]\n"
          ]
        }
      ],
      "source": [
        "my_list = []  # Creando una lista vacía.\n",
        "\n",
        "for i in range(5):\n",
        "    my_list.insert(0, i + 1)\n",
        "\n",
        "print(my_list)"
      ]
    },
    {
      "cell_type": "code",
      "execution_count": null,
      "metadata": {
        "colab": {
          "background_save": true,
          "base_uri": "https://localhost:8080/"
        },
        "id": "EX72NsYel1VA",
        "outputId": "fc1a2092-8d15-4967-bb07-60cf2eb6e5b0"
      },
      "outputs": [
        {
          "name": "stdout",
          "output_type": "stream",
          "text": [
            "27\n"
          ]
        }
      ],
      "source": [
        "# Ejercicio\n",
        "my_list = [10, 1, 8, 3, 5]\n",
        "total = 0\n",
        "\n",
        "for i in my_list:\n",
        "    total += i\n",
        "\n",
        "print(total)"
      ]
    },
    {
      "cell_type": "code",
      "execution_count": null,
      "metadata": {
        "colab": {
          "base_uri": "https://localhost:8080/"
        },
        "id": "LPaT37uLl4US",
        "outputId": "d2c09482-ffa6-4e36-a15e-4108339ac816"
      },
      "outputs": [
        {
          "name": "stdout",
          "output_type": "stream",
          "text": [
            "[5, 3, 8, 1, 10]\n"
          ]
        }
      ],
      "source": [
        "my_list = [10, 1, 8, 3, 5]\n",
        "\n",
        "my_list[0], my_list[4] = my_list[4], my_list[0]\n",
        "my_list[1], my_list[3] = my_list[3], my_list[1]\n",
        "\n",
        "print(my_list)"
      ]
    },
    {
      "cell_type": "markdown",
      "metadata": {
        "id": "VDoMPYlBl61D"
      },
      "source": [
        "Puedes usar el método sort() para ordenar los elementos de una lista, por ejemplo:"
      ]
    },
    {
      "cell_type": "code",
      "execution_count": null,
      "metadata": {
        "id": "-i79eASVl8yF"
      },
      "outputs": [],
      "source": [
        "my_list = [8, 10, 6, 2, 4]\n",
        "my_list.sort()\n",
        "print(my_list)"
      ]
    },
    {
      "cell_type": "markdown",
      "metadata": {
        "id": "AmCKwbkNmBJU"
      },
      "source": [
        "También hay un método de lista llamado reverse(), que puedes usar para invertir\n",
        "\n",
        "---\n",
        "\n",
        "la lista, por ejemplo:"
      ]
    },
    {
      "cell_type": "code",
      "execution_count": null,
      "metadata": {
        "id": "CTdZ9e7lmEOY"
      },
      "outputs": [],
      "source": [
        "lst = [5, 3, 1, 2, 4]\n",
        "print(lst)\n",
        "\n",
        "lst.reverse()\n",
        "print(lst)  # output: [4, 2, 1, 3, 5]"
      ]
    },
    {
      "cell_type": "markdown",
      "metadata": {
        "id": "ifaAxm6UmIW5"
      },
      "source": [
        "count(value) Devuelve el número de veces que se encontró un dato en la lista."
      ]
    },
    {
      "cell_type": "code",
      "execution_count": null,
      "metadata": {
        "id": "5CKQQcxBmLCD",
        "colab": {
          "base_uri": "https://localhost:8080/"
        },
        "outputId": "c3de71f0-cc6b-4bac-8450-952ca5c2268d"
      },
      "outputs": [
        {
          "output_type": "stream",
          "name": "stdout",
          "text": [
            "Veces que esta 123 en la lista :  2\n",
            "Veces que esta zara en la lista :  1\n"
          ]
        }
      ],
      "source": [
        "aList = [123, 'xyz', 'zara', 'abc', 123]\n",
        "\n",
        "print(\"Veces que esta 123 en la lista : \", aList.count(123))\n",
        "print(\"Veces que esta zara en la lista : \", aList.count('zara'))"
      ]
    },
    {
      "cell_type": "markdown",
      "metadata": {
        "id": "WSt6s8QNmOYh"
      },
      "source": [
        "\\extend(iterable) Añade los elementos del iterable a la lista."
      ]
    },
    {
      "cell_type": "code",
      "execution_count": null,
      "metadata": {
        "id": "5cBPwqWdmRcz"
      },
      "outputs": [],
      "source": [
        "notas_musicales = [\"Do\", \"Re\", \"Mi\", \"Fa\", \"Sol\", \"La\"]\n",
        "notas_musicales.extend(\"Si\")\n",
        "print(notas_musicales)"
      ]
    },
    {
      "cell_type": "code",
      "execution_count": null,
      "metadata": {
        "id": "CBp7wqxemT8q"
      },
      "outputs": [],
      "source": [
        "lst = []\n",
        "word = 'Sample'\n",
        "lst.extend(word)\n",
        "print(lst)"
      ]
    },
    {
      "cell_type": "markdown",
      "metadata": {
        "id": "8U72ZNTEmcU_"
      },
      "source": [
        "\n",
        "diferencia con append"
      ]
    },
    {
      "cell_type": "code",
      "execution_count": null,
      "metadata": {
        "id": "C6Siex1AmlD_"
      },
      "outputs": [],
      "source": [
        "A = [1, 2]\n",
        "A.extend([3, 4])\n",
        "print(A)"
      ]
    },
    {
      "cell_type": "code",
      "execution_count": null,
      "metadata": {
        "id": "z-Fqq0_gmnCA"
      },
      "outputs": [],
      "source": [
        "A = [1, 2]\n",
        "A.append([3, 4])\n",
        "print(A)"
      ]
    },
    {
      "cell_type": "markdown",
      "metadata": {
        "id": "Jsp-ZGqNmpZ_"
      },
      "source": [
        "index(value) Devuelve la posición en la que se encontró la primera ocurrencia de value. Si se especifican, start y stop definen las posiciones de inicio y fin de una sublista en la que buscar."
      ]
    },
    {
      "cell_type": "code",
      "execution_count": null,
      "metadata": {
        "colab": {
          "background_save": true
        },
        "id": "C6YIJaDpmrmy",
        "outputId": "ece435e0-69b3-4282-c254-627b57f5328f"
      },
      "outputs": [
        {
          "name": "stdout",
          "output_type": "stream",
          "text": [
            "3\n"
          ]
        }
      ],
      "source": [
        " versiones = [2.1, 2.5, 3.6, 4, 5, 6, 4]\n",
        " print(versiones.index(4))"
      ]
    },
    {
      "cell_type": "markdown",
      "metadata": {
        "id": "pu5DNfDFmuMN"
      },
      "source": [
        "pop(index) Devuelve el valor en la posición index y lo elimina de la lista. Si no se especifica la posición, se utiliza el último elemento de la lista."
      ]
    },
    {
      "cell_type": "code",
      "execution_count": null,
      "metadata": {
        "id": "m_umSaUdmw1_"
      },
      "outputs": [],
      "source": [
        "ciudades = ['New York', 'Dallas', 'San Antonio', 'Houston', 'San Francisco']\n",
        "\n",
        "print ( \"Ciudad removida : \", ciudades.pop() )\n",
        "print ( \"La ciudad en el indice 2 es : \", ciudades.pop(2) )"
      ]
    },
    {
      "cell_type": "markdown",
      "metadata": {
        "id": "GqwOu4UcmzG5"
      },
      "source": [
        "remove(value) Eliminar la primera ocurrencia de value en la lista, elimina el primer elemento de la lista, cuyo valor es igual al del argumento pasado. Cuando se utiliza este método, normalmente no se sabe o no le importa cuál es el índice del elemento que se va a eliminar."
      ]
    },
    {
      "cell_type": "code",
      "execution_count": null,
      "metadata": {
        "id": "Qlj_QFj0m2BJ"
      },
      "outputs": [],
      "source": [
        "names = ['Bob', 'Cindy', 'Noah']\n",
        "names.remove('Cindy')\n",
        "print(names)"
      ]
    },
    {
      "cell_type": "markdown",
      "metadata": {
        "id": "DksRKozPm4xy"
      },
      "source": [
        "reverse() Invierte la lista. Esta función trabaja sobre la propia lista desde la que se invoca el método, no sobre una copia."
      ]
    },
    {
      "cell_type": "code",
      "execution_count": null,
      "metadata": {
        "colab": {
          "background_save": true
        },
        "id": "vqgWOorSm6zG",
        "outputId": "524ad342-5108-4b95-e5d0-123eb043baa4"
      },
      "outputs": [
        {
          "name": "stdout",
          "output_type": "stream",
          "text": [
            "['insects', 'bird', 'dog', 'cat']\n"
          ]
        }
      ],
      "source": [
        "list=[\"cat\",\"dog\",\"bird\",\"insects\"]\n",
        "list.reverse()\n",
        "print(list)"
      ]
    },
    {
      "cell_type": "markdown",
      "metadata": {
        "id": "NxlmG1LRnGtM"
      },
      "source": [
        "## Los operadores in y not in\n",
        "Python ofrece dos operadores muy poderosos, capaces de revisar la lista para verificar si un valor específico está almacenado dentro de la lista o no.\n",
        "\n",
        "Estos operadores son:\n",
        "\n",
        "\n",
        "elem in my_list\n",
        "\n",
        "elem not in my_list"
      ]
    },
    {
      "cell_type": "code",
      "execution_count": null,
      "metadata": {
        "id": "r__ge9PunLVH"
      },
      "outputs": [],
      "source": [
        "my_list = [0, 3, 12, 8, 2]\n",
        "\n",
        "print(5 in my_list)\n",
        "print(5 not in my_list)\n",
        "print(12 in my_list)\n",
        "\n"
      ]
    },
    {
      "cell_type": "markdown",
      "metadata": {
        "id": "hWoN7VtynPSG"
      },
      "source": [
        "## Ejercicio\n",
        "Encuentra el número mayor en la lista"
      ]
    },
    {
      "cell_type": "code",
      "execution_count": null,
      "metadata": {
        "id": "dTQQnE_YnVba"
      },
      "outputs": [],
      "source": [
        "my_list = [1, 2, 3, 4, 5, 6, 7, 8, 9, 10]\n",
        "to_find = 5\n",
        "found = False\n",
        "\n",
        "for i in my_list:\n",
        "    found = my_list[i] == to_find\n",
        "    if found:\n",
        "        break\n",
        "\n",
        "if found:\n",
        "    print(\"Elemento encontrado en el índice\", i)\n",
        "else:\n",
        "    print(\"ausente\")"
      ]
    },
    {
      "cell_type": "markdown",
      "source": [
        "# FUNCIONES\n",
        "Hasta ahorita has implementado varias veces el uso de funciones, pero solo se han visto algunas de sus ventajas. Solo se han invocado funciones para utilizarlas como herramientas, con el fin de hacer la vida más fácil, y para simplificar tareas tediosas y repetitivas.\n",
        "\n",
        "Cuando se desea mostrar o imprimir algo en consola se utiliza print(). Cuando se desea leer el valor de una variable se emplea input(), combinados posiblemente con int() o float().\n",
        "\n",
        "También se ha hecho uso de algunos métodos, los cuales también son funciones, pero declarados de una manera muy específica.\n",
        "\n",
        " si un fragmento de código comienza a aparecer en más de una ocasión, considera la posibilidad de aislarlo en la forma de una función invocando la función desde el lugar en el que originalmente se encontraba.\n",
        "\n",
        " Un buen desarrollador divide el código (o mejor dicho: el problema) en piezas aisladas, y codifica cada una de ellas en la forma de una función.\n",
        "\n",
        " Existe una segunda condición: si un fragmento de código se hace tan extenso que leerlo o entenderlo se hace complicado, considera dividirlo en pequeños problemas, por separado, e implementa cada uno de ellos como una función independiente..\n",
        "\n",
        " se debe descomponer el problema para permitir que el producto sea implementado como un conjunto de funciones escritas por separado empacadas juntas en diferentes módulos.\n",
        "\n",
        " ## DE DONDE VIENEN LAS FUNCIONES\n",
        "\n",
        " De Python mismo: varias funciones (como print()) son una parte integral de Python, y siempre están disponibles sin algún esfuerzo adicional del programador; se les llama a estas funciones integradas.\n",
        "\n",
        " De los módulos preinstalados de Python: muchas de las funciones, las cuales comúnmente son menos utilizadas que las integradas, están disponibles en módulos instalados juntamente con Python\n",
        "\n",
        " Directamente del código: tu puedes escribir tus propias funciones, colocarlas dentro del código, y usarlas libremente."
      ],
      "metadata": {
        "id": "I1Iir0bhn97E"
      }
    },
    {
      "cell_type": "markdown",
      "metadata": {
        "id": "9h5Y0Bo9F8N4"
      },
      "source": [
        "https://docs.python.org/3/library/functions.html."
      ]
    },
    {
      "cell_type": "code",
      "execution_count": null,
      "metadata": {
        "id": "UqWdpqhEFOEa"
      },
      "outputs": [],
      "source": [
        "print(\"Ingresa un valor: \")\n",
        "a = int(input())\n",
        "\n",
        "print(\"Ingresa un valor: \")\n",
        "b = int(input())\n",
        "\n",
        "print(\"Ingresa un valor: \")\n",
        "c = int(input())"
      ]
    },
    {
      "cell_type": "code",
      "execution_count": null,
      "metadata": {
        "id": "lQjpdERMFzci"
      },
      "outputs": [],
      "source": [
        "def mensaje():\n",
        "    print(\"Ingresar valor: \")\n",
        "\n",
        "mensaje()"
      ]
    },
    {
      "cell_type": "code",
      "execution_count": null,
      "metadata": {
        "id": "kQZ_c7gGF1nh"
      },
      "outputs": [],
      "source": [
        "def mensaje():\n",
        "    print(\"Ingresar valor: \")\n",
        "\n",
        "mensaje()\n",
        "a = int(input())\n",
        "mensaje()\n",
        "b = int(input())\n",
        "mensaje()\n",
        "c = int(input())"
      ]
    },
    {
      "cell_type": "code",
      "execution_count": null,
      "metadata": {
        "id": "X58Rv05hGC2W"
      },
      "outputs": [],
      "source": [
        "def mensaje():\n",
        "    print(\"Hello\")\n",
        "\n",
        "mensaje()"
      ]
    },
    {
      "cell_type": "code",
      "execution_count": null,
      "metadata": {
        "id": "QmqYTxCTiNF5"
      },
      "outputs": [],
      "source": [
        "def hello(name):\n",
        "    print(\"Hello,\", name)\n",
        "\n",
        "\n",
        "\n",
        "hello('juan')"
      ]
    },
    {
      "cell_type": "code",
      "execution_count": null,
      "metadata": {
        "id": "GWf8IAnrGLJe"
      },
      "outputs": [],
      "source": [
        "def hello(name):\n",
        "    print(\"Hello,\", name)\n",
        "\n",
        "\n",
        "name = input(\"Ingresa tu nombre: \")\n",
        "\n",
        "hello(name)"
      ]
    },
    {
      "cell_type": "markdown",
      "source": [
        "### Función de orden superior\n",
        "El concepto de funciones de orden superior se refiere al uso de funciones como si de un valor cualquiera se tratara, posibilitando el pasar funciones como parámetros de otras funciones o devolver funciones como valor de retorno. Es posible porque, como hemos insistido ya en varias ocasiones, en Python todo son objetos. Y las funciones no son una excepción. Veamos un pequeño ejemplo:"
      ],
      "metadata": {
        "id": "lUGlir-_pIsn"
      }
    },
    {
      "cell_type": "markdown",
      "source": [
        "## Argumentos y parámetros\n",
        "\n",
        "los parámetros solo existen dentro de las funciones (este es su entorno natural)\n",
        "\n",
        "los argumentos existen fuera de las funciones, y son los que pasan los valores a los parámetros correspondientes."
      ],
      "metadata": {
        "id": "fekp7_d1pMen"
      }
    },
    {
      "cell_type": "code",
      "execution_count": null,
      "metadata": {
        "id": "8vLBsb7pGbX9"
      },
      "outputs": [],
      "source": [
        "def mensaje(numero):\n",
        "    print(\"Ingresa un número:\", numero)\n",
        "\n",
        "mensaje()"
      ]
    },
    {
      "cell_type": "code",
      "execution_count": null,
      "metadata": {
        "id": "vK7EuzOtGknI",
        "colab": {
          "base_uri": "https://localhost:8080/"
        },
        "outputId": "ffab6522-6669-4907-ef87-897bb9cc0912"
      },
      "outputs": [
        {
          "output_type": "stream",
          "name": "stdout",
          "text": [
            "Ingresa un número: 1\n"
          ]
        }
      ],
      "source": [
        "def message(number):   #parametro\n",
        "    print(\"Ingresa un número:\", number)\n",
        "\n",
        "message(1) #argumento"
      ]
    },
    {
      "cell_type": "code",
      "execution_count": null,
      "metadata": {
        "id": "3OarbfaQGucg"
      },
      "outputs": [],
      "source": [
        "def nombres(primer_nombre, apellido):\n",
        "    print(\"Hola, mi nombre es\", primer_nombre, apellido)\n",
        "\n",
        "nombres(\"Juan\", \"Pérez\")\n",
        "nombres(\"Miguel\", \"Gónzaez\")\n",
        "nombres(\"Clara\", \"López\")"
      ]
    },
    {
      "cell_type": "code",
      "execution_count": null,
      "metadata": {
        "id": "-nDZdt9CHDip"
      },
      "outputs": [],
      "source": [
        "def nombres(primer_nombre, apellido):\n",
        "    print(\"Hola, mi nombre es\", primer_nombre, apellido)\n",
        "\n",
        "nombres(primer_nombre = \"Juan\", apellido = \"Pérez\")\n",
        "nombres(apellido = \"Silvia\", primer_nombre = \"López\")"
      ]
    },
    {
      "cell_type": "markdown",
      "source": [
        "## return\n",
        "Todas las funciones presentadas anteriormente tienen algún tipo de efecto - producen un texto y lo envían a la consola.\n",
        "\n",
        "Para lograr que las funciones devuelvan un valor (pero no solo para ese propósito) se utiliza la instrucción return (regresar o retornar).\n",
        "\n",
        "Existen dos consecuencias de usarla:\n",
        "\n",
        "provoca la terminación inmediata de la ejecución de la función (nada nuevo en comparación con la primer variante)\n",
        "\n",
        "además, la función evaluará el valor de la expresión y lo devolverá (de ahí el nombre una vez más) como el resultado de la función."
      ],
      "metadata": {
        "id": "LdKd4byPpPVC"
      }
    },
    {
      "cell_type": "code",
      "execution_count": null,
      "metadata": {
        "id": "fVpmiHFTHTJk"
      },
      "outputs": [],
      "source": [
        "def una_funcion():\n",
        "  a=5*8\n",
        "  b=10.3+6\n",
        "  return 123\n",
        "\n",
        "una_funcion()"
      ]
    },
    {
      "cell_type": "code",
      "execution_count": null,
      "metadata": {
        "colab": {
          "base_uri": "https://localhost:8080/"
        },
        "id": "IsFaRAz6H0Hz",
        "outputId": "98a65deb-1f74-4ecd-edf4-788a446973f3"
      },
      "outputs": [
        {
          "name": "stdout",
          "output_type": "stream",
          "text": [
            "True\n",
            "None\n"
          ]
        }
      ],
      "source": [
        "def extraña_funcion(n):\n",
        "    if(n % 2 == 0):\n",
        "        return True\n",
        "\n",
        "print(extraña_funcion(2))\n",
        "print(extraña_funcion(1))"
      ]
    },
    {
      "cell_type": "markdown",
      "source": [
        "1 - Realiza un programa que solicite dos números y una operación (suma, resta, división y multiplicación) e imprima el resultado.\n",
        "\n",
        "Además deberá mostrar un menú con las siguientes opciones:\n",
        "\n",
        "Mostrar números\n",
        "\n",
        "Sumar\n",
        "\n",
        "Restar\n",
        "\n",
        "Dividir (considerar la división entre 0)\n",
        "\n",
        "multipicar\n",
        "\n",
        "cerrar calculadora"
      ],
      "metadata": {
        "id": "VB87VD4eqJ7n"
      }
    },
    {
      "cell_type": "code",
      "execution_count": null,
      "metadata": {
        "id": "aeEkJQNwIyJQ",
        "colab": {
          "base_uri": "https://localhost:8080/"
        },
        "outputId": "095e9724-4aa7-49eb-fdb7-c4f0d11fe2b6"
      },
      "outputs": [
        {
          "name": "stdout",
          "output_type": "stream",
          "text": [
            "Numero 1: 4\n",
            "Numero 2: 6\n"
          ]
        }
      ],
      "source": [
        "\n",
        "def menu():\n",
        "    print(\"App de operaciones.\")\n",
        "    print(\"1. Suma\")\n",
        "    print(\"2. Resta\")\n",
        "    print(\"3. Multiplicacion\")\n",
        "    print(\"4. Division\")\n",
        "    print(\"5. Salir\")\n",
        "    op = input(\"Escriba la opción: \")\n",
        "    op = int(op)\n",
        "    if op == 1:\n",
        "        suma()\n",
        "    elif op == 2:\n",
        "        resta()\n",
        "    elif op == 3:\n",
        "        multiplicacion()\n",
        "    elif op == 4:\n",
        "        division()\n",
        "    elif op == 5:\n",
        "        exit()\n",
        "    else:\n",
        "        print(\"Opción no válida\")\n",
        "\n",
        "def solicitar():\n",
        "    num1 = int(input(\"Numero 1: \"))\n",
        "    num2 = int(input(\"Numero 2: \"))\n",
        "    return num1, num2\n",
        "\n",
        "def suma():\n",
        "    print(\"\")\n",
        "    print(\"Hacer sumas.\")\n",
        "    num1, num2 = solicitar()\n",
        "    print(\"Resultado:\", num1 + num2)\n",
        "    print(\"\")\n",
        "\n",
        "def resta():\n",
        "    print(\"\")\n",
        "    print(\"Hacer restas.\")\n",
        "    num1, num2 = solicitar()\n",
        "    print(\"Resultado:\", num1 - num2)\n",
        "    print(\"\")\n",
        "\n",
        "def multiplicacion():\n",
        "    print(\"\")\n",
        "    print(\"Hacer multiplicación.\")\n",
        "    num1, num2 = solicitar()\n",
        "    print(\"Resultado:\", num1 * num2)\n",
        "    print(\"\")\n",
        "\n",
        "def division():\n",
        "    print(\"\")\n",
        "    print(\"Hacer división.\")\n",
        "    num1, num2 = solicitar()\n",
        "    if num2 != 0:\n",
        "        print(\"Resultado:\", num1 / num2)\n",
        "    else:\n",
        "        print(\"Error: División por cero\")\n",
        "    print(\"\")\n",
        "\n",
        "\n",
        "\n",
        "\n",
        "\n"
      ]
    },
    {
      "cell_type": "code",
      "execution_count": null,
      "metadata": {
        "id": "ioIQWITwjcmi"
      },
      "outputs": [],
      "source": [
        "menu()"
      ]
    },
    {
      "cell_type": "markdown",
      "source": [
        "##Filter\n",
        "Tal como su nombre indica filter significa filtrar, a partir de una lista o iterador y una función condicional, es capaz de devolver una nueva colección con los elementos filtrados que cumplan la condición."
      ],
      "metadata": {
        "id": "OmM5jLOKpdYh"
      }
    },
    {
      "cell_type": "code",
      "execution_count": null,
      "metadata": {
        "id": "Af0WZHZ5H6o-"
      },
      "outputs": [],
      "source": [
        "def multiple(numero):\n",
        "  if numero % 5 == 0:\n",
        "    return True\n",
        "\n",
        "numeros = [2, 5, 10, 23, 50, 30, 33,35]\n",
        "\n",
        "filter(multiple, numeros)"
      ]
    },
    {
      "cell_type": "markdown",
      "source": [
        "Si ejecutamos el filtro obtenemos un objeto de tipo filtro, pero podemos transformarlo en una lista fácilmente haciendo un cast (conversión):"
      ],
      "metadata": {
        "id": "qZNv4x01pkfC"
      }
    },
    {
      "cell_type": "code",
      "execution_count": null,
      "metadata": {
        "id": "knGvtF3ZH8z6"
      },
      "outputs": [],
      "source": [
        "list(filter(multiple, numeros))"
      ]
    },
    {
      "cell_type": "markdown",
      "source": [
        "## Map\n",
        "En vez de usar un bucle for, la función map() proporciona una forma de aplicar una función a cada elemento en un iterable. Por tanto, a menudo puede funcionar mejor, ya que solo aplica la función a un elemento cada vez en vez de realizar copias de los elementos a otro iterable. Esto es muy útil cuando se trabaja en programas que procesan grandes conjuntos de datos."
      ],
      "metadata": {
        "id": "668hZUQEpoJp"
      }
    },
    {
      "cell_type": "code",
      "execution_count": null,
      "metadata": {
        "id": "33tXmd18H-8a"
      },
      "outputs": [],
      "source": [
        "def doble(numero):\n",
        "    return numero*2\n",
        "\n",
        "numeros = [2, 5, 10, 23, 50, 33]\n",
        "\n",
        "map(doble, numeros)"
      ]
    },
    {
      "cell_type": "code",
      "execution_count": null,
      "metadata": {
        "id": "_F1yalleIA0K"
      },
      "outputs": [],
      "source": [
        "list(map(doble, numeros)) #para mostrarlo en lista"
      ]
    },
    {
      "cell_type": "code",
      "execution_count": null,
      "metadata": {
        "id": "7TRB0-wUIDcK"
      },
      "outputs": [],
      "source": [
        "frase= 'Hola Luis, como estas?'\n",
        "def longitud_palabras(frase):\n",
        "    palabra_len = list(map(len, frase.split()))\n",
        "    return palabra_len\n",
        "\n",
        "longitud_palabras(frase)"
      ]
    },
    {
      "cell_type": "markdown",
      "source": [
        "## Reduce\n",
        "Reduce es una función incorporada de Python, que toma como argumento un conjunto de valores (una lista, una tupla, o cualquier objeto iterable) y lo \"reduce\" a un único valor. Cómo se obtiene ese único valor a partir de la colección pasada como argumento dependerá de la función aplicada."
      ],
      "metadata": {
        "id": "sbY_B-CHptSp"
      }
    },
    {
      "cell_type": "code",
      "execution_count": null,
      "metadata": {
        "id": "3WQZ-npKIJsC",
        "colab": {
          "base_uri": "https://localhost:8080/"
        },
        "outputId": "0ca27270-dc5b-4236-e048-b10a25e3e146"
      },
      "outputs": [
        {
          "output_type": "stream",
          "name": "stdout",
          "text": [
            "16\n"
          ]
        }
      ],
      "source": [
        "from functools import reduce   #traemos el módulo para poder utiliarla\n",
        "\n",
        "def add(x, y):\n",
        "    return x + y\n",
        "\n",
        "lista = [2, 4, 7, 3]\n",
        "print(reduce(add, lista))"
      ]
    },
    {
      "cell_type": "code",
      "execution_count": null,
      "metadata": {
        "id": "Qw1PTeKGILwn"
      },
      "outputs": [],
      "source": [
        "def suma(x,y):\n",
        "  return(x + y)\n",
        "\n",
        "suma(5,7)"
      ]
    },
    {
      "cell_type": "markdown",
      "source": [
        "\n",
        "```\n",
        "# Tiene formato de código\n",
        "```\n",
        "\n",
        "## Funciones lambda\n",
        "En Python, una función Lambda se refiere a una pequeña función anónima. Las llamamos “funciones anónimas” porque técnicamente carecen de nombre. Al contrario que una función normal, no la definimos con la palabra clave estándar def que utilizamos en Python. En su lugar, las funciones Lambda se definen como una línea que ejecuta una sola expresión. Este tipo de funciones pueden tomar cualquier número de argumentos, pero solo pueden tener una expresión.\n",
        "\n",
        "Todas las funciones Lambda en Python tienen exactamente la misma sintaxis."
      ],
      "metadata": {
        "id": "HyIHYSXcpykI"
      }
    },
    {
      "cell_type": "code",
      "execution_count": null,
      "metadata": {
        "id": "5dzYHI5mINiB",
        "colab": {
          "base_uri": "https://localhost:8080/"
        },
        "outputId": "579231fe-c452-4a9b-d51b-4c126eac3b15"
      },
      "outputs": [
        {
          "output_type": "execute_result",
          "data": {
            "text/plain": [
              "12"
            ]
          },
          "metadata": {},
          "execution_count": 13
        }
      ],
      "source": [
        "lambda x,y : x+ y\n",
        "\n",
        "#Para poder utilizarla necesitamos guardarla en una variable\n",
        "suma = lambda x,y : x + y\n",
        "suma(5,7)"
      ]
    },
    {
      "cell_type": "code",
      "execution_count": null,
      "metadata": {
        "id": "mML4Zqgqj45r",
        "colab": {
          "base_uri": "https://localhost:8080/"
        },
        "outputId": "19fe17ba-a316-4664-a0ff-7ce86f84b317"
      },
      "outputs": [
        {
          "output_type": "stream",
          "name": "stdout",
          "text": [
            "Resultado de reduce: 15\n",
            "Resultado de map: [5, 10, 15, 20, 25]\n",
            "Resultado de filter: [2, 4]\n"
          ]
        }
      ],
      "source": [
        "from functools import reduce\n",
        "\n",
        "\n",
        "# Ejemplo de uso de reduce\n",
        "lista = [1, 2, 3, 4, 5]\n",
        "resultado_reduce = reduce(suma, lista)\n",
        "print(\"Resultado de reduce:\", resultado_reduce)\n",
        "\n",
        "# Función para multiplicar un número por 2\n",
        "def multiplicar_por_cinco(num):\n",
        "    return num * 5\n",
        "\n",
        "# Ejemplo de uso de map\n",
        "lista = [1, 2, 3, 4, 5]\n",
        "resultado_map = list(map(multiplicar_por_cinco, lista))\n",
        "print(\"Resultado de map:\", resultado_map)\n",
        "\n",
        "# Función para verificar si un número es par\n",
        "def es_par(num):\n",
        "    return num % 2 == 0\n",
        "\n",
        "# Ejemplo de uso de filter\n",
        "lista = [1, 2, 3, 4, 5]\n",
        "resultado_filter = list(filter(es_par, lista))\n",
        "print(\"Resultado de filter:\", resultado_filter)\n"
      ]
    },
    {
      "cell_type": "markdown",
      "source": [
        "#COMPRENSION DE LISTAS\n",
        "La comprensión de listas, es una funcionalidad que nos permite crear listas avanzadas en una misma línea de código."
      ],
      "metadata": {
        "id": "WoigAxEGqf_P"
      }
    },
    {
      "cell_type": "code",
      "execution_count": null,
      "metadata": {
        "id": "6YXNRbxtMGep"
      },
      "outputs": [],
      "source": [
        "lista = []\n",
        "for letra in 'casa':\n",
        "  lista.append(letra)\n",
        "print(lista)"
      ]
    },
    {
      "cell_type": "code",
      "execution_count": null,
      "metadata": {
        "id": "LZvP3HG8MIXC",
        "colab": {
          "base_uri": "https://localhost:8080/"
        },
        "outputId": "c62672ba-3b67-4738-810d-3cf4ff6dfc62"
      },
      "outputs": [
        {
          "output_type": "stream",
          "name": "stdout",
          "text": [
            "['c', 'a', 's', 'a']\n"
          ]
        }
      ],
      "source": [
        "lista = [letra for letra in 'casa']\n",
        "print(lista)"
      ]
    },
    {
      "cell_type": "code",
      "execution_count": null,
      "metadata": {
        "id": "6kU5I2H6MKEz",
        "colab": {
          "base_uri": "https://localhost:8080/"
        },
        "outputId": "7fe45818-3708-41ac-fe4d-5c7a5fafabeb"
      },
      "outputs": [
        {
          "output_type": "stream",
          "name": "stdout",
          "text": [
            "[0, 1, 4, 9, 16, 25, 36, 49, 64, 81, 100]\n"
          ]
        }
      ],
      "source": [
        "lista = []\n",
        "for numero in range(0,11):\n",
        "  lista.append(numero**2)\n",
        "print(lista)"
      ]
    },
    {
      "cell_type": "code",
      "execution_count": null,
      "metadata": {
        "id": "AWeXYN-6MMKR",
        "colab": {
          "base_uri": "https://localhost:8080/"
        },
        "outputId": "9f5a308f-2093-4bf2-9bca-e7cba331bc9d"
      },
      "outputs": [
        {
          "output_type": "stream",
          "name": "stdout",
          "text": [
            "[0, 1, 4, 9, 16, 25, 36, 49, 64, 81, 100]\n"
          ]
        }
      ],
      "source": [
        "lista = [numero**2 for numero in range(0,11)]\n",
        "\n",
        "print(lista)"
      ]
    },
    {
      "cell_type": "markdown",
      "source": [
        "#Generadores\n",
        "Un generador es una función que produce una secuencia de resultados en lugar de un único valor. Es decir, cada vez que llamemos a la función nos darán un nuevo resultado. Para construir generadores sólo tenemos que usar la orden yield. Esta orden devolverá un valor igual que hace return pero, además, pasará la ejecución de la función hasta la próxima vez que le pidamos un valor."
      ],
      "metadata": {
        "id": "2sJXGblSxgUt"
      }
    },
    {
      "cell_type": "code",
      "source": [
        "def generador():\n",
        "    n = 1\n",
        "    return n\n",
        "\n",
        "    n += 1\n",
        "    return n\n",
        "\n",
        "    n += 1\n",
        "    return n\n",
        "\n",
        "generador()\n",
        "generador()\n",
        "generador()"
      ],
      "metadata": {
        "id": "sbPrvLq5xjNU"
      },
      "execution_count": null,
      "outputs": []
    },
    {
      "cell_type": "code",
      "source": [
        "def generador():\n",
        "    n = 1\n",
        "    yield n\n",
        "\n",
        "    n += 1\n",
        "    yield n\n",
        "\n",
        "    n += 1\n",
        "    yield n"
      ],
      "metadata": {
        "id": "-rYqgOwGxlDW"
      },
      "execution_count": null,
      "outputs": []
    },
    {
      "cell_type": "code",
      "source": [
        "g = generador()\n",
        "print(next(g))\n",
        "print(next(g))\n",
        "print(next(g))"
      ],
      "metadata": {
        "id": "PFQVZ_lCxnQT"
      },
      "execution_count": null,
      "outputs": []
    },
    {
      "cell_type": "code",
      "source": [
        "def pares(n):\n",
        "  n=10\n",
        "  for numero in range(n+1):\n",
        "    if numero % 2 == 0:\n",
        "      yield numero\n",
        "\n",
        "\n",
        "for numero in pares(10):\n",
        "    print(numero)"
      ],
      "metadata": {
        "id": "sFOjzQ7hxpRY"
      },
      "execution_count": null,
      "outputs": []
    },
    {
      "cell_type": "markdown",
      "source": [
        "# Clases Decoradoras\n",
        "Los decoradores son un patrón de diseño de software que alteran dinámicamente y agregan funcionalidades adicionales a los métodos, funciones o clases de Python sin tener que usar subclases o cambiar el código fuente decorada. Estos generalmente son herramientas muy útiles para el desarrollador ya que son muy fáciles de implementar, son legibles, reducen código, entre otras ventajas. En Python hay múltiples formas de crear decoradores.\n",
        "\n",
        "A través de los decoradores seremos capaces reducir las líneas de código duplicadas, haremos que nuestro código sea legible, fácil de testear y fácil de mantener\n",
        "\n",
        "En Python una función puede ser asignada a una variable, puede ser utilizada como argumento para otra función, o inclusive puede ser retornada."
      ],
      "metadata": {
        "id": "_jbU5EKbxwxo"
      }
    },
    {
      "cell_type": "code",
      "source": [
        "def saludar():\n",
        "  print('hola')\n"
      ],
      "metadata": {
        "id": "dlIoOnkmxsPp"
      },
      "execution_count": null,
      "outputs": []
    },
    {
      "cell_type": "code",
      "source": [
        "saludar()"
      ],
      "metadata": {
        "id": "bXoUGNEpx0EY"
      },
      "execution_count": null,
      "outputs": []
    },
    {
      "cell_type": "code",
      "source": [
        "def saludar():\n",
        "  print('saludo')\n",
        "  print('hola')\n",
        "  print('despedida')"
      ],
      "metadata": {
        "id": "DRcVc-9tx194"
      },
      "execution_count": null,
      "outputs": []
    },
    {
      "cell_type": "code",
      "source": [
        "def decorador(func):\n",
        "  def saludo():\n",
        "    print('saludo')\n",
        "    func()\n",
        "    print('despedida')\n",
        "  return saludo"
      ],
      "metadata": {
        "id": "59Lh9kRkx4II"
      },
      "execution_count": null,
      "outputs": []
    },
    {
      "cell_type": "code",
      "source": [
        "@decorador\n",
        "def saludar():\n",
        "  print('hola')"
      ],
      "metadata": {
        "id": "l-rAakD3x59y"
      },
      "execution_count": null,
      "outputs": []
    },
    {
      "cell_type": "code",
      "source": [
        "saludar()"
      ],
      "metadata": {
        "id": "l_HgIKkXx7rt"
      },
      "execution_count": null,
      "outputs": []
    },
    {
      "cell_type": "code",
      "source": [
        "def division(a,b):\n",
        "  return a/b\n"
      ],
      "metadata": {
        "id": "V7ZoXaftx9mg"
      },
      "execution_count": null,
      "outputs": []
    },
    {
      "cell_type": "code",
      "source": [
        "division(10,0)"
      ],
      "metadata": {
        "id": "oQfqov9Zx_tg"
      },
      "execution_count": null,
      "outputs": []
    },
    {
      "cell_type": "code",
      "source": [
        "def revisar(func): #func es una palabra reservada que le indica pasaremos como argumento otra función\n",
        "    def validacion(a,b):  #Como vimos en Python podemos tener funciones dentro de funciones y hasta funciones como argumentos\n",
        "        if b == 0:\n",
        "          print('no es posible dividir entre 0')\n",
        "          return  #para salir de la función\n",
        "        func(a,b) #se ejecuta en caso contrario la función que tenemos como argumento\n",
        "    return validacion  #vuelve a ejecutar la funcion de validación pero ya con los argumentos de func"
      ],
      "metadata": {
        "id": "cfkU0NpxyCcp"
      },
      "execution_count": null,
      "outputs": []
    },
    {
      "cell_type": "code",
      "source": [
        "@revisar\n",
        "def division(a,b):\n",
        "  return a/b\n"
      ],
      "metadata": {
        "id": "eNRPweHuyEvD"
      },
      "execution_count": null,
      "outputs": []
    },
    {
      "cell_type": "code",
      "source": [
        "division(10,0)"
      ],
      "metadata": {
        "id": "BErW-MqfyGhv"
      },
      "execution_count": null,
      "outputs": []
    },
    {
      "cell_type": "markdown",
      "source": [
        "# Excepciones\n",
        "Los errores de ejecución son llamados comúnmente excepciones."
      ],
      "metadata": {
        "id": "G-fNkkEZyJMG"
      }
    },
    {
      "cell_type": "code",
      "source": [
        "num1=10\n",
        "num2=0\n",
        "res= num1/num2\n",
        "res"
      ],
      "metadata": {
        "id": "-8cGxOiwyLK-"
      },
      "execution_count": null,
      "outputs": []
    },
    {
      "cell_type": "code",
      "source": [
        "num1=10\n",
        "num2=0\n",
        "\n",
        "try:\n",
        "  res= num1/num2\n",
        "\n",
        "except:\n",
        "  print('no es posible dividir entre 0')"
      ],
      "metadata": {
        "id": "gDeIwr9ryM2h"
      },
      "execution_count": null,
      "outputs": []
    },
    {
      "cell_type": "code",
      "source": [
        "try:\n",
        "    f = open('fichero.txt')  # El fichero no existe\n",
        "except:  #estamos estableciendo que para cualquier exepcion, podriamos ser más específicos para evitar tener confusión\n",
        "    print('¡El fichero no existe!')\n",
        "else:\n",
        "    print(f.read())"
      ],
      "metadata": {
        "id": "Sr80jE95yPhv"
      },
      "execution_count": null,
      "outputs": []
    },
    {
      "cell_type": "code",
      "source": [
        "while True:\n",
        "   try:\n",
        "     x = int(input(\"Ingresa un número: \"))\n",
        "     break\n",
        "   except ValueError: #aquí la establecemos para que tipo de exepcion\n",
        "    print(\"Oops!  Ese no es un dato valido.  Ingresa de nuevo...\")"
      ],
      "metadata": {
        "id": "Gb8y6npAySE-"
      },
      "execution_count": null,
      "outputs": []
    },
    {
      "cell_type": "markdown",
      "source": [
        "## Tipos de excepciones\n",
        "Los principales excepciones definidas en Python son:\n",
        "\n",
        "TypeError : Ocurre cuando se aplica una operación o función a un dato del tipo inapropiado.\n",
        "\n",
        "ZeroDivisionError : Ocurre cuando se itenta dividir por cero.\n",
        "\n",
        "OverflowError : Ocurre cuando un cálculo excede el límite para un tipo de dato numérico.\n",
        "\n",
        "IndexError : Ocurre cuando se intenta acceder a una secuencia con un índice que no existe.\n",
        "\n",
        "KeyError : Ocurre cuando se intenta acceder a un diccionario con una clave que no existe.\n",
        "\n",
        "FileNotFoundError : Ocurre cuando se intenta acceder a un fichero que no existe en la ruta indicada.\n",
        "\n",
        "ImportError : Ocurre cuando falla la importación de un módulo."
      ],
      "metadata": {
        "id": "GP06qvIbyUiA"
      }
    },
    {
      "cell_type": "code",
      "source": [
        "def division(a, b):\n",
        "  try:\n",
        "      result = a / b\n",
        "  except:\n",
        "      print('¡No se puede dividir por cero!')\n",
        "  else:\n",
        "      print(result)\n",
        "\n",
        "division(10,0)"
      ],
      "metadata": {
        "id": "7nrOryUEyXGf"
      },
      "execution_count": null,
      "outputs": []
    },
    {
      "cell_type": "markdown",
      "source": [
        "# JUEGO DEL AHORCADO"
      ],
      "metadata": {
        "id": "bWcqeSZLyZUY"
      }
    },
    {
      "cell_type": "code",
      "source": [
        "import random\n",
        "\n",
        "class Ahorcado():\n",
        "  def __init__(self,nombre):\n",
        "      self.__nombre=nombre\n",
        "\n",
        "  @property\n",
        "  def nombre(self):\n",
        "      return self.__nombre\n",
        "\n",
        "  @nombre.setter\n",
        "  def nombre(self, otro):\n",
        "      self.__nombre = otro\n",
        "      print(f'El nombre modificado, es: {self.nombre} ')\n",
        "      return self.__nombre\n",
        "\n",
        "  def mostrar(self):\n",
        "      print(f'>>>Nombre: {self.nombre} ')\n",
        "\n",
        "\n",
        "  def jugar(self):\n",
        "    figuras = ['''\n",
        "\n",
        "        +----+\n",
        "        |    |\n",
        "             |\n",
        "             |\n",
        "             |\n",
        "             |\n",
        "             ==========''', '''\n",
        "\n",
        "        +----+\n",
        "        |    |\n",
        "        O    |\n",
        "             |\n",
        "             |\n",
        "             |\n",
        "             ==========''', '''\n",
        "\n",
        "        +----+\n",
        "        |    |\n",
        "        O    |\n",
        "        |    |\n",
        "             |\n",
        "             |\n",
        "             ==========''', '''\n",
        "\n",
        "        +----+\n",
        "        |    |\n",
        "        O    |\n",
        "       /|    |\n",
        "             |\n",
        "             |\n",
        "             ==========''', '''\n",
        "\n",
        "        +----+\n",
        "        |    |\n",
        "        O    |\n",
        "       /|\\   |\n",
        "             |\n",
        "             |\n",
        "             ==========''', '''\n",
        "\n",
        "        +----+\n",
        "        |    |\n",
        "        O    |\n",
        "       /|\\   |\n",
        "        |    |\n",
        "             |\n",
        "             ==========''', '''\n",
        "\n",
        "        +----+\n",
        "        |    |\n",
        "        O    |\n",
        "       /|\\   |\n",
        "        |    |\n",
        "       /     |\n",
        "             ==========''', '''\n",
        "\n",
        "        +----+\n",
        "        |    |\n",
        "        O    |\n",
        "       /|\\   |\n",
        "        |    |\n",
        "       / \\   |\n",
        "             ==========''', '''\n",
        "\n",
        "    ''']\n",
        "\n",
        "    letra_ingresada = [] #cada letra la ingresamos a una lista\n",
        "    vidas = 7\n",
        "    separador = \"-\"\n",
        "    palabra_descompuesta = [] #la palabra secreta la volvemos lista\n",
        "    aumento_figura=0  #cada que no le atine cambiara la figura\n",
        "    palabras=['pilares','usuario','taller','codigo','moodle','github']\n",
        "    palabra = random.choice(palabras)  #alamacena una palabra diferente cada ejecucion\n",
        "\n",
        "\n",
        "    print(\"=======================================\")\n",
        "    print(\" ¡Bienvenido(a) al juego del Ahorcado! \")\n",
        "    print(\"=======================================\")\n",
        "\n",
        "\n",
        "    print(\"¡Adivina la palabra secreta! de \",(len(palabra)),\" letras\\n\") #len longitud de la palabra\n",
        "    print(figuras[aumento_figura]) #imprime la primera figura de la lista\n",
        "\n",
        "    for letra in palabra:   #recorre cada letra de la palabra y en palabra_descompuesta agrega _ dependiendo la longitud de la palabra\n",
        "      palabra_descompuesta.append('_ ')\n",
        "\n",
        "\n",
        "    usadas = len(palabra)  #servira comom contador para salir del ciclo\n",
        "\n",
        "    while usadas  > 0 and vidas > 0:\n",
        "\n",
        "      print(f'Tienes {vidas} vidas y las letras que has ingresado son: {separador.join(letra_ingresada)}') #puede ser '-'.join\n",
        "      print(\"\".join(palabra_descompuesta))   #para quitar las [ ] y poner un espacio\n",
        "\n",
        "\n",
        "      letra_usuario = input(\"Ingresa una letra:\\n\")\n",
        "\n",
        "\n",
        "      for char in palabra:   #itera a través de cada índice de caracteres de la  palabra  si la letra que ingreso el usuario coincidio con algna de la palbra la sustutuye\n",
        "          if letra_usuario == char:\n",
        "            palabra_descompuesta[char] = letra_usuario.upper() + \" \" #sustituye el _ por la letra donde la encuentre\n",
        "\n",
        "      if letra_usuario in letra_ingresada:  #si la letra ya la ingreso\n",
        "        print(\"Esa letra ya se utilizó, ingresa otra letra\")\n",
        "      else:\n",
        "        letra_ingresada.append(letra_usuario)\n",
        "\n",
        "        if letra_usuario in palabra:  #descuenta al contador el numero de veces que la encontro\n",
        "          usadas = usadas - palabra.count(letra_usuario)\n",
        "          print(f'La letra {letra_usuario}, si está {palabra.count(letra_usuario)} veces en la palabra secreta')\n",
        "\n",
        "        else:\n",
        "          vidas -= 1    #descuenta a vidas y va por ptra figura a mostrar\n",
        "          aumento_figura = aumento_figura + 1\n",
        "          print(figuras[aumento_figura])\n",
        "          print(f'La letra {letra_usuario}, no se encuentra en la palabra secreta')\n",
        "\n",
        "\n",
        "    if vidas == 0:\n",
        "      print(f'\\nYa no te quedan más oportunidades {self.nombre} .\\n¡Lastima!\\nLa palabra secreta era: {palabra.upper()}')\n",
        "      print(figuras[aumento_figura])\n",
        "    else:\n",
        "      print(f'\\n¡Felicidades {self.nombre} Adivinaste la Palabra! {\" \".join(palabra.upper())}')"
      ],
      "metadata": {
        "id": "r2xow0fMye6H"
      },
      "execution_count": null,
      "outputs": []
    },
    {
      "cell_type": "code",
      "source": [
        "\n",
        "jugador1=Ahorcado('david')\n",
        "jugador1.jugar()"
      ],
      "metadata": {
        "id": "QwoBk_j6yg3P"
      },
      "execution_count": null,
      "outputs": []
    },
    {
      "cell_type": "markdown",
      "source": [
        "# PÁGINA WEB REGISTRO DE UN USUARIO\n",
        " utilizando Flask\n",
        "\n",
        "Abre tu línea de comandos y navega hasta la carpeta de tu proyecto.\n",
        "\n",
        "Crea un entorno virtual\n",
        "\n"
      ],
      "metadata": {
        "id": "HRHru6CYdw8k"
      }
    },
    {
      "cell_type": "code",
      "source": [
        "python -m venv venv\n"
      ],
      "metadata": {
        "id": "v8ub_oQveMya"
      },
      "execution_count": null,
      "outputs": []
    },
    {
      "cell_type": "markdown",
      "source": [
        "Activa el entorno virtual:\n",
        "\n",
        "\n"
      ],
      "metadata": {
        "id": "iVep7QaGeY_q"
      }
    },
    {
      "cell_type": "code",
      "source": [
        "venv\\Scripts\\activate\n",
        "\n",
        "deactivate #salir del entorno"
      ],
      "metadata": {
        "id": "n0nRnOdFeRlM"
      },
      "execution_count": null,
      "outputs": []
    },
    {
      "cell_type": "markdown",
      "source": [
        "Instala Flask  y Flask-MySQLdb:"
      ],
      "metadata": {
        "id": "2hCC08KoeUyS"
      }
    },
    {
      "cell_type": "code",
      "source": [
        "pip install flask flask-mysqldb\n"
      ],
      "metadata": {
        "id": "4Dkc9nJKeW1x"
      },
      "execution_count": null,
      "outputs": []
    },
    {
      "cell_type": "markdown",
      "source": [
        "Paso 2: Estructurar el Proyecto\n",
        "\n",
        "Crea una estructura básica para tu proyecto:"
      ],
      "metadata": {
        "id": "d5Hc1CFvekRh"
      }
    },
    {
      "cell_type": "code",
      "source": [
        "tu_proyecto/\n",
        "|-- app.py\n",
        "|-- templates/\n",
        "|   |-- registro.html\n"
      ],
      "metadata": {
        "id": "jRXRYcdheiRd"
      },
      "execution_count": null,
      "outputs": []
    },
    {
      "cell_type": "markdown",
      "source": [
        "Paso 3: Implementar la Aplicación Web\n",
        "\n",
        "app.py:"
      ],
      "metadata": {
        "id": "Zpv-rzO7euY-"
      }
    },
    {
      "cell_type": "code",
      "source": [
        "from flask import Flask, render_template, request\n",
        "from flask_mysqldb import MySQL\n",
        "\n",
        "app = Flask(__name__)\n",
        "\n",
        "app.config['MYSQL_HOST'] = 'localhost'  #hace referencia al equipo\n",
        "app.config['MYSQL_USER'] = 'tu_usuario'  #el creado en la base de datos\n",
        "app.config['MYSQL_PASSWORD'] = 'tu_contraseña'\n",
        "app.config['MYSQL_DB'] = 'nombre_de_la_base_de_datos'\n",
        "\n",
        "mysql = MySQL(app)\n",
        "\n",
        "@app.route('/registro', methods=['GET', 'POST'])\n",
        "def registro():\n",
        "    if request.method == 'POST':\n",
        "        nombre_usuario = request.form['usuario']\n",
        "        contraseña = request.form['contraseña']\n",
        "\n",
        "        cur = mysql.connection.cursor()\n",
        "        cur.execute(\"INSERT INTO usuarios (nombre_usuario, contraseña) VALUES (%s, %s)\", (nombre_usuario, contraseña))\n",
        "        mysql.connection.commit()\n",
        "        cur.close()\n",
        "\n",
        "        return 'Registro exitoso!'\n",
        "\n",
        "    return render_template('registro.html')\n",
        "\n",
        "if __name__ == '__main__':\n",
        "    app.run()\n"
      ],
      "metadata": {
        "id": "zBYTyS-FewEl"
      },
      "execution_count": null,
      "outputs": []
    },
    {
      "cell_type": "markdown",
      "source": [
        "registro.html"
      ],
      "metadata": {
        "id": "_bLvM48lgBfW"
      }
    },
    {
      "cell_type": "code",
      "source": [
        "<!DOCTYPE html>\n",
        "<html>\n",
        "<head>\n",
        "    <title>Registro de usuarios</title>\n",
        "</head>\n",
        "<body>\n",
        "    <h1>Registro de usuarios</h1>\n",
        "    <form method=\"POST\" action=\"/registro\">\n",
        "        <label for=\"usuario\">Nombre de usuario:</label>\n",
        "        <input type=\"text\" id=\"usuario\" name=\"usuario\" required><br><br>\n",
        "        <label for=\"contraseña\">Contraseña:</label>\n",
        "        <input type=\"password\" id=\"contraseña\" name=\"contraseña\" required><br><br>\n",
        "        <input type=\"submit\" value=\"Registrarse\">\n",
        "    </form>\n",
        "</body>\n",
        "</html>\n",
        "\n"
      ],
      "metadata": {
        "id": "obqz_tMOgDTg"
      },
      "execution_count": null,
      "outputs": []
    },
    {
      "cell_type": "markdown",
      "source": [
        "Ejecuta el archivo app.py y abre tu navegador en http://localhost:5000/registro para acceder al formulario de registro."
      ],
      "metadata": {
        "id": "LCLkbvIb5gP2"
      }
    },
    {
      "cell_type": "markdown",
      "source": [
        "Crea una nueva base de datos ejecutando el siguiente comando SQL:"
      ],
      "metadata": {
        "id": "P3bU2Ox654CI"
      }
    },
    {
      "cell_type": "code",
      "source": [
        "CREATE DATABASE nombre_de_la_base_de_datos;"
      ],
      "metadata": {
        "id": "74e0wOxL56Cu"
      },
      "execution_count": null,
      "outputs": []
    },
    {
      "cell_type": "code",
      "source": [
        "USE nombre_de_la_base_de_datos;\n"
      ],
      "metadata": {
        "id": "p_Hdpvvb59G1"
      },
      "execution_count": null,
      "outputs": []
    },
    {
      "cell_type": "code",
      "source": [
        "CREATE TABLE usuarios (\n",
        "    id INT AUTO_INCREMENT PRIMARY KEY,\n",
        "    nombre_usuario VARCHAR(255) NOT NULL,\n",
        "    contraseña VARCHAR(255) NOT NULL\n",
        ");\n"
      ],
      "metadata": {
        "id": "lzndxovK5-4g"
      },
      "execution_count": null,
      "outputs": []
    },
    {
      "cell_type": "markdown",
      "source": [
        "Asegúrate de tener instalado el paquete mysql-connector-python para la conexión entre Python y MySQL."
      ],
      "metadata": {
        "id": "MRQpVSfK6GWd"
      }
    },
    {
      "cell_type": "code",
      "source": [
        "pip install mysql-connector-python\n"
      ],
      "metadata": {
        "id": "Ce5_efHy6Hmi"
      },
      "execution_count": null,
      "outputs": []
    },
    {
      "cell_type": "markdown",
      "source": [
        "Asegúrate de reemplazar tu_usuario, tu_contraseña y nombre_de_la_base_de_datos con los valores correctos según tu configuración de MySQL."
      ],
      "metadata": {
        "id": "u74X8jP86LaM"
      }
    },
    {
      "cell_type": "markdown",
      "source": [
        "https://dev.mysql.com/downloads/windows/installer/  Ejecuta el archivo descargado y selecciona \"Developer Default\" como tipo de instalación. Esto instalará el servidor MySQL, la interfaz de línea de comandos (MySQL Shell) y otras herramientas útiles."
      ],
      "metadata": {
        "id": "3dL_Yp0O6PTs"
      }
    },
    {
      "cell_type": "code",
      "source": [
        "CREATE DATABASE nombre_de_la_base_de_datos;\n"
      ],
      "metadata": {
        "id": "eVDLi4fV-lWi"
      },
      "execution_count": null,
      "outputs": []
    },
    {
      "cell_type": "code",
      "source": [
        "USE nombre_de_la_base_de_datos;\n"
      ],
      "metadata": {
        "id": "dSRGBVl6-n7L"
      },
      "execution_count": null,
      "outputs": []
    },
    {
      "cell_type": "code",
      "source": [
        "CREATE TABLE usuarios (\n",
        "    id INT AUTO_INCREMENT PRIMARY KEY,\n",
        "    nombre_usuario VARCHAR(255) NOT NULL,\n",
        "    contraseña VARCHAR(255) NOT NULL\n",
        ");"
      ],
      "metadata": {
        "id": "Gae9Efly-pyp"
      },
      "execution_count": null,
      "outputs": []
    },
    {
      "cell_type": "markdown",
      "source": [
        "Biblioteca : es una colección de módulos, una biblioteca o, llamada por vicio del lenguaje librería, es un conjunto de módulos cuya agrupación tiene una finalidad específica y que también puede ser invocada, tal como un módulo. Pero no es un módulo, sino un conjunto de ellos con una estructura determinada para lograr una finalidad.\n",
        "\n",
        "\n",
        "Módulo: Cada uno de un conjunto de partes estandarizadas o unidades independientes que se pueden utilizar para construir una estructura más compleja. En programación un módulo se define como la porción de un programa.\n",
        "\n",
        "Hablando en lenguaje informal, un módulo es un conjunto de líneas de código que se utilizan para un propósito específico y se pueden usar en otros programas como lo es, para evitar DRY (Don't R epeat Y nosotros mismos) como equipo y centrándose en el requisito principal.\n",
        "\n",
        "API es una interfaz para que otras aplicaciones interactúen con su biblioteca sin tener acceso directo.\n",
        "\n",
        "Package es básicamente un directorio con archivos.\n",
        "\n",
        "Script significa una serie de comandos dentro de un solo archivo.\n",
        "\n",
        "# BIBLIOTECAS\n",
        "\n",
        "Conjunto de implementos funcionales que te ayudarán a codificar todo este lenguaje de programación para crear una interfaz independiente.\n",
        "\n",
        "Las librerías de Python son amplias y cuentan con gran cantidad de producciones en contenidos. Constan de diversos módulos que permiten el acceso de funcionalidades específicas del sistema como entrada y salida de archivos, soluciones estandarizadas a problemas de programación, etc.\n",
        "\n",
        "Además, dependiendo del sistema operativo que tengas, puedes conseguir diferentes funciones de cada una de las librerías de Python. Por ejemplo, para el sistema Windows se incluye la biblioteca estándar completa junto con componentes adicionales.\n",
        "\n",
        "## ¿Cuáles son los tipos de librerías de Python que existen?\n",
        "Las librerías de Python pueden ser utilizadas para muchas áreas de programación, pues cada sistema cuenta con diferentes procesos que necesitan de una biblioteca específica para resolver diversas funciones.  \n",
        "\n",
        "A continuación, te presentamos algunos tipos de librerías de programación para que elijas el que mejor se acomoda a tus necesidades.\n",
        "\n",
        "* Visualización: ideales para entender mejor los datos y tener una mejor comprensión de cualquier problema que pueda surgir.\n",
        "* Cálculo Numérico: las más indicadas para la preparación de datos y cálculo de atributos relevantes.\n",
        "* Machine Learning: están enfocadas en procesar información y en resolver problemas de clasificación y regresión de datos.\n",
        "* Deep Learning: orientadas hacia la predicción de datos a partir de un conjunto amplio de información.\n",
        "* Inteligencia Artificial Explicable: aplican métodos y técnicas tecnológicas que aplican inteligencia artificial para brindar resultados eficientes.\n",
        "* Procesamiento de Lenguaje Natural: utilizan el cálculo de frecuencias normalizadas para construir modelos con datos de texto.\n",
        "\n",
        "Como puedes ver, de acuerdo al tipo de trabajo que vayas a realizar, debes seleccionar la librería de Python que más se adecúe a tus objetivos, puesto que no todas te ayudarán a completar las mismas actividades de forma eficiente.\n",
        "\n",
        "### ¿Cuáles son las mejores librerías de Python?\n",
        "\n",
        "1. Matplotlib\n",
        "\n",
        "Esta es una de las librerías de Python más usadas, pues su procesamiento y generador de gráficos son de amplia calidad. Además, te da la facilidad de publicar estos datos tanto de manera física, bajo impresión, como también digitalmente.\n",
        "\n",
        "Utiliza trazados 2D y muchos tipos de gráficos que se crean con pocas líneas de código. Algunos ejemplos son los histogramas, diagramas de barras, espectros de potencia, series temporales, diagramas de errores, etc.\n",
        "\n",
        "2. Seaborn\n",
        "\n",
        "Seaborn es una librería gráfica de Python especializada en la visualización de datos estadísticos. Dentro de sus principales características, podemos destacar su interfaz de alto nivel, la cual es atractiva y muy interactiva.\n",
        "\n",
        "Este aspecto resulta fundamental cuando llega el momento de esclarecer los datos luego de un análisis, pues hace que la visualización de los mismos sea más sencilla.\n",
        "\n",
        "3. Bokeh\n",
        "\n",
        "Esta es una de las librerías de Python que te ayudará a visualizar los datos desde una perspectiva más interactiva dentro de un navegador web. Además, puedes crear gráficos elegantes y versátiles con datos que llegan en tiempo real, gracias a sus desarrolladores de buen rendimiento.\n",
        "\n",
        "4. NumPy\n",
        "\n",
        "De todas las librerías de Python, Numpy te permite crear una estructura universal de datos para facilitar su análisis e intercambio de varios algoritmos.\n",
        "\n",
        "5. SciPy\n",
        "\n",
        "Por otro lado, SciPy es una librería de python especializada en el cálculo numérico y el análisis de datos, pues te permite crear rutinas numéricas con estructura de datos. Además, es sencilla de usar y operar, e incorpora las siguientes funciones: optimización, integración numérica, álgebra lineal, estadística, transformadas de Fourier, etc.\n",
        "\n",
        "6. Pandas\n",
        "\n",
        "Si estás buscando una biblioteca de Python enfocada en los datos científicos, Pandas es una de las más útiles que encontrarás. Sus principales funciones se conforman por Series de datos y el Data Frame para dos dimensiones.\n",
        "\n",
        "Adicionalmente, es muy sencilla de usar para manipular datos y se utiliza en campos como finanzas, ciencias sociales, estadística e ingeniería.\n"
      ],
      "metadata": {
        "id": "ptYarXY2BHgu"
      }
    },
    {
      "cell_type": "code",
      "source": [
        "!pip install emoji\n",
        "\n",
        "import emoji\n",
        "\n",
        "print(emoji.emojize(':baby:'))\n",
        "print(emoji.emojize(':rose:'))\n",
        "print(emoji.emojize(':red_heart:'))\n",
        "print(emoji.emojize(':books:'))"
      ],
      "metadata": {
        "colab": {
          "base_uri": "https://localhost:8080/"
        },
        "id": "sXiH5SazBudk",
        "outputId": "7f659325-765b-4878-85a7-0877c1d645eb"
      },
      "execution_count": null,
      "outputs": [
        {
          "output_type": "stream",
          "name": "stdout",
          "text": [
            "Collecting emoji\n",
            "  Downloading emoji-2.8.0-py2.py3-none-any.whl (358 kB)\n",
            "\u001b[2K     \u001b[90m━━━━━━━━━━━━━━━━━━━━━━━━━━━━━━━━━━━━━━━\u001b[0m \u001b[32m358.9/358.9 kB\u001b[0m \u001b[31m2.7 MB/s\u001b[0m eta \u001b[36m0:00:00\u001b[0m\n",
            "\u001b[?25hInstalling collected packages: emoji\n",
            "Successfully installed emoji-2.8.0\n",
            "👶\n",
            "🌹\n",
            "❤️\n",
            "📚\n"
          ]
        }
      ]
    },
    {
      "cell_type": "code",
      "source": [
        "!pip install pyfiglet\n",
        "\n",
        "import pyfiglet\n",
        "font = pyfiglet.figlet_format('PILARES')\n",
        "\n",
        "print(font)"
      ],
      "metadata": {
        "colab": {
          "base_uri": "https://localhost:8080/"
        },
        "id": "dT8OARjDBxGl",
        "outputId": "52c42132-2749-4c16-ab1b-d66439926be8"
      },
      "execution_count": null,
      "outputs": [
        {
          "output_type": "stream",
          "name": "stdout",
          "text": [
            "Collecting pyfiglet\n",
            "  Downloading pyfiglet-0.8.post1-py2.py3-none-any.whl (865 kB)\n",
            "\u001b[2K     \u001b[90m━━━━━━━━━━━━━━━━━━━━━━━━━━━━━━━━━━━━━━━\u001b[0m \u001b[32m865.8/865.8 kB\u001b[0m \u001b[31m7.6 MB/s\u001b[0m eta \u001b[36m0:00:00\u001b[0m\n",
            "\u001b[?25hInstalling collected packages: pyfiglet\n",
            "Successfully installed pyfiglet-0.8.post1\n",
            " ____ ___ _        _    ____  _____ ____  \n",
            "|  _ \\_ _| |      / \\  |  _ \\| ____/ ___| \n",
            "| |_) | || |     / _ \\ | |_) |  _| \\___ \\ \n",
            "|  __/| || |___ / ___ \\|  _ <| |___ ___) |\n",
            "|_|  |___|_____/_/   \\_\\_| \\_\\_____|____/ \n",
            "                                          \n",
            "\n"
          ]
        }
      ]
    },
    {
      "cell_type": "code",
      "source": [
        "from calendar import *\n",
        "year = int(input('ingresa el año '))\n",
        "print(calendar(year,2,1,8,4))"
      ],
      "metadata": {
        "id": "ifBMVKPnB0N0"
      },
      "execution_count": null,
      "outputs": []
    },
    {
      "cell_type": "code",
      "source": [
        "\n",
        "!pip install countryinfo\n",
        "\n",
        "from countryinfo import CountryInfo\n",
        "count = input('Ingresa el nombre del país del que requieres información')\n",
        "country = CountryInfo(count)\n",
        "print('La capital es: ',country.capital())\n",
        "print('La abreviatura es: ',country.currencies())\n",
        "print('El lenguaje es: ',country.languages())\n",
        "print('Hace frontera con: ',country.borders())\n",
        "print('Otros nombres son: ',country.alt_spellings())"
      ],
      "metadata": {
        "id": "Hy4le6IvB3MM"
      },
      "execution_count": null,
      "outputs": []
    },
    {
      "cell_type": "markdown",
      "source": [
        "## PANDAS"
      ],
      "metadata": {
        "id": "aWR1O9YLB9-r"
      }
    },
    {
      "cell_type": "code",
      "source": [
        "from google.colab import drive\n",
        "drive.mount('/content/drive') #ruta para nuestro drive"
      ],
      "metadata": {
        "colab": {
          "base_uri": "https://localhost:8080/"
        },
        "id": "LVWTBo_xDK_g",
        "outputId": "6692329b-af2c-47d4-f6ed-12a87b61ca0c"
      },
      "execution_count": null,
      "outputs": [
        {
          "output_type": "stream",
          "name": "stdout",
          "text": [
            "Mounted at /content/drive\n"
          ]
        }
      ]
    },
    {
      "cell_type": "code",
      "source": [
        "import pandas as pd #por convencion el alias es pd"
      ],
      "metadata": {
        "id": "lBlgEsmuDODJ"
      },
      "execution_count": null,
      "outputs": []
    },
    {
      "cell_type": "code",
      "source": [
        "pilares = pd.read_csv('/content/drive/MyDrive/inmersion_datos/pilares300.csv') #ruta copiada de drive lado izquierdo\n",
        "pilares.head()"
      ],
      "metadata": {
        "id": "SHbSlEmnDQrg"
      },
      "execution_count": null,
      "outputs": []
    },
    {
      "cell_type": "code",
      "source": [
        "pilares.shape"
      ],
      "metadata": {
        "colab": {
          "base_uri": "https://localhost:8080/"
        },
        "id": "fDIDqX5LEMkR",
        "outputId": "ed0e42e8-a582-4a49-a254-32ad63f49cb4"
      },
      "execution_count": null,
      "outputs": [
        {
          "output_type": "execute_result",
          "data": {
            "text/plain": [
              "(300, 7)"
            ]
          },
          "metadata": {},
          "execution_count": 5
        }
      ]
    },
    {
      "cell_type": "code",
      "source": [
        "pilares.columns"
      ],
      "metadata": {
        "colab": {
          "base_uri": "https://localhost:8080/"
        },
        "id": "SVYFYHx9EQsd",
        "outputId": "5e5e29d9-b3af-407a-800e-3616fb4f08bb"
      },
      "execution_count": null,
      "outputs": [
        {
          "output_type": "execute_result",
          "data": {
            "text/plain": [
              "Index(['CLAVE_ID', 'NOMBRE_PILARES*', 'ESTATUS', 'REGION', 'ALCALDIA',\n",
              "       'LATITUD', 'LONGITUD'],\n",
              "      dtype='object')"
            ]
          },
          "metadata": {},
          "execution_count": 6
        }
      ]
    },
    {
      "cell_type": "code",
      "source": [
        "pilares.info()"
      ],
      "metadata": {
        "colab": {
          "base_uri": "https://localhost:8080/"
        },
        "id": "2iHYxuV-EWdW",
        "outputId": "da2c7499-c211-431e-891c-acbec873413b"
      },
      "execution_count": null,
      "outputs": [
        {
          "output_type": "stream",
          "name": "stdout",
          "text": [
            "<class 'pandas.core.frame.DataFrame'>\n",
            "RangeIndex: 300 entries, 0 to 299\n",
            "Data columns (total 7 columns):\n",
            " #   Column           Non-Null Count  Dtype  \n",
            "---  ------           --------------  -----  \n",
            " 0   CLAVE_ID         300 non-null    object \n",
            " 1   NOMBRE_PILARES*  300 non-null    object \n",
            " 2   ESTATUS          300 non-null    object \n",
            " 3   REGION           300 non-null    object \n",
            " 4   ALCALDIA         300 non-null    object \n",
            " 5   LATITUD          296 non-null    float64\n",
            " 6   LONGITUD         296 non-null    float64\n",
            "dtypes: float64(2), object(5)\n",
            "memory usage: 16.5+ KB\n"
          ]
        }
      ]
    },
    {
      "cell_type": "code",
      "source": [
        "pilares.iloc[50]\n",
        "pilares.iloc[50:70]"
      ],
      "metadata": {
        "colab": {
          "base_uri": "https://localhost:8080/",
          "height": 677
        },
        "id": "gXhp5KtpEbaV",
        "outputId": "e35988b4-86eb-4c65-c5cb-0b5d9860cd94"
      },
      "execution_count": null,
      "outputs": [
        {
          "output_type": "execute_result",
          "data": {
            "text/plain": [
              "      CLAVE_ID              NOMBRE_PILARES*           ESTATUS          REGION  \\\n",
              "50  051_IZ_IZP                     PALMITAS  01. EN OPERACIÓN      IZTAPALAPA   \n",
              "51  052_IZ_IZP          SAN MIGUEL TEOTONGO  01. EN OPERACIÓN      IZTAPALAPA   \n",
              "52  053_IZ_IZP                   RENOVACIÓN  01. EN OPERACIÓN      IZTAPALAPA   \n",
              "53  054_CO_BEJ              MUNICIPIO LIBRE  01. EN OPERACIÓN  CENTRO ORIENTE   \n",
              "54  055_NT_GAM                   CENTENARIO  01. EN OPERACIÓN           NORTE   \n",
              "55  056_CO_CUH  GLORIETA DE LOS INSURGENTES  01. EN OPERACIÓN  CENTRO ORIENTE   \n",
              "56  057_SU_MIA            SAN PEDRO ATOCPAN  01. EN OPERACIÓN             SUR   \n",
              "57  058_SU_MIA      SAN BARTOLOMÉ XICOMULCO  01. EN OPERACIÓN             SUR   \n",
              "58  059_CO_IZT                   ROJO GOMEZ  01. EN OPERACIÓN  CENTRO ORIENTE   \n",
              "59  060_SU_XOC             16 DE SEPTIEMBRE  01. EN OPERACIÓN             SUR   \n",
              "60  061_NT_AZC                   LA NARANJA  01. EN OPERACIÓN           NORTE   \n",
              "61  062_NT_AZC                  XOCHINAHUAC  01. EN OPERACIÓN           NORTE   \n",
              "62  063_PT_AOB                  PRESIDENTES  01. EN OPERACIÓN        PONIENTE   \n",
              "63  064_IZ_IZP                        NOGAL  01. EN OPERACIÓN      IZTAPALAPA   \n",
              "64  065_IZ_IZP                      TETECÓN  01. EN OPERACIÓN      IZTAPALAPA   \n",
              "65  066_IZ_IZP                    VILLA CID  01. EN OPERACIÓN      IZTAPALAPA   \n",
              "66  067_PT_AOB                  SANTA LUCIA  01. EN OPERACIÓN        PONIENTE   \n",
              "67  068_IZ_IZP                     YAUTLICA  01. EN OPERACIÓN      IZTAPALAPA   \n",
              "68  069_NT_GAM                   100 METROS  01. EN OPERACIÓN           NORTE   \n",
              "69  070_SU_TLH                      MIXQUIC  01. EN OPERACIÓN             SUR   \n",
              "\n",
              "             ALCALDIA    LATITUD   LONGITUD  \n",
              "50         IZTAPALAPA  19.338964 -99.026068  \n",
              "51         IZTAPALAPA  19.340401 -98.992654  \n",
              "52         IZTAPALAPA  19.369484 -99.046966  \n",
              "53      BENITO JUAREZ  19.368044 -99.141578  \n",
              "54  GUSTAVO A. MADERO  19.509094 -99.090721  \n",
              "55         CUAUHTEMOC  19.423367 -99.162892  \n",
              "56         MILPA ALTA  19.202638 -99.052149  \n",
              "57         MILPA ALTA  19.206866 -99.071139  \n",
              "58          IZTACALCO  19.404746 -99.071009  \n",
              "59         XOCHIMILCO  19.280984 -99.137330  \n",
              "60       AZCAPOTZALCO  19.474472 -99.218516  \n",
              "61       AZCAPOTZALCO  19.509864 -99.189229  \n",
              "62     ALVARO OBREGON  19.377244 -99.221328  \n",
              "63         IZTAPALAPA  19.342065 -99.022783  \n",
              "64         IZTAPALAPA  19.322400 -99.029000  \n",
              "65         IZTAPALAPA  19.321683 -99.042487  \n",
              "66     ALVARO OBREGON  19.368733 -99.222838  \n",
              "67         IZTAPALAPA  19.333262 -98.983934  \n",
              "68  GUSTAVO A. MADERO  19.526523 -99.158897  \n",
              "69            TLAHUAC  19.226245 -98.952629  "
            ],
            "text/html": [
              "\n",
              "  <div id=\"df-9003c85b-2d32-4aae-b894-ca02d15b5e81\" class=\"colab-df-container\">\n",
              "    <div>\n",
              "<style scoped>\n",
              "    .dataframe tbody tr th:only-of-type {\n",
              "        vertical-align: middle;\n",
              "    }\n",
              "\n",
              "    .dataframe tbody tr th {\n",
              "        vertical-align: top;\n",
              "    }\n",
              "\n",
              "    .dataframe thead th {\n",
              "        text-align: right;\n",
              "    }\n",
              "</style>\n",
              "<table border=\"1\" class=\"dataframe\">\n",
              "  <thead>\n",
              "    <tr style=\"text-align: right;\">\n",
              "      <th></th>\n",
              "      <th>CLAVE_ID</th>\n",
              "      <th>NOMBRE_PILARES*</th>\n",
              "      <th>ESTATUS</th>\n",
              "      <th>REGION</th>\n",
              "      <th>ALCALDIA</th>\n",
              "      <th>LATITUD</th>\n",
              "      <th>LONGITUD</th>\n",
              "    </tr>\n",
              "  </thead>\n",
              "  <tbody>\n",
              "    <tr>\n",
              "      <th>50</th>\n",
              "      <td>051_IZ_IZP</td>\n",
              "      <td>PALMITAS</td>\n",
              "      <td>01. EN OPERACIÓN</td>\n",
              "      <td>IZTAPALAPA</td>\n",
              "      <td>IZTAPALAPA</td>\n",
              "      <td>19.338964</td>\n",
              "      <td>-99.026068</td>\n",
              "    </tr>\n",
              "    <tr>\n",
              "      <th>51</th>\n",
              "      <td>052_IZ_IZP</td>\n",
              "      <td>SAN MIGUEL TEOTONGO</td>\n",
              "      <td>01. EN OPERACIÓN</td>\n",
              "      <td>IZTAPALAPA</td>\n",
              "      <td>IZTAPALAPA</td>\n",
              "      <td>19.340401</td>\n",
              "      <td>-98.992654</td>\n",
              "    </tr>\n",
              "    <tr>\n",
              "      <th>52</th>\n",
              "      <td>053_IZ_IZP</td>\n",
              "      <td>RENOVACIÓN</td>\n",
              "      <td>01. EN OPERACIÓN</td>\n",
              "      <td>IZTAPALAPA</td>\n",
              "      <td>IZTAPALAPA</td>\n",
              "      <td>19.369484</td>\n",
              "      <td>-99.046966</td>\n",
              "    </tr>\n",
              "    <tr>\n",
              "      <th>53</th>\n",
              "      <td>054_CO_BEJ</td>\n",
              "      <td>MUNICIPIO LIBRE</td>\n",
              "      <td>01. EN OPERACIÓN</td>\n",
              "      <td>CENTRO ORIENTE</td>\n",
              "      <td>BENITO JUAREZ</td>\n",
              "      <td>19.368044</td>\n",
              "      <td>-99.141578</td>\n",
              "    </tr>\n",
              "    <tr>\n",
              "      <th>54</th>\n",
              "      <td>055_NT_GAM</td>\n",
              "      <td>CENTENARIO</td>\n",
              "      <td>01. EN OPERACIÓN</td>\n",
              "      <td>NORTE</td>\n",
              "      <td>GUSTAVO A. MADERO</td>\n",
              "      <td>19.509094</td>\n",
              "      <td>-99.090721</td>\n",
              "    </tr>\n",
              "    <tr>\n",
              "      <th>55</th>\n",
              "      <td>056_CO_CUH</td>\n",
              "      <td>GLORIETA DE LOS INSURGENTES</td>\n",
              "      <td>01. EN OPERACIÓN</td>\n",
              "      <td>CENTRO ORIENTE</td>\n",
              "      <td>CUAUHTEMOC</td>\n",
              "      <td>19.423367</td>\n",
              "      <td>-99.162892</td>\n",
              "    </tr>\n",
              "    <tr>\n",
              "      <th>56</th>\n",
              "      <td>057_SU_MIA</td>\n",
              "      <td>SAN PEDRO ATOCPAN</td>\n",
              "      <td>01. EN OPERACIÓN</td>\n",
              "      <td>SUR</td>\n",
              "      <td>MILPA ALTA</td>\n",
              "      <td>19.202638</td>\n",
              "      <td>-99.052149</td>\n",
              "    </tr>\n",
              "    <tr>\n",
              "      <th>57</th>\n",
              "      <td>058_SU_MIA</td>\n",
              "      <td>SAN BARTOLOMÉ XICOMULCO</td>\n",
              "      <td>01. EN OPERACIÓN</td>\n",
              "      <td>SUR</td>\n",
              "      <td>MILPA ALTA</td>\n",
              "      <td>19.206866</td>\n",
              "      <td>-99.071139</td>\n",
              "    </tr>\n",
              "    <tr>\n",
              "      <th>58</th>\n",
              "      <td>059_CO_IZT</td>\n",
              "      <td>ROJO GOMEZ</td>\n",
              "      <td>01. EN OPERACIÓN</td>\n",
              "      <td>CENTRO ORIENTE</td>\n",
              "      <td>IZTACALCO</td>\n",
              "      <td>19.404746</td>\n",
              "      <td>-99.071009</td>\n",
              "    </tr>\n",
              "    <tr>\n",
              "      <th>59</th>\n",
              "      <td>060_SU_XOC</td>\n",
              "      <td>16 DE SEPTIEMBRE</td>\n",
              "      <td>01. EN OPERACIÓN</td>\n",
              "      <td>SUR</td>\n",
              "      <td>XOCHIMILCO</td>\n",
              "      <td>19.280984</td>\n",
              "      <td>-99.137330</td>\n",
              "    </tr>\n",
              "    <tr>\n",
              "      <th>60</th>\n",
              "      <td>061_NT_AZC</td>\n",
              "      <td>LA NARANJA</td>\n",
              "      <td>01. EN OPERACIÓN</td>\n",
              "      <td>NORTE</td>\n",
              "      <td>AZCAPOTZALCO</td>\n",
              "      <td>19.474472</td>\n",
              "      <td>-99.218516</td>\n",
              "    </tr>\n",
              "    <tr>\n",
              "      <th>61</th>\n",
              "      <td>062_NT_AZC</td>\n",
              "      <td>XOCHINAHUAC</td>\n",
              "      <td>01. EN OPERACIÓN</td>\n",
              "      <td>NORTE</td>\n",
              "      <td>AZCAPOTZALCO</td>\n",
              "      <td>19.509864</td>\n",
              "      <td>-99.189229</td>\n",
              "    </tr>\n",
              "    <tr>\n",
              "      <th>62</th>\n",
              "      <td>063_PT_AOB</td>\n",
              "      <td>PRESIDENTES</td>\n",
              "      <td>01. EN OPERACIÓN</td>\n",
              "      <td>PONIENTE</td>\n",
              "      <td>ALVARO OBREGON</td>\n",
              "      <td>19.377244</td>\n",
              "      <td>-99.221328</td>\n",
              "    </tr>\n",
              "    <tr>\n",
              "      <th>63</th>\n",
              "      <td>064_IZ_IZP</td>\n",
              "      <td>NOGAL</td>\n",
              "      <td>01. EN OPERACIÓN</td>\n",
              "      <td>IZTAPALAPA</td>\n",
              "      <td>IZTAPALAPA</td>\n",
              "      <td>19.342065</td>\n",
              "      <td>-99.022783</td>\n",
              "    </tr>\n",
              "    <tr>\n",
              "      <th>64</th>\n",
              "      <td>065_IZ_IZP</td>\n",
              "      <td>TETECÓN</td>\n",
              "      <td>01. EN OPERACIÓN</td>\n",
              "      <td>IZTAPALAPA</td>\n",
              "      <td>IZTAPALAPA</td>\n",
              "      <td>19.322400</td>\n",
              "      <td>-99.029000</td>\n",
              "    </tr>\n",
              "    <tr>\n",
              "      <th>65</th>\n",
              "      <td>066_IZ_IZP</td>\n",
              "      <td>VILLA CID</td>\n",
              "      <td>01. EN OPERACIÓN</td>\n",
              "      <td>IZTAPALAPA</td>\n",
              "      <td>IZTAPALAPA</td>\n",
              "      <td>19.321683</td>\n",
              "      <td>-99.042487</td>\n",
              "    </tr>\n",
              "    <tr>\n",
              "      <th>66</th>\n",
              "      <td>067_PT_AOB</td>\n",
              "      <td>SANTA LUCIA</td>\n",
              "      <td>01. EN OPERACIÓN</td>\n",
              "      <td>PONIENTE</td>\n",
              "      <td>ALVARO OBREGON</td>\n",
              "      <td>19.368733</td>\n",
              "      <td>-99.222838</td>\n",
              "    </tr>\n",
              "    <tr>\n",
              "      <th>67</th>\n",
              "      <td>068_IZ_IZP</td>\n",
              "      <td>YAUTLICA</td>\n",
              "      <td>01. EN OPERACIÓN</td>\n",
              "      <td>IZTAPALAPA</td>\n",
              "      <td>IZTAPALAPA</td>\n",
              "      <td>19.333262</td>\n",
              "      <td>-98.983934</td>\n",
              "    </tr>\n",
              "    <tr>\n",
              "      <th>68</th>\n",
              "      <td>069_NT_GAM</td>\n",
              "      <td>100 METROS</td>\n",
              "      <td>01. EN OPERACIÓN</td>\n",
              "      <td>NORTE</td>\n",
              "      <td>GUSTAVO A. MADERO</td>\n",
              "      <td>19.526523</td>\n",
              "      <td>-99.158897</td>\n",
              "    </tr>\n",
              "    <tr>\n",
              "      <th>69</th>\n",
              "      <td>070_SU_TLH</td>\n",
              "      <td>MIXQUIC</td>\n",
              "      <td>01. EN OPERACIÓN</td>\n",
              "      <td>SUR</td>\n",
              "      <td>TLAHUAC</td>\n",
              "      <td>19.226245</td>\n",
              "      <td>-98.952629</td>\n",
              "    </tr>\n",
              "  </tbody>\n",
              "</table>\n",
              "</div>\n",
              "    <div class=\"colab-df-buttons\">\n",
              "\n",
              "  <div class=\"colab-df-container\">\n",
              "    <button class=\"colab-df-convert\" onclick=\"convertToInteractive('df-9003c85b-2d32-4aae-b894-ca02d15b5e81')\"\n",
              "            title=\"Convert this dataframe to an interactive table.\"\n",
              "            style=\"display:none;\">\n",
              "\n",
              "  <svg xmlns=\"http://www.w3.org/2000/svg\" height=\"24px\" viewBox=\"0 -960 960 960\">\n",
              "    <path d=\"M120-120v-720h720v720H120Zm60-500h600v-160H180v160Zm220 220h160v-160H400v160Zm0 220h160v-160H400v160ZM180-400h160v-160H180v160Zm440 0h160v-160H620v160ZM180-180h160v-160H180v160Zm440 0h160v-160H620v160Z\"/>\n",
              "  </svg>\n",
              "    </button>\n",
              "\n",
              "  <style>\n",
              "    .colab-df-container {\n",
              "      display:flex;\n",
              "      gap: 12px;\n",
              "    }\n",
              "\n",
              "    .colab-df-convert {\n",
              "      background-color: #E8F0FE;\n",
              "      border: none;\n",
              "      border-radius: 50%;\n",
              "      cursor: pointer;\n",
              "      display: none;\n",
              "      fill: #1967D2;\n",
              "      height: 32px;\n",
              "      padding: 0 0 0 0;\n",
              "      width: 32px;\n",
              "    }\n",
              "\n",
              "    .colab-df-convert:hover {\n",
              "      background-color: #E2EBFA;\n",
              "      box-shadow: 0px 1px 2px rgba(60, 64, 67, 0.3), 0px 1px 3px 1px rgba(60, 64, 67, 0.15);\n",
              "      fill: #174EA6;\n",
              "    }\n",
              "\n",
              "    .colab-df-buttons div {\n",
              "      margin-bottom: 4px;\n",
              "    }\n",
              "\n",
              "    [theme=dark] .colab-df-convert {\n",
              "      background-color: #3B4455;\n",
              "      fill: #D2E3FC;\n",
              "    }\n",
              "\n",
              "    [theme=dark] .colab-df-convert:hover {\n",
              "      background-color: #434B5C;\n",
              "      box-shadow: 0px 1px 3px 1px rgba(0, 0, 0, 0.15);\n",
              "      filter: drop-shadow(0px 1px 2px rgba(0, 0, 0, 0.3));\n",
              "      fill: #FFFFFF;\n",
              "    }\n",
              "  </style>\n",
              "\n",
              "    <script>\n",
              "      const buttonEl =\n",
              "        document.querySelector('#df-9003c85b-2d32-4aae-b894-ca02d15b5e81 button.colab-df-convert');\n",
              "      buttonEl.style.display =\n",
              "        google.colab.kernel.accessAllowed ? 'block' : 'none';\n",
              "\n",
              "      async function convertToInteractive(key) {\n",
              "        const element = document.querySelector('#df-9003c85b-2d32-4aae-b894-ca02d15b5e81');\n",
              "        const dataTable =\n",
              "          await google.colab.kernel.invokeFunction('convertToInteractive',\n",
              "                                                    [key], {});\n",
              "        if (!dataTable) return;\n",
              "\n",
              "        const docLinkHtml = 'Like what you see? Visit the ' +\n",
              "          '<a target=\"_blank\" href=https://colab.research.google.com/notebooks/data_table.ipynb>data table notebook</a>'\n",
              "          + ' to learn more about interactive tables.';\n",
              "        element.innerHTML = '';\n",
              "        dataTable['output_type'] = 'display_data';\n",
              "        await google.colab.output.renderOutput(dataTable, element);\n",
              "        const docLink = document.createElement('div');\n",
              "        docLink.innerHTML = docLinkHtml;\n",
              "        element.appendChild(docLink);\n",
              "      }\n",
              "    </script>\n",
              "  </div>\n",
              "\n",
              "\n",
              "<div id=\"df-1db14d4c-df37-4f09-94a8-2087a0200943\">\n",
              "  <button class=\"colab-df-quickchart\" onclick=\"quickchart('df-1db14d4c-df37-4f09-94a8-2087a0200943')\"\n",
              "            title=\"Suggest charts.\"\n",
              "            style=\"display:none;\">\n",
              "\n",
              "<svg xmlns=\"http://www.w3.org/2000/svg\" height=\"24px\"viewBox=\"0 0 24 24\"\n",
              "     width=\"24px\">\n",
              "    <g>\n",
              "        <path d=\"M19 3H5c-1.1 0-2 .9-2 2v14c0 1.1.9 2 2 2h14c1.1 0 2-.9 2-2V5c0-1.1-.9-2-2-2zM9 17H7v-7h2v7zm4 0h-2V7h2v10zm4 0h-2v-4h2v4z\"/>\n",
              "    </g>\n",
              "</svg>\n",
              "  </button>\n",
              "\n",
              "<style>\n",
              "  .colab-df-quickchart {\n",
              "      --bg-color: #E8F0FE;\n",
              "      --fill-color: #1967D2;\n",
              "      --hover-bg-color: #E2EBFA;\n",
              "      --hover-fill-color: #174EA6;\n",
              "      --disabled-fill-color: #AAA;\n",
              "      --disabled-bg-color: #DDD;\n",
              "  }\n",
              "\n",
              "  [theme=dark] .colab-df-quickchart {\n",
              "      --bg-color: #3B4455;\n",
              "      --fill-color: #D2E3FC;\n",
              "      --hover-bg-color: #434B5C;\n",
              "      --hover-fill-color: #FFFFFF;\n",
              "      --disabled-bg-color: #3B4455;\n",
              "      --disabled-fill-color: #666;\n",
              "  }\n",
              "\n",
              "  .colab-df-quickchart {\n",
              "    background-color: var(--bg-color);\n",
              "    border: none;\n",
              "    border-radius: 50%;\n",
              "    cursor: pointer;\n",
              "    display: none;\n",
              "    fill: var(--fill-color);\n",
              "    height: 32px;\n",
              "    padding: 0;\n",
              "    width: 32px;\n",
              "  }\n",
              "\n",
              "  .colab-df-quickchart:hover {\n",
              "    background-color: var(--hover-bg-color);\n",
              "    box-shadow: 0 1px 2px rgba(60, 64, 67, 0.3), 0 1px 3px 1px rgba(60, 64, 67, 0.15);\n",
              "    fill: var(--button-hover-fill-color);\n",
              "  }\n",
              "\n",
              "  .colab-df-quickchart-complete:disabled,\n",
              "  .colab-df-quickchart-complete:disabled:hover {\n",
              "    background-color: var(--disabled-bg-color);\n",
              "    fill: var(--disabled-fill-color);\n",
              "    box-shadow: none;\n",
              "  }\n",
              "\n",
              "  .colab-df-spinner {\n",
              "    border: 2px solid var(--fill-color);\n",
              "    border-color: transparent;\n",
              "    border-bottom-color: var(--fill-color);\n",
              "    animation:\n",
              "      spin 1s steps(1) infinite;\n",
              "  }\n",
              "\n",
              "  @keyframes spin {\n",
              "    0% {\n",
              "      border-color: transparent;\n",
              "      border-bottom-color: var(--fill-color);\n",
              "      border-left-color: var(--fill-color);\n",
              "    }\n",
              "    20% {\n",
              "      border-color: transparent;\n",
              "      border-left-color: var(--fill-color);\n",
              "      border-top-color: var(--fill-color);\n",
              "    }\n",
              "    30% {\n",
              "      border-color: transparent;\n",
              "      border-left-color: var(--fill-color);\n",
              "      border-top-color: var(--fill-color);\n",
              "      border-right-color: var(--fill-color);\n",
              "    }\n",
              "    40% {\n",
              "      border-color: transparent;\n",
              "      border-right-color: var(--fill-color);\n",
              "      border-top-color: var(--fill-color);\n",
              "    }\n",
              "    60% {\n",
              "      border-color: transparent;\n",
              "      border-right-color: var(--fill-color);\n",
              "    }\n",
              "    80% {\n",
              "      border-color: transparent;\n",
              "      border-right-color: var(--fill-color);\n",
              "      border-bottom-color: var(--fill-color);\n",
              "    }\n",
              "    90% {\n",
              "      border-color: transparent;\n",
              "      border-bottom-color: var(--fill-color);\n",
              "    }\n",
              "  }\n",
              "</style>\n",
              "\n",
              "  <script>\n",
              "    async function quickchart(key) {\n",
              "      const quickchartButtonEl =\n",
              "        document.querySelector('#' + key + ' button');\n",
              "      quickchartButtonEl.disabled = true;  // To prevent multiple clicks.\n",
              "      quickchartButtonEl.classList.add('colab-df-spinner');\n",
              "      try {\n",
              "        const charts = await google.colab.kernel.invokeFunction(\n",
              "            'suggestCharts', [key], {});\n",
              "      } catch (error) {\n",
              "        console.error('Error during call to suggestCharts:', error);\n",
              "      }\n",
              "      quickchartButtonEl.classList.remove('colab-df-spinner');\n",
              "      quickchartButtonEl.classList.add('colab-df-quickchart-complete');\n",
              "    }\n",
              "    (() => {\n",
              "      let quickchartButtonEl =\n",
              "        document.querySelector('#df-1db14d4c-df37-4f09-94a8-2087a0200943 button');\n",
              "      quickchartButtonEl.style.display =\n",
              "        google.colab.kernel.accessAllowed ? 'block' : 'none';\n",
              "    })();\n",
              "  </script>\n",
              "</div>\n",
              "    </div>\n",
              "  </div>\n"
            ]
          },
          "metadata": {},
          "execution_count": 8
        }
      ]
    },
    {
      "cell_type": "code",
      "source": [
        "sum(pilares.ALCALDIA=='AZCAPOTZALCO')"
      ],
      "metadata": {
        "colab": {
          "base_uri": "https://localhost:8080/"
        },
        "id": "kOFPAltTEkzS",
        "outputId": "274d422d-3d05-4f83-d1c4-e4cee9e13798"
      },
      "execution_count": null,
      "outputs": [
        {
          "output_type": "execute_result",
          "data": {
            "text/plain": [
              "15"
            ]
          },
          "metadata": {},
          "execution_count": 12
        }
      ]
    },
    {
      "cell_type": "code",
      "source": [
        "pilares.ALCALDIA.value_counts()"
      ],
      "metadata": {
        "colab": {
          "base_uri": "https://localhost:8080/"
        },
        "id": "P9s1E7UmE4rB",
        "outputId": "f1e564ad-ca02-49e4-bd2b-4d4b5862eafa"
      },
      "execution_count": null,
      "outputs": [
        {
          "output_type": "execute_result",
          "data": {
            "text/plain": [
              "IZTAPALAPA                60\n",
              "GUSTAVO A. MADERO         49\n",
              "ALVARO OBREGON            28\n",
              "TLALPAN                   22\n",
              "XOCHIMILCO                20\n",
              "TLAHUAC                   18\n",
              "CUAUHTEMOC                16\n",
              "AZCAPOTZALCO              15\n",
              "COYOACAN                  14\n",
              "VENUSTIANO CARRANZA       13\n",
              "IZTACALCO                 11\n",
              "MILPA ALTA                10\n",
              "LA MAGDALENA CONTRERAS     9\n",
              "MIGUEL HIDALGO             6\n",
              "CUAJIMALPA DE MORELOS      5\n",
              "BENITO JUAREZ              4\n",
              "Name: ALCALDIA, dtype: int64"
            ]
          },
          "metadata": {},
          "execution_count": 13
        }
      ]
    },
    {
      "cell_type": "code",
      "source": [
        "pilares_por_alcaldia=pilares.ALCALDIA.value_counts()\n",
        "pilares_por_alcaldia.plot.bar()"
      ],
      "metadata": {
        "colab": {
          "base_uri": "https://localhost:8080/",
          "height": 633
        },
        "id": "4Ebl1s2nE_HH",
        "outputId": "36225a13-d2ff-4056-d3d0-102f4f019eed"
      },
      "execution_count": null,
      "outputs": [
        {
          "output_type": "execute_result",
          "data": {
            "text/plain": [
              "<Axes: >"
            ]
          },
          "metadata": {},
          "execution_count": 14
        },
        {
          "output_type": "display_data",
          "data": {
            "text/plain": [
              "<Figure size 640x480 with 1 Axes>"
            ],
            "image/png": "[encoded data removed]"
          },
          "metadata": {}
        }
      ]
    },
    {
      "cell_type": "code",
      "source": [
        "pilares.ESTATUS.value_counts()"
      ],
      "metadata": {
        "colab": {
          "base_uri": "https://localhost:8080/"
        },
        "id": "DqfBtFvVFPA9",
        "outputId": "d1a6bdeb-4e65-40e0-d8e9-737b204742dc"
      },
      "execution_count": null,
      "outputs": [
        {
          "output_type": "execute_result",
          "data": {
            "text/plain": [
              "01. EN OPERACIÓN                  198\n",
              "04. EN OBRA                        68\n",
              "03. OBRA CONCLUIDA-SIN RECIBIR     23\n",
              "02. RECIBIDO SECTEI                11\n",
              "Name: ESTATUS, dtype: int64"
            ]
          },
          "metadata": {},
          "execution_count": 15
        }
      ]
    },
    {
      "cell_type": "code",
      "source": [
        "pilares_por_estatus=pilares.ESTATUS.value_counts()\n",
        "pilares_por_estatus.plot.bar()"
      ],
      "metadata": {
        "colab": {
          "base_uri": "https://localhost:8080/",
          "height": 672
        },
        "id": "IZki-0c9FZ1R",
        "outputId": "6f3cdf67-2815-4d69-a6c7-bf5a0ecc2308"
      },
      "execution_count": null,
      "outputs": [
        {
          "output_type": "execute_result",
          "data": {
            "text/plain": [
              "<Axes: >"
            ]
          },
          "metadata": {},
          "execution_count": 17
        },
        {
          "output_type": "display_data",
          "data": {
            "text/plain": [
              "<Figure size 640x480 with 1 Axes>"
            ],
            "image/png": "[encoded data removed]"
          },
          "metadata": {}
        }
      ]
    },
    {
      "cell_type": "code",
      "source": [
        "import matplotlib.pyplot as plt\n",
        "import seaborn as sns\n",
        "\n",
        "plt.figure(figsize=(10,8))\n",
        "\n",
        "grafica=sns.histplot(data=pilares,x='REGION', kde=True)\n",
        "grafica.set_title('Distribución de pilares por alcaldia')\n",
        "\n",
        "\n",
        "\n",
        "plt.show() #para visualizarlo"
      ],
      "metadata": {
        "colab": {
          "base_uri": "https://localhost:8080/",
          "height": 719
        },
        "id": "P3vu8mIgFsnj",
        "outputId": "ac3dd593-30ca-4ba1-d35c-1a6ca5742c7c"
      },
      "execution_count": null,
      "outputs": [
        {
          "output_type": "display_data",
          "data": {
            "text/plain": [
              "<Figure size 1000x800 with 1 Axes>"
            ],
            "image/png": "[encoded data removed]"
          },
          "metadata": {}
        }
      ]
    },
    {
      "cell_type": "markdown",
      "source": [
        "# AHORCADO\n",
        "\n",
        "app.py"
      ],
      "metadata": {
        "id": "b8fGraatKHeI"
      }
    },
    {
      "cell_type": "code",
      "source": [
        "from flask import Flask, render_template, request, jsonify\n",
        "import random\n",
        "from flask_mysqldb import MySQL\n",
        "\n",
        "app = Flask(__name__)\n",
        "\n",
        "# Configuración de la base de datos\n",
        "app.config['MYSQL_HOST'] = 'localhost'  # Cambia esto por la dirección de tu servidor MySQL\n",
        "app.config['MYSQL_USER'] = 'root'  # Cambia esto por tu nombre de usuario de MySQL\n",
        "app.config['MYSQL_PASSWORD'] = 'yaelmago'  # Cambia esto por tu contraseña de MySQL\n",
        "app.config['MYSQL_DB'] = 'baseusaurios2'  # Cambia esto por el nombre de tu base de datos\n",
        "\n",
        "mysql = MySQL(app)\n",
        "\n",
        "# Lista de palabras para el juego del ahorcado\n",
        "palabras = ['python', 'flask', 'html', 'javascript', 'css', 'web', 'desarrollo']\n",
        "\n",
        "# Palabra aleatoria para el juego\n",
        "palabra_secreta = random.choice(palabras)\n",
        "\n",
        "# Lista para rastrear las letras adivinadas\n",
        "letras_adivinadas = []\n",
        "\n",
        "# Número de intentos permitidos\n",
        "intentos_maximos = 6\n",
        "\n",
        "@app.route('/')\n",
        "def inicio():\n",
        "    return render_template('index.html')\n",
        "\n",
        "@app.route('/juego', methods=['GET', 'POST'])\n",
        "def juego():\n",
        "    global palabra_secreta\n",
        "    global letras_adivinadas\n",
        "\n",
        "    if request.method == 'POST':\n",
        "        letra = request.form.get('letra')\n",
        "\n",
        "        # Verifica si la letra ya fue adivinada\n",
        "        if letra not in letras_adivinadas:\n",
        "            letras_adivinadas.append(letra)\n",
        "\n",
        "    # Calcula las letras adivinadas y no adivinadas\n",
        "    letras_no_adivinadas = [letra if letra in letras_adivinadas else '_' for letra in palabra_secreta]\n",
        "\n",
        "    # Verifica si el juego ha terminado\n",
        "    juego_terminado = all(letra in letras_adivinadas for letra in palabra_secreta) or len(letras_adivinadas) >= intentos_maximos\n",
        "\n",
        "    if juego_terminado:\n",
        "        jugador = Ahorcado(\"david\")  # Reemplaza \"NombreDeJugador\" con el nombre del jugador\n",
        "        resultado = f'¡Felicidades! Adivinaste la Palabra: {\" \".join(palabra_secreta.upper())}' if palabra_secreta == \"\".join(letras_no_adivinadas) else f'¡Lastima! La palabra secreta era: {palabra_secreta.upper()}'\n",
        "        jugador.guardar_resultado(resultado)\n",
        "\n",
        "    return render_template('juego.html', palabra=letras_no_adivinadas, juego_terminado=juego_terminado)\n",
        "\n",
        "@app.route('/reiniciar', methods=['POST'])\n",
        "def reiniciar():\n",
        "    global palabra_secreta\n",
        "    global letras_adivinadas\n",
        "\n",
        "    # Reinicia el juego\n",
        "    palabra_secreta = random.choice(palabras)\n",
        "    letras_adivinadas = []\n",
        "\n",
        "    return jsonify({'message': 'Juego reiniciado.'})\n",
        "\n",
        "# Crea una clase Ahorcado para manejar los resultados y conexión a la base de datos.\n",
        "class Ahorcado:\n",
        "    def __init__(self, nombre):\n",
        "        self.__nombre = nombre\n",
        "\n",
        "    @property\n",
        "    def nombre(self):\n",
        "        return self.__nombre\n",
        "\n",
        "    def guardar_resultado(self, resultado):\n",
        "        cur = mysql.connection.cursor()\n",
        "        cur.execute(\"INSERT INTO resultados (jugador, resultado) VALUES (%s, %s)\", (self.nombre, resultado))\n",
        "        mysql.connection.commit()\n",
        "        cur.close()\n",
        "\n",
        "if __name__ == '__main__':\n",
        "    app.run(debug=True)\n"
      ],
      "metadata": {
        "id": "D9ahTtySKuLt"
      },
      "execution_count": null,
      "outputs": []
    },
    {
      "cell_type": "markdown",
      "source": [
        "index:html"
      ],
      "metadata": {
        "id": "I__pu1yuKzJo"
      }
    },
    {
      "cell_type": "code",
      "source": [
        "<!DOCTYPE html>\n",
        "<html lang=\"en\">\n",
        "<head>\n",
        "    <meta charset=\"UTF-8\">\n",
        "    <title>Juego del Ahorcado</title>\n",
        "</head>\n",
        "<body>\n",
        "    <h1>Bienvenido al Juego del Ahorcado</h1>\n",
        "    <a href=\"/juego\">Comenzar Juego</a>\n",
        "</body>\n",
        "</html>\n"
      ],
      "metadata": {
        "id": "RaYHvESTK1Qs"
      },
      "execution_count": null,
      "outputs": []
    },
    {
      "cell_type": "markdown",
      "source": [
        "juego.html"
      ],
      "metadata": {
        "id": "whYqjsuqLG7A"
      }
    },
    {
      "cell_type": "code",
      "source": [
        "<!DOCTYPE html>\n",
        "<html lang=\"en\">\n",
        "<head>\n",
        "    <meta charset=\"UTF-8\">\n",
        "    <title>Juego del Ahorcado</title>\n",
        "    <link rel=\"stylesheet\" type=\"text/css\" href=\"{{ url_for('static', filename='css/styles.css') }}\">\n",
        "</head>\n",
        "<body>\n",
        "    <h1>Juego del Ahorcado</h1>\n",
        "    <p>Palabra: {% for letra in palabra %} {{ letra }} {% endfor %}</p>\n",
        "    <form method=\"POST\">\n",
        "        <label for=\"letra\">Ingresa una letra:</label>\n",
        "        <input type=\"text\" id=\"letra\" name=\"letra\" maxlength=\"1\">\n",
        "        <button type=\"submit\">Adivinar</button>\n",
        "    </form>\n",
        "    {% if juego_terminado %}\n",
        "    <p>Juego terminado.</p>\n",
        "    <form method=\"POST\" action=\"/reiniciar\">\n",
        "        <button type=\"submit\">Reiniciar Juego</button>\n",
        "    </form>\n",
        "    {% endif %}\n",
        "    <script src=\"{{ url_for('static', filename='js/juego.js') }}\"></script>\n",
        "</body>\n",
        "</html>\n"
      ],
      "metadata": {
        "id": "KvKF8y5wLIv8"
      },
      "execution_count": null,
      "outputs": []
    },
    {
      "cell_type": "markdown",
      "source": [
        "http://localhost:5000"
      ],
      "metadata": {
        "id": "w4fy0vkzLMBY"
      }
    }
  ],
  "metadata": {
    "colab": {
      "provenance": [],
      "authorship_tag": "ABX9TyOYnBLH2XpC7nKHGyOLLd0j",
      "include_colab_link": true
    },
    "kernelspec": {
      "display_name": "Python 3",
      "name": "python3"
    },
    "language_info": {
      "name": "python"
    }
  },
  "nbformat": 4,
  "nbformat_minor": 0
}