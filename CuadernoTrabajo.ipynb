{
  "nbformat": 4,
  "nbformat_minor": 0,
  "metadata": {
    "colab": {
      "provenance": [],
      "authorship_tag": "ABX9TyMYr/VDWo2bbaYW/4fFLJFz",
      "include_colab_link": true
    },
    "kernelspec": {
      "name": "python3",
      "display_name": "Python 3"
    },
    "language_info": {
      "name": "python"
    }
  },
  "cells": [
    {
      "cell_type": "markdown",
      "metadata": {
        "id": "view-in-github",
        "colab_type": "text"
      },
      "source": [
        "<a href=\"https://colab.research.google.com/github/escuelaDeCodigoMargaritaMaza/Python/blob/main/CuadernoTrabajo.ipynb\" target=\"_parent\"><img src=\"https://colab.research.google.com/assets/colab-badge.svg\" alt=\"Open In Colab\"/></a>"
      ]
    },
    {
      "cell_type": "code",
      "source": [
        "print(\"Me gusta \\\" Python \\\" \")"
      ],
      "metadata": {
        "id": "zhLZ5EPgoi20"
      },
      "execution_count": null,
      "outputs": []
    },
    {
      "cell_type": "code",
      "source": [
        "print(\"Me gusta \\t Monty Python \")"
      ],
      "metadata": {
        "id": "aWuF3z8eomnD"
      },
      "execution_count": null,
      "outputs": []
    },
    {
      "cell_type": "code",
      "source": [
        "print(\"Me gusta \\n Monty Python \")"
      ],
      "metadata": {
        "id": "pn8KwkTMop8K"
      },
      "execution_count": null,
      "outputs": []
    },
    {
      "cell_type": "code",
      "source": [
        "multilinea = \"\"\"Datos de contrucción:\n",
        "Rangos de error.\n",
        "Datos a validar\"\"\"\n",
        "print(multilinea)"
      ],
      "metadata": {
        "id": "zhDgc6LJo0SF"
      },
      "execution_count": null,
      "outputs": []
    },
    {
      "cell_type": "code",
      "source": [
        "nombre = 'PILARES'\n",
        "print(f'En los diferentes centros {nombre} podrás encontrar diversas opciones')"
      ],
      "metadata": {
        "id": "6YuI-C3Lo3tg"
      },
      "execution_count": null,
      "outputs": []
    },
    {
      "cell_type": "code",
      "source": [
        "nombre = 'PILARES'\n",
        "taller = 'Escuela de Código'\n",
        "ciudad = 'CDMX'\n",
        "print(f'En los centros {nombre}, puedes encontrar la {taller}\\n ... exiten 140 {nombre} en donde se oferta el taller en toda la {ciudad}')"
      ],
      "metadata": {
        "colab": {
          "base_uri": "https://localhost:8080/"
        },
        "id": "xIR-m40To6Xx",
        "outputId": "c7511ce9-0149-4106-9922-9c9b7587348d"
      },
      "execution_count": null,
      "outputs": [
        {
          "output_type": "stream",
          "name": "stdout",
          "text": [
            "En los centros PILARES, puedes encontrar la Escuela de Código\n",
            " ... exiten 140 PILARES en donde se oferta el taller en toda la CDMX\n"
          ]
        }
      ]
    },
    {
      "cell_type": "code",
      "source": [
        "print(\"*\" * 15)"
      ],
      "metadata": {
        "id": "WuUorO1MpIag"
      },
      "execution_count": null,
      "outputs": []
    },
    {
      "cell_type": "markdown",
      "source": [
        "# Ejercicio\n",
        "\n",
        "![image.png](data:image/png;base64,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)"
      ],
      "metadata": {
        "id": "a8ZtmkOypBfG"
      }
    },
    {
      "cell_type": "code",
      "source": [
        "#Exponente\n",
        "print(2 ** 3)\n",
        "print(2. ** 3)"
      ],
      "metadata": {
        "id": "ng_B-jofpDe4"
      },
      "execution_count": null,
      "outputs": []
    },
    {
      "cell_type": "code",
      "source": [
        "#multiplicacion\n",
        "print(2 * 3)\n",
        "print(2.0 * 3)"
      ],
      "metadata": {
        "id": "8nT_CcvqpkG5"
      },
      "execution_count": null,
      "outputs": []
    },
    {
      "cell_type": "code",
      "source": [
        "#diviion\n",
        "print(6 / 3)\n",
        "print(6. / 3)"
      ],
      "metadata": {
        "id": "ai6KJ1LopoVk"
      },
      "execution_count": null,
      "outputs": []
    },
    {
      "cell_type": "code",
      "source": [
        "#division de piso\n",
        "print(6 // 3)\n",
        "print(6. // 3)"
      ],
      "metadata": {
        "id": "DulIeOvHpsgn"
      },
      "execution_count": null,
      "outputs": []
    },
    {
      "cell_type": "code",
      "source": [
        "#residuo\n",
        "print(14 % 4)"
      ],
      "metadata": {
        "id": "5aUw6wcApxax"
      },
      "execution_count": null,
      "outputs": []
    },
    {
      "cell_type": "code",
      "source": [
        "print(2 ** 2 ** 3)"
      ],
      "metadata": {
        "id": "Tmw9CmtTp-k6"
      },
      "execution_count": null,
      "outputs": []
    },
    {
      "cell_type": "code",
      "source": [
        "print((5 * ((25 % 13) + 100) / (2 * 13)) // 2)"
      ],
      "metadata": {
        "colab": {
          "base_uri": "https://localhost:8080/"
        },
        "id": "5NudYvVhqCOn",
        "outputId": "8f4f9535-d668-4596-b87a-85be2aa91934"
      },
      "execution_count": null,
      "outputs": [
        {
          "output_type": "stream",
          "name": "stdout",
          "text": [
            "10.0\n"
          ]
        }
      ]
    },
    {
      "cell_type": "code",
      "source": [
        "print(\"Dime lo que sea...\")\n",
        "loquesea = input()\n",
        "print(\"Hmm...\", loquesea, \"... ¿en serio?\")"
      ],
      "metadata": {
        "id": "8D0ZNLFAqXSu"
      },
      "execution_count": null,
      "outputs": []
    },
    {
      "cell_type": "code",
      "source": [
        "dime=input(\"Dime lo que sea...\")\n",
        "print(\"Hmm...\", dime, \"... ¿en serio?\")"
      ],
      "metadata": {
        "id": "8M3sfDRFqbMm"
      },
      "execution_count": null,
      "outputs": []
    },
    {
      "cell_type": "code",
      "source": [
        "numero = input(\"Ingresa un número:\")\n",
        "cuadrado = numero ** 2.0\n",
        "print(numero, \"al cuadrado es\", cuadrado)"
      ],
      "metadata": {
        "id": "ftreSY-aqjRl"
      },
      "execution_count": null,
      "outputs": []
    },
    {
      "cell_type": "code",
      "source": [
        "numero = float(input(\"Ingresa un número:\"))\n",
        "cuadrado = numero ** 2.0\n",
        "print(numero, \"al cuadrado es\", cuadrado)"
      ],
      "metadata": {
        "id": "NAaE_CBfqvY8"
      },
      "execution_count": null,
      "outputs": []
    },
    {
      "cell_type": "code",
      "source": [
        "fnam = input(\"¿Me puedes dar tu nombre por favor? \")\n",
        "lnam = input(\"¿Me puedes dar tu apellido por favor? \")\n",
        "print(\"Gracias. \")\n",
        "print(\"\\nTu nombre es \" + fnam + \" \" + lnam + \".\")"
      ],
      "metadata": {
        "id": "ntBLYrQkq_A0"
      },
      "execution_count": null,
      "outputs": []
    },
    {
      "cell_type": "code",
      "source": [
        "print(\"+\" + 10 * \"-\" + \"+\")\n",
        "print((\"|\" + \" \" * 10 + \"|\\n\") * 5, end=\"\")\n",
        "print(\"+\" + 10 * \"-\" + \"+\")"
      ],
      "metadata": {
        "id": "ifEZZfYErBmc"
      },
      "execution_count": null,
      "outputs": []
    },
    {
      "cell_type": "code",
      "source": [
        "paises = ['Canada', 'EU', 'México', 'Guatemala', 'Belice', 'Honduras', 'El Salvador', 'Micaragua']"
      ],
      "metadata": {
        "id": "84oq8qTyr71c"
      },
      "execution_count": null,
      "outputs": []
    },
    {
      "cell_type": "code",
      "source": [
        "print('El primer país es', paises[0])\n",
        "print('El segundo país es', paises[1])\n",
        "print('El tercer país es', paises[2])"
      ],
      "metadata": {
        "id": "SI4fbiXrr_ZT"
      },
      "execution_count": null,
      "outputs": []
    },
    {
      "cell_type": "code",
      "source": [
        "paises[1] = 'América'\n",
        "print('Eu es mal llamado también', paises[1])"
      ],
      "metadata": {
        "id": "wbM2cCresIjC"
      },
      "execution_count": null,
      "outputs": []
    },
    {
      "cell_type": "code",
      "source": [
        "numero_de_paises = len(paises)\n",
        "print('Hay', numero_de_paises, 'paises en la lista')"
      ],
      "metadata": {
        "id": "hbEsQ9OesLOH"
      },
      "execution_count": null,
      "outputs": []
    },
    {
      "cell_type": "code",
      "source": [
        "paises.append('Panama')\n",
        "numero_de_paises = len(paises)\n",
        "print('Ahora la lista de paises es de ', numero_de_paises, 'paises.')"
      ],
      "metadata": {
        "id": "fbgwvqE_sOFi"
      },
      "execution_count": null,
      "outputs": []
    },
    {
      "cell_type": "code",
      "source": [
        "paises.pop()\n",
        "numero_de_paises = len(paises)\n",
        "print('Ahora la lista de paises vuelve a ser de' , numero_de_paises, 'paises.')\n",
        "paises"
      ],
      "metadata": {
        "id": "1ASKYWxRsZVw"
      },
      "execution_count": null,
      "outputs": []
    },
    {
      "cell_type": "code",
      "source": [
        "print('El último país es ', paises[-1])\n",
        "print('El penúltimo país es ', paises[-2])"
      ],
      "metadata": {
        "id": "KWtZtdMkscZN"
      },
      "execution_count": null,
      "outputs": []
    },
    {
      "cell_type": "code",
      "source": [
        "mex_index = paises.index('México')\n",
        "print('México es el', mex_index + 1, 'er pais de la lista')"
      ],
      "metadata": {
        "id": "lxSXCCSbslsR"
      },
      "execution_count": null,
      "outputs": []
    },
    {
      "cell_type": "code",
      "source": [
        "poblacion = [37.8, 330.6, 127.1, 16.9, 0.4, 9.2, 6.7, 6.5]"
      ],
      "metadata": {
        "id": "kzekLTCdPT39"
      },
      "execution_count": null,
      "outputs": []
    },
    {
      "cell_type": "code",
      "source": [
        "print(f'el total de población de todos los paises es {sum(poblacion)} ')"
      ],
      "metadata": {
        "id": "Jvitw9gKtKTC"
      },
      "execution_count": null,
      "outputs": []
    },
    {
      "cell_type": "code",
      "source": [
        "print('En',paises[2],' Hay ',abs(poblacion[0]-poblacion[2]),'millones mas habitantes que en ',paises[0])"
      ],
      "metadata": {
        "id": "uHRSQ8lLtM84"
      },
      "execution_count": null,
      "outputs": []
    },
    {
      "cell_type": "code",
      "source": [
        "print('El mayor número de habitantes de la lista es ',max(poblacion))\n",
        "print('El menor número de habitantes de la lista es ',min(poblacion))"
      ],
      "metadata": {
        "id": "OhpH1kJptQnl"
      },
      "execution_count": null,
      "outputs": []
    },
    {
      "cell_type": "code",
      "source": [
        "paises = ['Canada', 'EU', 'México', 'Guatemala', 'Belice', 'Honduras', 'El Salvador', 'Micaragua']\n",
        "paises_antes_de_mexico = paises[0:2]\n",
        "print(paises_antes_de_mexico)"
      ],
      "metadata": {
        "id": "WAkczivPtVbw"
      },
      "execution_count": null,
      "outputs": []
    },
    {
      "cell_type": "code",
      "source": [
        "paises_despues_de_mexico = paises[3:8]\n",
        "print(paises_despues_de_mexico)"
      ],
      "metadata": {
        "id": "S7mheIwdtXhL"
      },
      "execution_count": null,
      "outputs": []
    },
    {
      "cell_type": "code",
      "source": [
        "paises_despues_de_mexico = paises[3:]\n",
        "print(paises_despues_de_mexico)"
      ],
      "metadata": {
        "id": "fD2eTOrdtZj3"
      },
      "execution_count": null,
      "outputs": []
    },
    {
      "cell_type": "code",
      "source": [
        "paises_norte = ['Canada', 'EU', 'México']\n",
        "paises_centro = ['Guatemala', 'Belice', 'Honduras', 'El Salvador', 'Micaragua']\n",
        "lista_unida = paises_norte  + paises_centro\n",
        "print(lista_unida)"
      ],
      "metadata": {
        "id": "fmB4tz6HtcFf"
      },
      "execution_count": null,
      "outputs": []
    },
    {
      "cell_type": "code",
      "source": [
        "lista_unida.sort()\n",
        "print('La lista ordenada quedaría ', lista_unida)"
      ],
      "metadata": {
        "id": "93Sxknw3teSo"
      },
      "execution_count": null,
      "outputs": []
    },
    {
      "cell_type": "code",
      "source": [
        "lista_unida.sort(reverse=True)\n",
        "print('La lista ordenada quedaría ', lista_unida)"
      ],
      "metadata": {
        "id": "KZZI3yXstg_S"
      },
      "execution_count": null,
      "outputs": []
    },
    {
      "cell_type": "markdown",
      "source": [
        "# EJERCICIO\n",
        "\n",
        "Vamos a crear y manipular una lista que contiene nombres de alumnos, esta lista contedrá los nombres siguientes: 'Juan','Pedro','Beatriz','Angel','Miguel','Paz'\n",
        "\n",
        "A continuación, agrega el código para solicitar al usuario un nombre. Debido a que las cadenas distinguen entre mayúsculas y minúsculas en Python, píde al usuario que use una letra mayúscula para comenzar el nombre del alumno, ingresa tú nombre y agregalo a lista\n",
        "\n",
        "A continuación, agrega el código para solicitar al usuario un nombre a buscar, igresa tu nombre."
      ],
      "metadata": {
        "id": "WqUf0Bvetw0n"
      }
    },
    {
      "cell_type": "markdown",
      "source": [
        "Solicitar dos números e imprimir el resultado de las 4 operaciones básicas\n",
        "\n",
        "preparar un código simple para evaluar o encontrar el tiempo final de un periodo de tiempo dado, expresándolo en horas y minutos."
      ],
      "metadata": {
        "id": "fOcfs80arKYw"
      }
    },
    {
      "cell_type": "markdown",
      "source": [
        "https://docs.python.org/3/library/functions.html."
      ],
      "metadata": {
        "id": "9h5Y0Bo9F8N4"
      }
    },
    {
      "cell_type": "code",
      "execution_count": null,
      "metadata": {
        "id": "UqWdpqhEFOEa"
      },
      "outputs": [],
      "source": [
        "print(\"Ingresa un valor: \")\n",
        "a = int(input())\n",
        "\n",
        "print(\"Ingresa un valor: \")\n",
        "b = int(input())\n",
        "\n",
        "print(\"Ingresa un valor: \")\n",
        "c = int(input())"
      ]
    },
    {
      "cell_type": "code",
      "source": [
        "def mensaje():\n",
        "    print(\"Ingresar valor: \")\n",
        "\n",
        "mensaje()"
      ],
      "metadata": {
        "id": "lQjpdERMFzci"
      },
      "execution_count": null,
      "outputs": []
    },
    {
      "cell_type": "code",
      "source": [
        "def mensaje():\n",
        "    print(\"Ingresar valor: \")\n",
        "\n",
        "mensaje()\n",
        "a = int(input())\n",
        "mensaje()\n",
        "b = int(input())\n",
        "mensaje()\n",
        "c = int(input())"
      ],
      "metadata": {
        "id": "kQZ_c7gGF1nh"
      },
      "execution_count": null,
      "outputs": []
    },
    {
      "cell_type": "code",
      "source": [
        "def mensaje():\n",
        "    print(\"Hello\")\n",
        "\n",
        "mensaje()"
      ],
      "metadata": {
        "id": "X58Rv05hGC2W"
      },
      "execution_count": null,
      "outputs": []
    },
    {
      "cell_type": "code",
      "source": [
        "def hello(name):\n",
        "    print(\"Hello,\", name)\n",
        "\n",
        "\n",
        "name = input(\"Ingresa tu nombre: \")\n",
        "\n",
        "hello(name)"
      ],
      "metadata": {
        "id": "GWf8IAnrGLJe"
      },
      "execution_count": null,
      "outputs": []
    },
    {
      "cell_type": "code",
      "source": [
        "def mensaje(numero):\n",
        "    print(\"Ingresa un número:\", numero)\n",
        "\n",
        "mensaje()"
      ],
      "metadata": {
        "id": "8vLBsb7pGbX9"
      },
      "execution_count": null,
      "outputs": []
    },
    {
      "cell_type": "code",
      "source": [
        "def message(number):   #parametro\n",
        "    print(\"Ingresa un número:\", number)\n",
        "\n",
        "message(1) #argumento"
      ],
      "metadata": {
        "id": "vK7EuzOtGknI"
      },
      "execution_count": null,
      "outputs": []
    },
    {
      "cell_type": "code",
      "source": [
        "def nombres(primer_nombre, apellido):\n",
        "    print(\"Hola, mi nombre es\", primer_nombre, apellido)\n",
        "\n",
        "nombres(\"Juan\", \"Pérez\")\n",
        "nombres(\"Miguel\", \"Gónzaez\")\n",
        "nombres(\"Clara\", \"López\")"
      ],
      "metadata": {
        "id": "3OarbfaQGucg"
      },
      "execution_count": null,
      "outputs": []
    },
    {
      "cell_type": "code",
      "source": [
        "def nombres(primer_nombre, apellido):\n",
        "    print(\"Hola, mi nombre es\", primer_nombre, apellido)\n",
        "\n",
        "nombres(primer_nombre = \"Juan\", apellido = \"Pérez\")\n",
        "nombres(apellido = \"Silvia\", primer_nombre = \"López\")"
      ],
      "metadata": {
        "id": "-nDZdt9CHDip"
      },
      "execution_count": null,
      "outputs": []
    },
    {
      "cell_type": "code",
      "source": [
        "def una_funcion():\n",
        "  a=5*8\n",
        "  b=10.3+6\n",
        "  return 123\n",
        "\n",
        "una_funcion()"
      ],
      "metadata": {
        "colab": {
          "base_uri": "https://localhost:8080/"
        },
        "id": "fVpmiHFTHTJk",
        "outputId": "b0d4de76-b84a-47b7-ab5f-a54bb20187d7"
      },
      "execution_count": null,
      "outputs": [
        {
          "output_type": "execute_result",
          "data": {
            "text/plain": [
              "163"
            ]
          },
          "metadata": {},
          "execution_count": 11
        }
      ]
    },
    {
      "cell_type": "code",
      "source": [
        "def extraña_funcion(n):\n",
        "    if(n % 2 == 0):\n",
        "        return True\n",
        "\n",
        "print(extraña_funcion(2))\n",
        "print(extraña_funcion(1))"
      ],
      "metadata": {
        "id": "IsFaRAz6H0Hz"
      },
      "execution_count": null,
      "outputs": []
    },
    {
      "cell_type": "code",
      "source": [
        "def menu():\n",
        "    print(\"App de operaciones.\")\n",
        "    print(\"1. Suma\")\n",
        "    print(\"2. Resta\")\n",
        "    print(\"3. Multiplicacion\")\n",
        "    print(\"4. Division\")\n",
        "    print(\"5. Salir\")\n",
        "    op = int(input(\"Escriba la opcion:\"))\n",
        "    if op==1:\n",
        "      suma()\n",
        "    elif op==2:\n",
        "      resta()\n",
        "    elif op==3:\n",
        "      multiplicacion()\n",
        "    elif op==4:\n",
        "      division()\n",
        "    else:\n",
        "      exit()\n",
        "\n",
        "\n",
        "\n",
        "menu()"
      ],
      "metadata": {
        "id": "aeEkJQNwIyJQ"
      },
      "execution_count": null,
      "outputs": []
    },
    {
      "cell_type": "code",
      "source": [
        "def multiple(numero):\n",
        "  if numero % 5 == 0:\n",
        "    return True\n",
        "\n",
        "numeros = [2, 5, 10, 23, 50, 30, 33,35]\n",
        "\n",
        "filter(multiple, numeros)"
      ],
      "metadata": {
        "id": "Af0WZHZ5H6o-"
      },
      "execution_count": null,
      "outputs": []
    },
    {
      "cell_type": "code",
      "source": [
        "list(filter(multiple, numeros))"
      ],
      "metadata": {
        "id": "knGvtF3ZH8z6"
      },
      "execution_count": null,
      "outputs": []
    },
    {
      "cell_type": "code",
      "source": [
        "def doble(numero):\n",
        "    return numero*2\n",
        "\n",
        "numeros = [2, 5, 10, 23, 50, 33]\n",
        "\n",
        "map(doble, numeros)"
      ],
      "metadata": {
        "id": "33tXmd18H-8a"
      },
      "execution_count": null,
      "outputs": []
    },
    {
      "cell_type": "code",
      "source": [
        "list(map(doble, numeros)) #para mostrarlo en lista"
      ],
      "metadata": {
        "id": "_F1yalleIA0K"
      },
      "execution_count": null,
      "outputs": []
    },
    {
      "cell_type": "code",
      "source": [
        "frase= 'Hola Luis, como estas?'\n",
        "def longitud_palabras(frase):\n",
        "    palabra_len = list(map(len, frase.split()))\n",
        "    return palabra_len\n",
        "\n",
        "longitud_palabras(frase)"
      ],
      "metadata": {
        "id": "7TRB0-wUIDcK"
      },
      "execution_count": null,
      "outputs": []
    },
    {
      "cell_type": "code",
      "source": [
        "from functools import reduce   #traemos el módulo para poder utiliarla\n",
        "\n",
        "def add(x, y):\n",
        "    return x + y\n",
        "\n",
        "lista = [2, 4, 7, 3]\n",
        "print(reduce(add, lista))"
      ],
      "metadata": {
        "id": "3WQZ-npKIJsC"
      },
      "execution_count": null,
      "outputs": []
    },
    {
      "cell_type": "code",
      "source": [
        "def suma(x,y):\n",
        "  return(x + y)\n",
        "\n",
        "suma(5,7)"
      ],
      "metadata": {
        "id": "Qw1PTeKGILwn"
      },
      "execution_count": null,
      "outputs": []
    },
    {
      "cell_type": "code",
      "source": [
        "lambda x,y : x+ y\n",
        "\n",
        "#Para poder utilizarla necesitamos guardarla en una variable\n",
        "suma = lambda x,y : x + y\n",
        "suma(5,7)"
      ],
      "metadata": {
        "id": "5dzYHI5mINiB"
      },
      "execution_count": null,
      "outputs": []
    },
    {
      "cell_type": "markdown",
      "source": [
        "1 - Realiza un programa que solicite dos números y una operación (suma, resta, división y multiplicación) e imprima el resultado.\n",
        "\n",
        "Además deberá mostrar un menú con las siguientes opciones:\n",
        "\n",
        "Mostrar números\n",
        "\n",
        "Sumar\n",
        "\n",
        "Restar\n",
        "\n",
        "Dividir (considerar la división entre 0)\n",
        "\n",
        "multipicar\n",
        "\n",
        "cerrar calculadora"
      ],
      "metadata": {
        "id": "jgD8UflkIuIQ"
      }
    },
    {
      "cell_type": "code",
      "source": [
        "from functools import reduce\n",
        "\n",
        "# Función para sumar todos los elementos de una lista\n",
        "def suma(a, b):\n",
        "    return a + b\n",
        "\n"
      ],
      "metadata": {
        "id": "GunvSAvZKww0"
      },
      "execution_count": null,
      "outputs": []
    },
    {
      "cell_type": "code",
      "source": [
        "# Ejemplo de uso de reduce\n",
        "lista = [1, 2, 3, 4, 5]\n",
        "resultado_reduce = reduce(suma, lista)\n",
        "print(\"Resultado de reduce:\", resultado_reduce)\n",
        "\n"
      ],
      "metadata": {
        "id": "iTV_Iu-tj1OA"
      },
      "execution_count": null,
      "outputs": []
    },
    {
      "cell_type": "code",
      "source": [
        "# Función para multiplicar un número por 2\n",
        "def multiplicar_por_cinco(num):\n",
        "    return num * 5\n",
        "\n"
      ],
      "metadata": {
        "id": "YqqfmHMHj3PE"
      },
      "execution_count": null,
      "outputs": []
    },
    {
      "cell_type": "code",
      "source": [
        "# Ejemplo de uso de map\n",
        "lista = [1, 2, 3, 4, 5]\n",
        "resultado_map = list(map(multiplicar_por_dos, lista))\n",
        "print(\"Resultado de map:\", resultado_map)\n",
        "\n"
      ],
      "metadata": {
        "id": "mML4Zqgqj45r"
      },
      "execution_count": null,
      "outputs": []
    },
    {
      "cell_type": "code",
      "source": [
        "# Función para verificar si un número es par\n",
        "def es_par(num):\n",
        "    return num % 2 == 0\n"
      ],
      "metadata": {
        "id": "eF9svqrSj6fR"
      },
      "execution_count": null,
      "outputs": []
    },
    {
      "cell_type": "code",
      "source": [
        "\n",
        "# Ejemplo de uso de filter\n",
        "lista = [1, 2, 3, 4, 5]\n",
        "resultado_filter = list(filter(es_par, lista))\n",
        "print(\"Resultado de filter:\", resultado_filter)"
      ],
      "metadata": {
        "id": "-AZiD6Qsj8Cl"
      },
      "execution_count": null,
      "outputs": []
    },
    {
      "cell_type": "code",
      "source": [
        "lista = []\n",
        "for letra in 'casa':\n",
        "  lista.append(letra)\n",
        "print(lista)"
      ],
      "metadata": {
        "id": "6YXNRbxtMGep"
      },
      "execution_count": null,
      "outputs": []
    },
    {
      "cell_type": "code",
      "source": [
        "lista = [letra for letra in 'casa']\n",
        "print(lista)"
      ],
      "metadata": {
        "id": "LZvP3HG8MIXC"
      },
      "execution_count": null,
      "outputs": []
    },
    {
      "cell_type": "code",
      "source": [
        "lista = []\n",
        "for numero in range(0,11):\n",
        "  lista.append(numero**2)\n",
        "print(lista)"
      ],
      "metadata": {
        "id": "6kU5I2H6MKEz"
      },
      "execution_count": null,
      "outputs": []
    },
    {
      "cell_type": "code",
      "source": [
        "lista = [numero**2 for numero in range(0,11)]\n",
        "\n",
        "print(lista)"
      ],
      "metadata": {
        "id": "AWeXYN-6MMKR"
      },
      "execution_count": null,
      "outputs": []
    }
  ]
}