{
  "cells": [
    {
      "cell_type": "markdown",
      "metadata": {
        "id": "view-in-github",
        "colab_type": "text"
      },
      "source": [
        "<a href=\"https://colab.research.google.com/github/escuelaDeCodigoMargaritaMaza/Python/blob/main/CuadernoTrabajo.ipynb\" target=\"_parent\"><img src=\"https://colab.research.google.com/assets/colab-badge.svg\" alt=\"Open In Colab\"/></a>"
      ]
    },
    {
      "cell_type": "code",
      "execution_count": null,
      "metadata": {
        "colab": {
          "base_uri": "https://localhost:8080/"
        },
        "id": "zhLZ5EPgoi20",
        "outputId": "863c1d94-a62a-427b-bb53-397d7105c443"
      },
      "outputs": [
        {
          "name": "stdout",
          "output_type": "stream",
          "text": [
            "Me gusta \" Python \" \n"
          ]
        }
      ],
      "source": [
        "print(\"Me gusta \\\" Python \\\" \")"
      ]
    },
    {
      "cell_type": "code",
      "execution_count": null,
      "metadata": {
        "colab": {
          "base_uri": "https://localhost:8080/"
        },
        "id": "aWuF3z8eomnD",
        "outputId": "d1bf928a-2064-43a1-f587-78ce26b41c7d"
      },
      "outputs": [
        {
          "name": "stdout",
          "output_type": "stream",
          "text": [
            "Me gusta \t Monty Python \n"
          ]
        }
      ],
      "source": [
        "print(\"Me gusta \\t Monty Python \")"
      ]
    },
    {
      "cell_type": "code",
      "execution_count": null,
      "metadata": {
        "colab": {
          "base_uri": "https://localhost:8080/"
        },
        "id": "pn8KwkTMop8K",
        "outputId": "dde9cf23-10c2-4e19-8c0b-9a9eff16553e"
      },
      "outputs": [
        {
          "name": "stdout",
          "output_type": "stream",
          "text": [
            "Me gusta \n",
            " Monty Python \n"
          ]
        }
      ],
      "source": [
        "print(\"Me gusta \\n Monty Python \")"
      ]
    },
    {
      "cell_type": "code",
      "execution_count": null,
      "metadata": {
        "colab": {
          "base_uri": "https://localhost:8080/"
        },
        "id": "zhDgc6LJo0SF",
        "outputId": "6076819d-14cf-4f47-ebb8-5193ca71aa73"
      },
      "outputs": [
        {
          "name": "stdout",
          "output_type": "stream",
          "text": [
            "Datos de contrucción:\n",
            "Rangos de error.\n",
            "Datos a validar\n"
          ]
        }
      ],
      "source": [
        "multilinea = \"\"\"Datos de contrucción:\n",
        "Rangos de error.\n",
        "Datos a validar\"\"\"\n",
        "print(multilinea)"
      ]
    },
    {
      "cell_type": "code",
      "execution_count": null,
      "metadata": {
        "colab": {
          "base_uri": "https://localhost:8080/"
        },
        "id": "6YuI-C3Lo3tg",
        "outputId": "3d5c34b7-ede5-43d6-b7e0-7c5b133f57c9"
      },
      "outputs": [
        {
          "name": "stdout",
          "output_type": "stream",
          "text": [
            "En los diferentes centros PILARES podrás encontrar diversas opciones\n"
          ]
        }
      ],
      "source": [
        "nombre = 'PILARES'\n",
        "print(f'En los diferentes centros {nombre} podrás encontrar diversas opciones')"
      ]
    },
    {
      "cell_type": "code",
      "execution_count": null,
      "metadata": {
        "colab": {
          "base_uri": "https://localhost:8080/"
        },
        "id": "xIR-m40To6Xx",
        "outputId": "8c7c15cd-96b1-490b-a5d3-6c1b175ee666"
      },
      "outputs": [
        {
          "name": "stdout",
          "output_type": "stream",
          "text": [
            "En los centros PILARES, puedes encontrar la Escuela de Código\n",
            " ... exiten 140 PILARES en donde se oferta el taller en toda la CDMX\n"
          ]
        }
      ],
      "source": [
        "nombre = 'PILARES'\n",
        "taller = 'Escuela de Código'\n",
        "ciudad = 'CDMX'\n",
        "print(f'En los centros {nombre}, puedes encontrar la {taller}\\n ... exiten 140 {nombre} en donde se oferta el taller en toda la {ciudad}')"
      ]
    },
    {
      "cell_type": "code",
      "execution_count": null,
      "metadata": {
        "colab": {
          "base_uri": "https://localhost:8080/"
        },
        "id": "WuUorO1MpIag",
        "outputId": "b0e2b80f-fa04-45f3-ff64-bbea7cb6d8f3"
      },
      "outputs": [
        {
          "name": "stdout",
          "output_type": "stream",
          "text": [
            "***************\n"
          ]
        }
      ],
      "source": [
        "print(\"*\" * 15)"
      ]
    },
    {
      "cell_type": "markdown",
      "metadata": {
        "id": "a8ZtmkOypBfG"
      },
      "source": [
        "# Ejercicio\n",
        "\n",
        "![image.png](data:image/png;base64,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)"
      ]
    },
    {
      "cell_type": "code",
      "execution_count": null,
      "metadata": {
        "colab": {
          "base_uri": "https://localhost:8080/"
        },
        "id": "ng_B-jofpDe4",
        "outputId": "f199b9f7-b772-4f6c-8985-a69955acb032"
      },
      "outputs": [
        {
          "name": "stdout",
          "output_type": "stream",
          "text": [
            "8\n",
            "8.0\n"
          ]
        }
      ],
      "source": [
        "#Exponente\n",
        "print(2 ** 3)\n",
        "print(2. ** 3)"
      ]
    },
    {
      "cell_type": "code",
      "execution_count": null,
      "metadata": {
        "id": "8nT_CcvqpkG5"
      },
      "outputs": [],
      "source": [
        "#multiplicacion\n",
        "print(2 * 3)\n",
        "print(2.0 * 3)"
      ]
    },
    {
      "cell_type": "code",
      "execution_count": null,
      "metadata": {
        "colab": {
          "base_uri": "https://localhost:8080/"
        },
        "id": "ai6KJ1LopoVk",
        "outputId": "8a363f1a-5c1f-4a13-d299-37f7495cddee"
      },
      "outputs": [
        {
          "name": "stdout",
          "output_type": "stream",
          "text": [
            "2.0\n",
            "2.0\n"
          ]
        }
      ],
      "source": [
        "#diviion\n",
        "print(6 / 3)\n",
        "print(6. / 3)"
      ]
    },
    {
      "cell_type": "code",
      "execution_count": null,
      "metadata": {
        "colab": {
          "base_uri": "https://localhost:8080/"
        },
        "id": "DulIeOvHpsgn",
        "outputId": "dd0a770c-81d4-46fe-c38d-80f2eee18d90"
      },
      "outputs": [
        {
          "name": "stdout",
          "output_type": "stream",
          "text": [
            "2\n",
            "2.0\n"
          ]
        }
      ],
      "source": [
        "#division de piso\n",
        "print(6 // 3)\n",
        "print(6. // 3)"
      ]
    },
    {
      "cell_type": "code",
      "execution_count": null,
      "metadata": {
        "colab": {
          "base_uri": "https://localhost:8080/"
        },
        "id": "5aUw6wcApxax",
        "outputId": "096b8bc8-6312-435e-f2fa-7898af3b4ba3"
      },
      "outputs": [
        {
          "name": "stdout",
          "output_type": "stream",
          "text": [
            "2\n",
            "2.0\n"
          ]
        }
      ],
      "source": [
        "#residuo\n",
        "print(14 % 4)\n",
        "print(14.0 % 4)"
      ]
    },
    {
      "cell_type": "code",
      "execution_count": null,
      "metadata": {
        "colab": {
          "base_uri": "https://localhost:8080/"
        },
        "id": "Tmw9CmtTp-k6",
        "outputId": "92fbe1cb-0ae7-4cfa-d230-714e71ebc534"
      },
      "outputs": [
        {
          "name": "stdout",
          "output_type": "stream",
          "text": [
            "256\n"
          ]
        }
      ],
      "source": [
        "print(2 ** 2 ** 3)"
      ]
    },
    {
      "cell_type": "code",
      "execution_count": null,
      "metadata": {
        "colab": {
          "base_uri": "https://localhost:8080/"
        },
        "id": "5NudYvVhqCOn",
        "outputId": "be7246aa-d62d-42af-fc5c-c6ee41bee04e"
      },
      "outputs": [
        {
          "name": "stdout",
          "output_type": "stream",
          "text": [
            "10.0\n"
          ]
        }
      ],
      "source": [
        "print((5 * ((25 % 13) + 100) / (2 * 13)) // 2)"
      ]
    },
    {
      "cell_type": "code",
      "execution_count": null,
      "metadata": {
        "colab": {
          "base_uri": "https://localhost:8080/"
        },
        "id": "8D0ZNLFAqXSu",
        "outputId": "07bdf387-d232-4de8-f0bd-2b6653b41e60"
      },
      "outputs": [
        {
          "name": "stdout",
          "output_type": "stream",
          "text": [
            "Dime lo que sea...\n",
            "kjhkjh\n",
            "Hmm... kjhkjh ... ¿en serio?\n"
          ]
        }
      ],
      "source": [
        "print(\"Dime lo que sea...\")\n",
        "loquesea = input()\n",
        "print(\"Hmm...\", loquesea, \"... ¿en serio?\")"
      ]
    },
    {
      "cell_type": "code",
      "execution_count": null,
      "metadata": {
        "colab": {
          "base_uri": "https://localhost:8080/"
        },
        "id": "8M3sfDRFqbMm",
        "outputId": "2d6b0f1b-7cfb-44f9-c9eb-40e0f8e7eadd"
      },
      "outputs": [
        {
          "name": "stdout",
          "output_type": "stream",
          "text": [
            "Dime lo que sea...fdfs\n",
            "Hmm... fdfs ... ¿en serio?\n"
          ]
        }
      ],
      "source": [
        "dime=input(\"Dime lo que sea...\")\n",
        "print(\"Hmm...\", dime, \"... ¿en serio?\")"
      ]
    },
    {
      "cell_type": "code",
      "execution_count": null,
      "metadata": {
        "colab": {
          "base_uri": "https://localhost:8080/",
          "height": 217
        },
        "id": "ftreSY-aqjRl",
        "outputId": "a4563f70-7231-497f-9281-3721d444b145"
      },
      "outputs": [
        {
          "name": "stdout",
          "output_type": "stream",
          "text": [
            "Ingresa un número:5\n"
          ]
        },
        {
          "ename": "TypeError",
          "evalue": "ignored",
          "output_type": "error",
          "traceback": [
            "\u001b[0;31m---------------------------------------------------------------------------\u001b[0m",
            "\u001b[0;31mTypeError\u001b[0m                                 Traceback (most recent call last)",
            "\u001b[0;32m<ipython-input-23-137aa46ef0ab>\u001b[0m in \u001b[0;36m<cell line: 2>\u001b[0;34m()\u001b[0m\n\u001b[1;32m      1\u001b[0m \u001b[0mnumero\u001b[0m \u001b[0;34m=\u001b[0m \u001b[0minput\u001b[0m\u001b[0;34m(\u001b[0m\u001b[0;34m\"Ingresa un número:\"\u001b[0m\u001b[0;34m)\u001b[0m\u001b[0;34m\u001b[0m\u001b[0;34m\u001b[0m\u001b[0m\n\u001b[0;32m----> 2\u001b[0;31m \u001b[0mcuadrado\u001b[0m \u001b[0;34m=\u001b[0m \u001b[0mnumero\u001b[0m \u001b[0;34m**\u001b[0m \u001b[0;36m2.0\u001b[0m\u001b[0;34m\u001b[0m\u001b[0;34m\u001b[0m\u001b[0m\n\u001b[0m\u001b[1;32m      3\u001b[0m \u001b[0mprint\u001b[0m\u001b[0;34m(\u001b[0m\u001b[0mnumero\u001b[0m\u001b[0;34m,\u001b[0m \u001b[0;34m\"al cuadrado es\"\u001b[0m\u001b[0;34m,\u001b[0m \u001b[0mcuadrado\u001b[0m\u001b[0;34m)\u001b[0m\u001b[0;34m\u001b[0m\u001b[0;34m\u001b[0m\u001b[0m\n",
            "\u001b[0;31mTypeError\u001b[0m: unsupported operand type(s) for ** or pow(): 'str' and 'float'"
          ]
        }
      ],
      "source": [
        "numero = input(\"Ingresa un número:\")\n",
        "cuadrado = numero ** 2.0\n",
        "print(numero, \"al cuadrado es\", cuadrado)"
      ]
    },
    {
      "cell_type": "code",
      "execution_count": null,
      "metadata": {
        "id": "NAaE_CBfqvY8"
      },
      "outputs": [],
      "source": [
        "numero = int(input(\"Ingresa un número:\"))\n",
        "cuadrado = numero ** 2\n",
        "print(numero, \"al cuadrado es\", cuadrado)"
      ]
    },
    {
      "cell_type": "code",
      "execution_count": null,
      "metadata": {
        "colab": {
          "base_uri": "https://localhost:8080/"
        },
        "id": "ntBLYrQkq_A0",
        "outputId": "8c45e950-eb52-46fe-8bce-3793d94fd5c0"
      },
      "outputs": [
        {
          "name": "stdout",
          "output_type": "stream",
          "text": [
            "¿Me puedes dar tu nombre por favor? asd\n",
            "¿Me puedes dar tu apellido por favor? asdsad\n",
            "Gracias. \n",
            "\n",
            "Tu nombre es asd asdsad.\n"
          ]
        }
      ],
      "source": [
        "fnam = input(\"¿Me puedes dar tu nombre por favor? \")\n",
        "lnam = input(\"¿Me puedes dar tu apellido por favor? \")\n",
        "print(\"Gracias. \")\n",
        "print(\"\\nTu nombre es \" + fnam + \" \" + lnam + \".\")"
      ]
    },
    {
      "cell_type": "code",
      "execution_count": null,
      "metadata": {
        "colab": {
          "base_uri": "https://localhost:8080/"
        },
        "id": "ifEZZfYErBmc",
        "outputId": "78de1045-c5f3-4db6-f9ad-d2febe24953d"
      },
      "outputs": [
        {
          "name": "stdout",
          "output_type": "stream",
          "text": [
            "+----------+\n",
            "|          |\n",
            "|          |\n",
            "|          |\n",
            "|          |\n",
            "|          |\n",
            "+----------+\n"
          ]
        }
      ],
      "source": [
        "print(\"+\" + 10 * \"-\" + \"+\")\n",
        "print((\"|\" + \" \" * 10 + \"|\\n\") * 5, end=\"\")\n",
        "print(\"+\" + 10 * \"-\" + \"+\")"
      ]
    },
    {
      "cell_type": "code",
      "execution_count": null,
      "metadata": {
        "id": "84oq8qTyr71c"
      },
      "outputs": [],
      "source": [
        "paises = ['Canada', 'EU', 'México', 'Guatemala', 'Belice', 'Honduras', 'El Salvador', 'Micaragua']"
      ]
    },
    {
      "cell_type": "code",
      "execution_count": null,
      "metadata": {
        "id": "SI4fbiXrr_ZT"
      },
      "outputs": [],
      "source": [
        "print('El primer país es', paises[0])\n",
        "print('El segundo país es', paises[1])\n",
        "print('El tercer país es', paises[2])\n",
        "print('El tercer país es', paises[15])"
      ]
    },
    {
      "cell_type": "code",
      "execution_count": null,
      "metadata": {
        "id": "wbM2cCresIjC"
      },
      "outputs": [],
      "source": [
        "paises[1] = 'América'\n",
        "print('Eu es mal llamado también', paises[1])"
      ]
    },
    {
      "cell_type": "code",
      "execution_count": null,
      "metadata": {
        "colab": {
          "base_uri": "https://localhost:8080/"
        },
        "id": "hbEsQ9OesLOH",
        "outputId": "5f5f2e9a-8723-45d9-f962-911cd5cd3185"
      },
      "outputs": [
        {
          "name": "stdout",
          "output_type": "stream",
          "text": [
            "Hay 8 paises en la lista\n"
          ]
        }
      ],
      "source": [
        "numero_de_paises = len(paises)\n",
        "print('Hay', numero_de_paises, 'paises en la lista')"
      ]
    },
    {
      "cell_type": "code",
      "execution_count": null,
      "metadata": {
        "id": "fbgwvqE_sOFi"
      },
      "outputs": [],
      "source": [
        "paises.append('Panama')\n",
        "numero_de_paises = len(paises)\n",
        "print('Ahora la lista de paises es de ', numero_de_paises, 'paises.')"
      ]
    },
    {
      "cell_type": "code",
      "execution_count": null,
      "metadata": {
        "id": "1ASKYWxRsZVw"
      },
      "outputs": [],
      "source": [
        "paises.pop()\n",
        "numero_de_paises = len(paises)\n",
        "print('Ahora la lista de paises vuelve a ser de' , numero_de_paises, 'paises.')\n",
        "paises"
      ]
    },
    {
      "cell_type": "code",
      "execution_count": null,
      "metadata": {
        "id": "KWtZtdMkscZN"
      },
      "outputs": [],
      "source": [
        "print('El último país es ', paises[-1])\n",
        "print('El penúltimo país es ', paises[-2])"
      ]
    },
    {
      "cell_type": "code",
      "execution_count": null,
      "metadata": {
        "colab": {
          "base_uri": "https://localhost:8080/"
        },
        "id": "lxSXCCSbslsR",
        "outputId": "d30c51e9-76ad-4f90-8376-054181120762"
      },
      "outputs": [
        {
          "name": "stdout",
          "output_type": "stream",
          "text": [
            "México es el 3 er pais de la lista\n"
          ]
        }
      ],
      "source": [
        "mex_index = paises.index('México')\n",
        "print('México es el', mex_index + 1, 'er pais de la lista')"
      ]
    },
    {
      "cell_type": "code",
      "execution_count": null,
      "metadata": {
        "id": "kzekLTCdPT39"
      },
      "outputs": [],
      "source": [
        "poblacion = [37.8, 330.6, 127.1, 16.9, 0.4, 9.2, 6.7, 6.5]"
      ]
    },
    {
      "cell_type": "code",
      "execution_count": null,
      "metadata": {
        "id": "Jvitw9gKtKTC"
      },
      "outputs": [],
      "source": [
        "print(f'el total de población de todos los paises es {sum(poblacion)} ')"
      ]
    },
    {
      "cell_type": "code",
      "execution_count": null,
      "metadata": {
        "colab": {
          "base_uri": "https://localhost:8080/"
        },
        "id": "uHRSQ8lLtM84",
        "outputId": "c4c7f57a-6a36-484f-b295-f312ae6cbbf6"
      },
      "outputs": [
        {
          "name": "stdout",
          "output_type": "stream",
          "text": [
            "En México  Hay  89.3 millones mas habitantes que en  Canada\n"
          ]
        }
      ],
      "source": [
        "print('En',paises[2],' Hay ',abs(poblacion[0]-poblacion[2]),'millones mas habitantes que en ',paises[0])"
      ]
    },
    {
      "cell_type": "code",
      "execution_count": null,
      "metadata": {
        "id": "OhpH1kJptQnl"
      },
      "outputs": [],
      "source": [
        "print('El mayor número de habitantes de la lista es ',max(poblacion))\n",
        "print('El menor número de habitantes de la lista es ',min(poblacion))"
      ]
    },
    {
      "cell_type": "code",
      "execution_count": null,
      "metadata": {
        "colab": {
          "base_uri": "https://localhost:8080/"
        },
        "id": "WAkczivPtVbw",
        "outputId": "76bfa0b5-97ba-4740-b6f4-e3ddb540d15d"
      },
      "outputs": [
        {
          "name": "stdout",
          "output_type": "stream",
          "text": [
            "['Canada', 'EU']\n"
          ]
        }
      ],
      "source": [
        "paises = ['Canada', 'EU', 'México', 'Guatemala', 'Belice', 'Honduras', 'El Salvador', 'Micaragua']\n",
        "paises_antes_de_mexico = paises[0:2]\n",
        "print(paises_antes_de_mexico)"
      ]
    },
    {
      "cell_type": "code",
      "execution_count": null,
      "metadata": {
        "colab": {
          "base_uri": "https://localhost:8080/"
        },
        "id": "S7mheIwdtXhL",
        "outputId": "b89194a4-2ff5-44ab-94c4-f55a6e11afb4"
      },
      "outputs": [
        {
          "name": "stdout",
          "output_type": "stream",
          "text": [
            "['Guatemala', 'Belice', 'Honduras', 'El Salvador', 'Micaragua']\n"
          ]
        }
      ],
      "source": [
        "paises_despues_de_mexico = paises[3:8]\n",
        "print(paises_despues_de_mexico)"
      ]
    },
    {
      "cell_type": "code",
      "execution_count": null,
      "metadata": {
        "colab": {
          "base_uri": "https://localhost:8080/"
        },
        "id": "fD2eTOrdtZj3",
        "outputId": "06f90ff1-d280-4a55-85cb-85c9226af263"
      },
      "outputs": [
        {
          "name": "stdout",
          "output_type": "stream",
          "text": [
            "['Guatemala', 'Belice', 'Honduras', 'El Salvador', 'Micaragua']\n"
          ]
        }
      ],
      "source": [
        "paises_despues_de_mexico = paises[3:]\n",
        "print(paises_despues_de_mexico)"
      ]
    },
    {
      "cell_type": "code",
      "execution_count": null,
      "metadata": {
        "colab": {
          "base_uri": "https://localhost:8080/"
        },
        "id": "fmB4tz6HtcFf",
        "outputId": "b7449068-67ba-4110-afc6-05d99e54005c"
      },
      "outputs": [
        {
          "name": "stdout",
          "output_type": "stream",
          "text": [
            "['Canada', 'EU', 'México', 'Guatemala', 'Belice', 'Honduras', 'El Salvador', 'Micaragua']\n"
          ]
        }
      ],
      "source": [
        "paises_norte = ['Canada', 'EU', 'México']\n",
        "paises_centro = ['Guatemala', 'Belice', 'Honduras', 'El Salvador', 'Micaragua']\n",
        "lista_unida = paises_norte  + paises_centro\n",
        "print(lista_unida)"
      ]
    },
    {
      "cell_type": "code",
      "execution_count": null,
      "metadata": {
        "id": "93Sxknw3teSo"
      },
      "outputs": [],
      "source": [
        "lista_unida.sort()\n",
        "print('La lista ordenada quedaría ', lista_unida)"
      ]
    },
    {
      "cell_type": "code",
      "execution_count": null,
      "metadata": {
        "id": "KZZI3yXstg_S"
      },
      "outputs": [],
      "source": [
        "lista_unida.sort(reverse=True)\n",
        "print('La lista ordenada quedaría ', lista_unida)"
      ]
    },
    {
      "cell_type": "markdown",
      "metadata": {
        "id": "WqUf0Bvetw0n"
      },
      "source": [
        "# EJERCICIO\n",
        "\n",
        "Vamos a crear y manipular una lista que contiene nombres de alumnos, esta lista contedrá los nombres siguientes: 'Juan','Pedro','Beatriz','Angel','Miguel','Paz'\n",
        "\n",
        "A continuación, agrega el código para solicitar al usuario un nombre. Debido a que las cadenas distinguen entre mayúsculas y minúsculas en Python, píde al usuario que use una letra mayúscula para comenzar el nombre del alumno, ingresa tú nombre y agregalo a lista\n",
        "\n",
        "A continuación, agrega el código para solicitar al usuario un nombre a buscar, igresa tu nombre."
      ]
    },
    {
      "cell_type": "markdown",
      "metadata": {
        "id": "fOcfs80arKYw"
      },
      "source": [
        "Solicitar dos números e imprimir el resultado de las 4 operaciones básicas\n",
        "\n",
        "preparar un código simple para evaluar o encontrar el tiempo final de un periodo de tiempo dado, expresándolo en horas y minutos."
      ]
    },
    {
      "cell_type": "code",
      "execution_count": null,
      "metadata": {
        "id": "o6BEPCttrNj2"
      },
      "outputs": [],
      "source": [
        "alumno = {\n",
        "    'nombre':'Juan',\n",
        "    'calificacion': 7\n",
        "}"
      ]
    },
    {
      "cell_type": "code",
      "execution_count": null,
      "metadata": {
        "id": "yW4Xaw1crP8F"
      },
      "outputs": [],
      "source": [
        "print(alumno.get('nombre'))"
      ]
    },
    {
      "cell_type": "code",
      "execution_count": null,
      "metadata": {
        "id": "i6u-bVe5rUdF"
      },
      "outputs": [],
      "source": [
        "# alumno['nombre'] es idéntico a usar alumno.get('nombre')\n",
        "print(alumno['nombre'])"
      ]
    },
    {
      "cell_type": "code",
      "execution_count": null,
      "metadata": {
        "id": "xA_H4GMFr6tf"
      },
      "outputs": [],
      "source": [
        "#modificar valores de un diccionario\n",
        "alumno.update({'nombre': 'Beatriz'})\n",
        "print(alumno)"
      ]
    },
    {
      "cell_type": "code",
      "execution_count": null,
      "metadata": {
        "id": "deuISrhYr_U8"
      },
      "outputs": [],
      "source": [
        "alumno['nombre'] = 'Angel'\n",
        "print(alumno)"
      ]
    },
    {
      "cell_type": "code",
      "execution_count": null,
      "metadata": {
        "id": "pOMChk5usivt"
      },
      "outputs": [],
      "source": [
        "#Adicionar claves\n",
        "alumno['apellido'] = 'Pérez'\n",
        "print(alumno)\n",
        "\n",
        "# el diccionario alumno ahora contiene: {\n",
        "#   nombre: 'Miguel'\n",
        "#   calificcion: 9\n",
        "#   apellido: Pérez\n",
        "# }"
      ]
    },
    {
      "cell_type": "code",
      "execution_count": null,
      "metadata": {
        "id": "Nw6rxxqssk26"
      },
      "outputs": [],
      "source": [
        "#eliminar claves\n",
        "alumno.pop('apellido')\n",
        "print(alumno)"
      ]
    },
    {
      "cell_type": "code",
      "execution_count": null,
      "metadata": {
        "id": "R0lisqQRsnH9"
      },
      "outputs": [],
      "source": [
        "#los diccionarios pueden almacenar a otros diccionarios\n",
        "\n",
        "# Añadimos los datos\n",
        "alumno['periodo'] = {\n",
        "    'periodo1': 8,\n",
        "    'periodo2': 9\n",
        "}\n",
        "\n",
        "print(alumno)"
      ]
    },
    {
      "cell_type": "markdown",
      "metadata": {
        "id": "HqXylSzhtd1h"
      },
      "source": [
        "Para este ejercicio, crearás un diccionario que almacene información sobre paises y su población.\n",
        "\n",
        "Agrega el código para crear un nuevo diccionario denominado 'paises'. Rellena con la siguiente información:\n",
        "\n",
        "pais: México\n",
        "\n",
        "habitantes: 127.5 millones\n",
        "\n",
        "imprime el diccionarios usando string f con la información del diccionario\n",
        "\n",
        "Agrega un nuevo valor con una clave de 'datos'. Este nuevo valor debería almacenar un diccionario con dos datos del país:\n",
        "\n",
        "idioma: 'español'\n",
        "\n",
        "moneda: 'peso'"
      ]
    },
    {
      "cell_type": "code",
      "execution_count": null,
      "metadata": {
        "colab": {
          "base_uri": "https://localhost:8080/"
        },
        "id": "ni7MFNQ8vX5b",
        "outputId": "ae17f4ea-97c8-465e-9207-0e379b6d6e07"
      },
      "outputs": [
        {
          "data": {
            "text/plain": [
              "0"
            ]
          },
          "execution_count": 4,
          "metadata": {},
          "output_type": "execute_result"
        }
      ],
      "source": [
        "import random\n",
        "\n",
        "numero= random.randint(0, 5)\n",
        "\n",
        "numero"
      ]
    },
    {
      "cell_type": "code",
      "execution_count": null,
      "metadata": {
        "colab": {
          "base_uri": "https://localhost:8080/"
        },
        "id": "TOqBDqq0xz16",
        "outputId": "f8d58df0-97f0-4860-aa37-a61faf3d0787"
      },
      "outputs": [
        {
          "data": {
            "text/plain": [
              "2"
            ]
          },
          "execution_count": 15,
          "metadata": {},
          "output_type": "execute_result"
        }
      ],
      "source": [
        "lista = [2, 190, False, \"hola\", \"pelota\", 123]\n",
        "alea=random.choice(lista)\n",
        "alea"
      ]
    },
    {
      "cell_type": "code",
      "execution_count": null,
      "metadata": {
        "colab": {
          "base_uri": "https://localhost:8080/"
        },
        "id": "T5j15ovrx2SB",
        "outputId": "70fd2964-8f75-470f-95b8-265556938561"
      },
      "outputs": [
        {
          "data": {
            "text/plain": [
              "[8, 6, 4, 9]"
            ]
          },
          "execution_count": 18,
          "metadata": {},
          "output_type": "execute_result"
        }
      ],
      "source": [
        "lista=[]\n",
        "lista.append(random.randint(0,10))\n",
        "lista.append(random.randint(0,10))\n",
        "lista.append(random.randint(0,10))\n",
        "lista.append(random.randint(0,10))\n",
        "lista"
      ]
    },
    {
      "cell_type": "code",
      "execution_count": null,
      "metadata": {
        "id": "43BtIj0dyLrQ"
      },
      "outputs": [],
      "source": [
        "2 == 2"
      ]
    },
    {
      "cell_type": "code",
      "execution_count": null,
      "metadata": {
        "id": "_E3WiOvLyNaw"
      },
      "outputs": [],
      "source": [
        "'2' == 2"
      ]
    },
    {
      "cell_type": "code",
      "execution_count": null,
      "metadata": {
        "id": "INthrrbFyQng"
      },
      "outputs": [],
      "source": [
        "var = 0\n",
        "var != 0"
      ]
    },
    {
      "cell_type": "code",
      "execution_count": null,
      "metadata": {
        "id": "NaSddE58yTWg"
      },
      "outputs": [],
      "source": [
        "5 >= 5.0"
      ]
    },
    {
      "cell_type": "code",
      "execution_count": null,
      "metadata": {
        "id": "FH4w5H_dyYY3"
      },
      "outputs": [],
      "source": [
        "n = int(input(\"Ingresa un número: \"))\n",
        "print(n > 100)"
      ]
    },
    {
      "cell_type": "code",
      "execution_count": null,
      "metadata": {
        "id": "0R2Dn1XYyiFM"
      },
      "outputs": [],
      "source": [
        "a = 97\n",
        "b = 55\n",
        "if a < b:\n",
        "    print(b)"
      ]
    },
    {
      "cell_type": "code",
      "execution_count": null,
      "metadata": {
        "id": "bLT4O-DLykB3"
      },
      "outputs": [],
      "source": [
        "a = 54\n",
        "b = 44\n",
        "if a <= 0:\n",
        "    print(b)\n",
        "print(a)"
      ]
    },
    {
      "cell_type": "code",
      "execution_count": null,
      "metadata": {
        "id": "65DvV3jzyo6C"
      },
      "outputs": [],
      "source": [
        "a = 3\n",
        "b = 27\n",
        "if a >= b:\n",
        "    print(a)\n",
        "else:\n",
        "    print(b)"
      ]
    },
    {
      "cell_type": "code",
      "execution_count": null,
      "metadata": {
        "id": "N-GJ2a2xytgr"
      },
      "outputs": [],
      "source": [
        "a = 93\n",
        "b = 93\n",
        "if a > b:\n",
        "    print(\"a es mayor que b\")\n",
        "elif a == b:\n",
        "    print(\"a es igual que b\")"
      ]
    },
    {
      "cell_type": "code",
      "execution_count": null,
      "metadata": {
        "id": "1JwrFa7aywvS"
      },
      "outputs": [],
      "source": [
        "lenguaje = input(\"Introduce el nombre del lenguaje: \")\n",
        "\n",
        "if lenguaje == \"PYTHON\":\n",
        "    print(\"Si, ¡El Python es el mejor lenguaje de todos los tiempos!\")\n",
        "elif lenguaje == \"python\":\n",
        "    print(\"No, ¡quiero un gran PYTHON!\")\n",
        "else:\n",
        "    print(\"PYTHON!, ¡No\", lenguaje + \"!\")"
      ]
    },
    {
      "cell_type": "markdown",
      "metadata": {
        "id": "lq6l-BfmzD9J"
      },
      "source": [
        "### Ejercicio\n",
        "solicitar tres números e imprimir cual es el más grande\n",
        "\n",
        "### Ejercicio\n",
        "Solicitar por consola 3 números y mostrarlos impresos de menor a mayor"
      ]
    },
    {
      "cell_type": "code",
      "execution_count": null,
      "metadata": {
        "id": "FJoW7BNQzXAF"
      },
      "outputs": [],
      "source": [
        "a = 23\n",
        "b = 34\n",
        "if a == 34 or b == 34:\n",
        "    print('ok')"
      ]
    },
    {
      "cell_type": "code",
      "execution_count": null,
      "metadata": {
        "id": "KSVKe5udzY6J"
      },
      "outputs": [],
      "source": [
        "a = 23\n",
        "b = 34\n",
        "if a == 34 and b == 34:\n",
        "    print ('ok')"
      ]
    },
    {
      "cell_type": "markdown",
      "metadata": {
        "id": "NcIbXEPOzdKl"
      },
      "source": [
        "### Ejercicio\n",
        "Como seguramente sabrás, debido a algunas razones astronómicas, el año puede ser bisiesto o común. Los primeros tienen una duración de 366 días, mientras que los últimos tienen una duración de 365 días.\n",
        "\n",
        "Desde la introducción del calendario Gregoriano (en 1582), se utiliza la siguiente regla para determinar el tipo de año:\n",
        "\n",
        "si el número del año no es divisible entre cuatro, es un año común.\n",
        "de lo contrario, si el número del año no es divisible entre 100, es un año bisiesto.\n",
        "de lo contrario, si el número del año no es divisible entre 400, es un año común.\n",
        "de lo contrario, es un año bisiesto."
      ]
    },
    {
      "cell_type": "code",
      "execution_count": null,
      "metadata": {
        "id": "-SXMoXnaJLL4"
      },
      "outputs": [],
      "source": [
        "year = int(input(\"Introduce un año: \"))\n",
        "\n",
        "if year < 1582:\n",
        "\tprint(\"No esta dentro del período del calendario Gregoriano\")\n",
        "else:\n",
        "\tif year % 4 != 0:\n",
        "\t\tprint(\"Año Común\")\n",
        "\telif year % 100 != 0:\n",
        "\t\tprint(\"Año Bisiesto\")\n",
        "\telif year % 400 != 0:\n",
        "\t\tprint(\"Año Común\")\n",
        "\telse:\n",
        "\t\tprint(\"Año Bisiesto\")"
      ]
    },
    {
      "cell_type": "code",
      "execution_count": null,
      "metadata": {
        "id": "oJKQoiHdJTqG"
      },
      "outputs": [],
      "source": [
        "#while\n",
        "i = 0\n",
        "while i < 100:\n",
        "    i += 1\n",
        "    print(i)"
      ]
    },
    {
      "cell_type": "code",
      "execution_count": null,
      "metadata": {
        "id": "_1bMtfdxJtuE"
      },
      "outputs": [],
      "source": [
        "import time   #libreria para manejar tiempo\n",
        "\n",
        "numero_par = 0\n",
        "numero_impar = 0\n",
        "\n",
        "# Lee el primer número.\n",
        "numero = int(input(\"Introduce un número o escribe 0 para detener: \"))\n",
        "\n",
        "# 0 termina la ejecución.\n",
        "while numero != 0:\n",
        "    # Verificar si el número es impar.\n",
        "    if numero % 2 == 1:\n",
        "        # Incrementar el contador de números impares odd_numbers.\n",
        "        numero_impar += 1\n",
        "    else:\n",
        "        # Incrementar el contador de números pares even_numbers.\n",
        "        numero_par += 1\n",
        "    # Leer el siguiente número.\n",
        "    numero = int(input(\"Introduce un número o escribe 0 para detener: \"))\n",
        "\n",
        "# Imprimir resultados.\n",
        "print(\"Conteo de números impares:\", numero_impar)\n",
        "time.sleep(5)\n",
        "print(\"Conteo de números pares:\", numero_par)"
      ]
    },
    {
      "cell_type": "code",
      "execution_count": null,
      "metadata": {
        "id": "Gcdvh02LJzf4"
      },
      "outputs": [],
      "source": [
        "#bucle infinito y while true\n",
        "while True:\n",
        "    print(\"Estoy atrapado dentro de un bucle.\")"
      ]
    },
    {
      "cell_type": "code",
      "execution_count": null,
      "metadata": {
        "id": "JvlLRZgsJ_ns"
      },
      "outputs": [],
      "source": [
        "while True:\n",
        "    print(\"Estoy atrapado dentro de un bucle.\")\n",
        "    break"
      ]
    },
    {
      "cell_type": "markdown",
      "metadata": {
        "id": "wa2Xhl91KGSc"
      },
      "source": [
        "## Ejercicio\n",
        "Realizar el juego adivina el número"
      ]
    },
    {
      "cell_type": "code",
      "execution_count": null,
      "metadata": {
        "id": "j34c43Y3K2kG"
      },
      "outputs": [],
      "source": [
        "for i in range(8):\n",
        "    print(i)"
      ]
    },
    {
      "cell_type": "code",
      "execution_count": null,
      "metadata": {
        "id": "bxlVQoGIK5sR"
      },
      "outputs": [],
      "source": [
        "for i in range(2, 8):\n",
        "    print(i)"
      ]
    },
    {
      "cell_type": "code",
      "execution_count": null,
      "metadata": {
        "id": "9X1UPvKPKrz7"
      },
      "outputs": [],
      "source": [
        "for i in range(0,30,3):  #rango\n",
        "    print(i)"
      ]
    },
    {
      "cell_type": "markdown",
      "metadata": {
        "id": "EbWMK8QgLWtO"
      },
      "source": [
        "Nota: el conjunto generado por range() debe ordenarse en un orden ascendente. No hay forma de forzar el range() para crear un conjunto en una forma diferente. Esto significa que el segundo argumento de range() debe ser mayor que el primero."
      ]
    },
    {
      "cell_type": "code",
      "execution_count": null,
      "metadata": {
        "id": "z2wrWjHLLbX4"
      },
      "outputs": [],
      "source": [
        "#for con listas\n",
        "paises = ['Canada', 'EU', 'México', 'Guatemala', 'Belice', 'Honduras', 'El Salvador', 'Micaragua']\n",
        "for pais in paises:\n",
        "  print(pais)"
      ]
    },
    {
      "cell_type": "code",
      "execution_count": null,
      "metadata": {
        "id": "BmJXA40KLhmV"
      },
      "outputs": [],
      "source": [
        "conteo = [4, 3, 2, 1, 0]\n",
        "for numero in conteo:\n",
        "    print(numero)\n",
        "    time.sleep(2)\n",
        "\n",
        "print(\"SALIDA!!\")"
      ]
    },
    {
      "cell_type": "code",
      "execution_count": null,
      "metadata": {
        "id": "J7zfVnZ0Ll8n"
      },
      "outputs": [],
      "source": [
        "#break\n",
        "print(\"La instrucción break:\")\n",
        "for i in range(1, 6):\n",
        "    if i == 3:\n",
        "        break\n",
        "    print(i)"
      ]
    },
    {
      "cell_type": "code",
      "execution_count": null,
      "metadata": {
        "id": "l2fU63_FLqBn"
      },
      "outputs": [],
      "source": [
        "#continue\n",
        "print(\"\\nLa instrucción continue:\")\n",
        "for i in range(1, 6):\n",
        "    if i == 3:\n",
        "        continue\n",
        "    print(i)"
      ]
    },
    {
      "cell_type": "code",
      "execution_count": null,
      "metadata": {
        "id": "hTwxWHmVMbjB"
      },
      "outputs": [],
      "source": [
        "numero_grande = 0\n",
        "\n",
        "while True:\n",
        "    numero = int(input(\"Ingresa un número o escribe 0 para finalizar el programa: \"))\n",
        "    if numero == 0:\n",
        "        break\n",
        "    if numero > numero_grande:\n",
        "        numero_grande = numero\n",
        "\n",
        "\n",
        "print(\"El número más grande es\", numero_grande)"
      ]
    },
    {
      "cell_type": "code",
      "execution_count": null,
      "metadata": {
        "id": "daC_aZSfNjdk"
      },
      "outputs": [],
      "source": [
        "numero_grande = 0\n",
        "\n",
        "numero = int(input(\"Ingresa un número o escribe 0 para finalizar el programa: \"))\n",
        "\n",
        "while numero != 0:\n",
        "    if numero == 0:\n",
        "        continue\n",
        "\n",
        "    if numero > numero_grande:\n",
        "        numero_grande = numero\n",
        "    numero = int(input(\"Ingresa un número o escribe 0 para finalizar el programa: \"))\n",
        "\n",
        "\n",
        "print(\"El número más grande es\", numero_grande)"
      ]
    },
    {
      "cell_type": "markdown",
      "metadata": {
        "id": "FEQm2zmXNpfr"
      },
      "source": [
        "1\n",
        "Tu tarea aquí es muy especial: ¡Debes diseñar un devorador de vocales! Escribe un programa que use:\n",
        "\n",
        "un bucle for;\n",
        "* el concepto de ejecución condicional (if-elif-else).\n",
        "* la sentencia continue.\n",
        "Tu programa debe:\n",
        "\n",
        "* pedir al usuario que ingrese una palabra.\n",
        "* utiliza la ejecución condicional y la instrucción continue para \"devorar\" las siguientes vocales A, E, I, O, U de la palabra ingresada.\n",
        "* imprime las letras no consumidas en la pantalla, cada una de ellas en una línea separada"
      ]
    },
    {
      "cell_type": "markdown",
      "metadata": {
        "id": "OYJu_EbfN__L"
      },
      "source": [
        "2 Crea un bucle for que cuente de 0 a 10, e imprima números impares en la pantalla."
      ]
    },
    {
      "cell_type": "markdown",
      "metadata": {
        "id": "fSZM5VUpOFEW"
      },
      "source": [
        "3 Crea un programa con un bucle for y una sentencia break. El programa debe iterar sobre los caracteres en una dirección de correo electrónico, salir del bucle cuando llegue al símbolo @ e imprimir la parte antes de @ en una línea."
      ]
    },
    {
      "cell_type": "markdown",
      "metadata": {
        "id": "6C18oAoYMjDr"
      },
      "source": [
        "# POO\n",
        "https://docs.google.com/presentation/d/17GdWdk_hdPkQEr9CPAkV1JcscTy22Z8I246_8AraV3A/edit?usp=sharing"
      ]
    },
    {
      "cell_type": "code",
      "execution_count": null,
      "metadata": {
        "id": "3ixIXKC5Mm99"
      },
      "outputs": [],
      "source": [
        "class Usuario():\n",
        "    def __init__ (self,nombre,folio,telefono,correo):\n",
        "      self.nombre=nombre\n",
        "      self.folio= folio\n",
        "      self.telefono = telefono\n",
        "      self.correo = correo"
      ]
    },
    {
      "cell_type": "code",
      "execution_count": null,
      "metadata": {
        "id": "SfDZueCNM7iY"
      },
      "outputs": [],
      "source": [
        "#Instanciar un usuario\n",
        "usuario1=Usuario('juan','1212','2323232332','juan@correo.com')"
      ]
    },
    {
      "cell_type": "code",
      "execution_count": null,
      "metadata": {
        "id": "cTEAIEbhNRNA"
      },
      "outputs": [],
      "source": [
        "usuario2=Usuario('pedro','cdcc343','77464755','pedro@correo.com')"
      ]
    },
    {
      "cell_type": "code",
      "execution_count": null,
      "metadata": {
        "id": "fYwhmq0VNVE8"
      },
      "outputs": [],
      "source": [
        "#acceder al nombre\n",
        "usuario2.nombre"
      ]
    },
    {
      "cell_type": "code",
      "execution_count": null,
      "metadata": {
        "id": "FuCQiUIfNe1F"
      },
      "outputs": [],
      "source": [
        "#modificando el nombre\n",
        "usuario2.nombre='carlos'\n",
        "usuario2.nombre"
      ]
    },
    {
      "cell_type": "code",
      "execution_count": null,
      "metadata": {
        "id": "lzoLk2gENju3"
      },
      "outputs": [],
      "source": [
        "#accede a los datos de usario1"
      ]
    },
    {
      "cell_type": "code",
      "execution_count": null,
      "metadata": {
        "id": "wMqZOBFMNoBT"
      },
      "outputs": [],
      "source": [
        "#agregando solo a usuario 1 una ubicación\n",
        "usuario1.ubicacion='CDMX'"
      ]
    },
    {
      "cell_type": "code",
      "execution_count": null,
      "metadata": {
        "id": "0YTCCtI4Nyvb"
      },
      "outputs": [],
      "source": [
        "print('la ubicacion del usuario es ',usuario1.ubicacion)"
      ]
    },
    {
      "cell_type": "markdown",
      "metadata": {
        "id": "UW9vrrOsN4ri"
      },
      "source": [
        "clase con método"
      ]
    },
    {
      "cell_type": "code",
      "execution_count": null,
      "metadata": {
        "id": "Fl2NA4k1N7c-"
      },
      "outputs": [],
      "source": [
        "class Usuario():\n",
        "  def __init__ (self,nombre,folio,telefono,correo):\n",
        "    self.nombre=nombre\n",
        "    self.folio= folio\n",
        "    self.telefono = telefono\n",
        "    self.correo = correo\n",
        "    self.talleres =[]\n",
        "\n",
        "  def mostar_usuario(self):\n",
        "    return f'''    nombre : {self.nombre}\n",
        "    folio: {self.folio}\n",
        "    telefono: {self.telefono}\n",
        "    correo: {self.correo}'''"
      ]
    },
    {
      "cell_type": "code",
      "execution_count": null,
      "metadata": {
        "colab": {
          "base_uri": "https://localhost:8080/"
        },
        "id": "ueGjGv_5OAEI",
        "outputId": "775ff689-738f-49ce-ba9b-edad2e68c47f"
      },
      "outputs": [
        {
          "data": {
            "text/plain": [
              "('juan', '1212')"
            ]
          },
          "execution_count": 15,
          "metadata": {},
          "output_type": "execute_result"
        }
      ],
      "source": [
        "usuario3=Usuario('juan','1212','2323232332','juan@correo.com')\n",
        "usuario3.mostar_usuario()"
      ]
    },
    {
      "cell_type": "code",
      "execution_count": null,
      "metadata": {
        "id": "995MEw5HOKs2"
      },
      "outputs": [],
      "source": [
        "class Usuario():\n",
        "  def __init__ (self,nombre,folio,telefono,correo):\n",
        "    self.nombre=nombre\n",
        "    self.folio= folio\n",
        "    self.telefono = telefono\n",
        "    self.correo = correo\n",
        "    self.talleres =[]\n",
        "\n",
        "  def mostar_usuario(self):\n",
        "    return f'''    nombre : {self.nombre}\n",
        "    folio: {self.folio}\n",
        "    telefono: {self.telefono}\n",
        "    correo: {self.correo}'''\n",
        "\n",
        "  def modificar_usuario(self):\n",
        "    self.nombre = input(f'ingresa el nuevo nombre a cambiar por {self.nombre}')\n",
        "    self.folio = input(f'ingresa el nuevo folio a cambiar por {self.folio}')\n",
        "    self.telefono = input(f'ingresa el nuevo telefono a cambiar por {self.telefono}')\n",
        "    self.correo = input(f'ingresa el nuevo correo a cambiar por {self.correo}')"
      ]
    },
    {
      "cell_type": "code",
      "execution_count": null,
      "metadata": {
        "id": "uq5TSbWJOOZv"
      },
      "outputs": [],
      "source": [
        "usuario3=Usuario('juan','1212','2323232332','juan@correo.com')\n",
        "usuario3.modificar_usuario()"
      ]
    },
    {
      "cell_type": "code",
      "execution_count": null,
      "metadata": {
        "id": "hboEwKt2OUbu"
      },
      "outputs": [],
      "source": [
        "class Usuario():\n",
        "  def __init__ (self,nombre,folio,telefono,correo):\n",
        "    self.nombre=nombre\n",
        "    self.folio= folio\n",
        "    self.telefono = telefono\n",
        "    self.correo = correo\n",
        "    self.talleres =[]\n",
        "\n",
        "  def mostar_usuario(self):\n",
        "    print(f'''nombre : {self.nombre}\n",
        "          folio: {self.folio}\n",
        "          telefono: {self.telefono}\n",
        "          correo: {self.correo}''')\n",
        "\n",
        "  def modificar_usuario(self):\n",
        "    self.nombre = input(f'ingresa el nuevo nombre a cambiar por {self.nombre}')\n",
        "    self.folio = input(f'ingresa el nuevo folio a cambiar por {self.folio}')\n",
        "    self.telefono = input(f'ingresa el nuevo telefono a cambiar por {self.telefono}')\n",
        "    self.correo = input(f'ingresa el nuevo correo a cambiar por {self.correo}')\n",
        "\n",
        "  def checar_taller(self,taller):\n",
        "    if (taller in self.talleres):\n",
        "      return f'el usuario {self.nombre} si esta inscrito en el talller de {taller}'\n",
        "    else:\n",
        "      return f'el usuario no esta en el taller'"
      ]
    },
    {
      "cell_type": "code",
      "execution_count": null,
      "metadata": {
        "id": "dYDdm54UOZ6_"
      },
      "outputs": [],
      "source": [
        "usuario1=Usuario('david','jnjnc','njnc','ccjdcn')\n",
        "usuario1.talleres.append('huertos')"
      ]
    },
    {
      "cell_type": "code",
      "execution_count": null,
      "metadata": {
        "colab": {
          "base_uri": "https://localhost:8080/"
        },
        "id": "OAiTdJwEOcKl",
        "outputId": "8f439f1d-04cb-4f26-8f47-74c2f480b1c4"
      },
      "outputs": [
        {
          "data": {
            "text/plain": [
              "['codigo', 'ajedrez', 'huertos']"
            ]
          },
          "execution_count": 21,
          "metadata": {},
          "output_type": "execute_result"
        }
      ],
      "source": [
        "usuario1.talleres=['codigo','ajedrez','huertos']\n",
        "usuario1.talleres"
      ]
    },
    {
      "cell_type": "code",
      "execution_count": null,
      "metadata": {
        "colab": {
          "base_uri": "https://localhost:8080/",
          "height": 35
        },
        "id": "jN9JQJJpOd7R",
        "outputId": "cdb2a580-205a-4cdd-bd52-bd22a2270d5a"
      },
      "outputs": [
        {
          "data": {
            "application/vnd.google.colaboratory.intrinsic+json": {
              "type": "string"
            },
            "text/plain": [
              "'el usuario no esta en el taller'"
            ]
          },
          "execution_count": 23,
          "metadata": {},
          "output_type": "execute_result"
        }
      ],
      "source": [
        "usuario1.checar_taller('CORTE')"
      ]
    },
    {
      "cell_type": "markdown",
      "metadata": {
        "id": "HscPkejlOhrs"
      },
      "source": [
        "#HERENCIA"
      ]
    },
    {
      "cell_type": "code",
      "execution_count": null,
      "metadata": {
        "id": "ntlQRyQJOjmu"
      },
      "outputs": [],
      "source": [
        "class Usuario():\n",
        "  def __init__ (self,nombre,folio,telefono,correo):\n",
        "    self.nombre=nombre\n",
        "    self.folio= folio\n",
        "    self.telefono = telefono\n",
        "    self.correo = correo\n",
        "    self.talleres =[]\n",
        "\n",
        "  def mostar_usuario(self):\n",
        "    print(f'''nombre : {self.nombre}\n",
        "          folio: {self.folio}\n",
        "          telefono: {self.telefono}\n",
        "          correo: {self.correo}''')\n",
        "\n",
        "  def modificar_usuario(self):\n",
        "    self.nombre = input(f'ingresa el nuevo nombre a cambiar por {self.nombre}')\n",
        "    self.folio = input(f'ingresa el nuevo folio a cambiar por {self.folio}')\n",
        "    self.telefono = input(f'ingresa el nuevo telefono a cambiar por {self.telefono}')\n",
        "    self.correo = input(f'ingresa el nuevo correo a cambiar por {self.correo}')\n",
        "\n",
        "  def checar_taller(self,taller):\n",
        "    return taller in self.talleres\n",
        "\n",
        "class Usuario_menor(Usuario):\n",
        "  def __init__(self,nombre,folio,telefono,correo,tutor):\n",
        "    self.tutor=tutor\n",
        "    super().__init__(nombre,folio,telefono,correo)"
      ]
    },
    {
      "cell_type": "code",
      "execution_count": null,
      "metadata": {
        "id": "BFtnaS5LOyuN"
      },
      "outputs": [],
      "source": [
        "usuario_menor1=Usuario_menor('juan','1212','2323232332','juan@correo.com','pedro')\n",
        "usuario_menor1.tutor"
      ]
    },
    {
      "cell_type": "code",
      "execution_count": null,
      "metadata": {
        "id": "rbFvj79yO1el"
      },
      "outputs": [],
      "source": [
        "usuario_menor1.nombre"
      ]
    },
    {
      "cell_type": "code",
      "execution_count": null,
      "metadata": {
        "id": "TbCEqIKJO30j"
      },
      "outputs": [],
      "source": [
        "usuario_menor1.talleres=['pintura','robotica']\n",
        "usuario_menor1.checar_taller('huertos')"
      ]
    },
    {
      "cell_type": "markdown",
      "metadata": {
        "id": "4juXtG4sO-Xq"
      },
      "source": [
        "###OTRO EJEMPLO"
      ]
    },
    {
      "cell_type": "code",
      "execution_count": null,
      "metadata": {
        "id": "5QplJWrHPAUE"
      },
      "outputs": [],
      "source": [
        "class Empleado():\n",
        "    def __init__(self, nombre, puesto, sueldo):\n",
        "        self.nombre=nombre\n",
        "        self.puesto=puesto\n",
        "        self.sueldoBruto=sueldo\n",
        "\n",
        "    def calcularSueldo(self, descuentos):\n",
        "        return self.sueldoBruto-descuentos\n",
        "\n",
        "class Gerente(Empleado): #esta clase es hija de la superclase Empleado, pero su metodo calcularSueldo pide parámetros distintos a la super\n",
        "    def calcularSueldo(self, descuentos, bonificaciones):\n",
        "        return self.sueldoBruto-descuentos+bonificaciones\n",
        "\n",
        "marcos=Empleado(\"Marcos Ríos\", 'chofer', 6000) #este es el objeto marcos\n",
        "julia=Gerente(\"Julia Campos\", 'gerente', 20000) #este es el objeto de la clase gerente con los mismos atributos\n",
        "\n",
        "print(marcos.calcularSueldo(3000)) #solo requiere de un atributo\n",
        "\n",
        "print(julia.calcularSueldo(1000, 2000))"
      ]
    },
    {
      "cell_type": "markdown",
      "metadata": {
        "id": "_pd1ZeVBPGfW"
      },
      "source": [
        "#ENCAPSULAMIENTO"
      ]
    },
    {
      "cell_type": "code",
      "execution_count": null,
      "metadata": {
        "id": "mmhu1VF1PKj3"
      },
      "outputs": [],
      "source": [
        "class Usuario:\n",
        "  def __init__ (self,nombre,folio,telefono,correo):\n",
        "    self._nombre=nombre   #este guion  indicara esta protegido Lo cual establece que solo puede ser accedido por esa clase y sus sub-clases\n",
        "    self.folio= folio\n",
        "    self.telefono = telefono\n",
        "    self.correo = correo\n",
        "    self.talleres =[]\n",
        "\n",
        "usuario6=Usuario('daniel','dfds','554875485','danielcorreo@correo.com')\n",
        "usuario6.nombre  #error\n"
      ]
    },
    {
      "cell_type": "code",
      "execution_count": null,
      "metadata": {
        "id": "majLzk6uPST8"
      },
      "outputs": [],
      "source": [
        "usuario6._nombre"
      ]
    },
    {
      "cell_type": "code",
      "execution_count": null,
      "metadata": {
        "id": "Mjjma6_WPTb8"
      },
      "outputs": [],
      "source": [
        "class Usuario:\n",
        "  def __init__ (self,nombre,folio,telefono,correo):\n",
        "    self.__nombre=nombre   #este guion doble indicara que es privado solo podrá ser accedido o modificado si se especifica la clase precedida por un guión bajo seguida del atributo precedido por doble guión bajo.\n",
        "    self.folio= folio\n",
        "    self.telefono = telefono\n",
        "    self.correo = correo\n",
        "    self.talleres =[]\n",
        "\n",
        "usuario7=Usuario('daniel','dfds','554875485','danielcorreo@correo.com')\n",
        "usuario7.__nombre  #error"
      ]
    },
    {
      "cell_type": "code",
      "execution_count": null,
      "metadata": {
        "id": "6KchF3o8PYI0"
      },
      "outputs": [],
      "source": [
        "usuario7._Usuario__nombre"
      ]
    },
    {
      "cell_type": "code",
      "execution_count": null,
      "metadata": {
        "id": "b42vVN6_Pb4z"
      },
      "outputs": [],
      "source": [
        "class Usuario:\n",
        "  def __init__ (self,nombre,folio,telefono,correo):\n",
        "    self.__nombre=nombre\n",
        "    self.folio= folio\n",
        "    self.telefono = telefono\n",
        "    self.correo = correo\n",
        "    self.talleres =[]\n",
        "\n",
        "  @property\n",
        "  def nombre(self):\n",
        "    return self.__nombre\n",
        "\n",
        "\n",
        "  @nombre.setter #Propiedad SETTER\n",
        "  def nombre(self, nuevo):\n",
        "      print (\"Modificando nombre..\")\n",
        "      self.__nombre = nuevo\n",
        "      print (\"El nombre se ha modificado por\")\n",
        "      print (self.__nombre) #Aquí vuelvo a pedir que retorne el atributo para confirmar"
      ]
    },
    {
      "cell_type": "code",
      "execution_count": null,
      "metadata": {
        "id": "vmyLNhVGPeqd"
      },
      "outputs": [],
      "source": [
        "usuario7=Usuario('daniel','dfds','554875485','danielcorreo@correo.com')\n",
        "usuario7.nombre='pedro'\n",
        "usuario7.nombre"
      ]
    },
    {
      "cell_type": "markdown",
      "metadata": {
        "id": "SOhuNMeTPokf"
      },
      "source": [
        "###OTRO EJEMPLO"
      ]
    },
    {
      "cell_type": "code",
      "execution_count": null,
      "metadata": {
        "id": "J1T52AgNPrZh"
      },
      "outputs": [],
      "source": [
        "class Usuario:\n",
        "  def __init__ (self,nombre,folio,telefono,correo):\n",
        "    self.__nombre=nombre\n",
        "    self.__folio= folio\n",
        "    self.__telefono = telefono\n",
        "    self.__correo = correo\n",
        "\n",
        "  @property\n",
        "  def nombre(self):\n",
        "    return self.__nombre\n",
        "\n",
        "  @nombre.setter #Propiedad SETTER\n",
        "  def nombre(self, nuevo):\n",
        "    self.__nombre=nuevo\n",
        "    return self.__nombre\n",
        "\n",
        "  @property\n",
        "  def folio(self):\n",
        "    return self.__folio\n",
        "\n",
        "  @folio.setter #Propiedad SETTER\n",
        "  def folio(self, nuevofolio):\n",
        "    self.__folio=nuevofolio\n",
        "    return self.__folio\n",
        "\n",
        "  @property\n",
        "  def telefono(self):\n",
        "    return self.__telefono\n",
        "\n",
        "  @telefono.setter #Propiedad SETTER\n",
        "  def telefono(self, nuevotelefono):\n",
        "    self.__telefono=nuevotelefono\n",
        "    return self.__telefono\n",
        "\n",
        "  @property\n",
        "  def correo(self):\n",
        "    return self.__correo\n",
        "\n",
        "  @correo.setter #Propiedad SETTER\n",
        "  def correo(self, nuevocorreo):\n",
        "    self.__correo=nuevocorreo\n",
        "    return self.__correo\n",
        "\n",
        "  def mostrar(self):\n",
        "    return \"Nombre:\" + self.nombre + \" - Folio:\"+self.folio + \" - telefono:\" + self.telefono + \" - correo \" + self.correo\n",
        "\n",
        "  def checar_taller(self,taller):\n",
        "    if (taller in self.talleres):\n",
        "      return f'el usuario {self.nombre} si esta inscrito en el talller de {taller}'\n",
        "    else:\n",
        "      return f'el usuario no esta en el taller'\n",
        "\n",
        "  def jugar(self):\n",
        "    import time\n",
        "    print('BINVENIDO ',self.__nombre)\n",
        "    print('''-------------------------------------------\n",
        "    -------ADIVINA EL NÚMERO SECRETO-------------\n",
        "    ---------TIENES 5 OPORTUNIDADES--------------\n",
        "    ---------------------------------------------''')\n",
        "    time.sleep(5)\n",
        "    import random\n",
        "    numero_secreto = random.randint(1,100)\n",
        "    num =int(input('Adivina el número secreto'))\n",
        "    opor = 1\n",
        "    while numero_secreto != num and opor < 6:\n",
        "      opor = opor + 1\n",
        "      if num < numero_secreto:\n",
        "        print(f'{num} es menor al número secreto')\n",
        "\n",
        "      else:\n",
        "        print(f'{num} es mayor al número secreto')\n",
        "      num =int(input('Adivina el número secreto'))\n",
        "    if num == numero_secreto:\n",
        "      print(f'felicidades!!!!!{self.__nombre} has atinado al número en {opor} oportunidades')\n",
        "    else:\n",
        "      print(f'lástima!!!!!{self.__nombre} se terminaron tus oportunidades, el número secreto era {numero_secreto}')\n",
        "\n"
      ]
    },
    {
      "cell_type": "code",
      "execution_count": null,
      "metadata": {
        "id": "aR1cPK65Pxo8"
      },
      "outputs": [],
      "source": [
        "usuario9=Usuario('daniel','dfds','554875485','danielcorreo@correo.com')\n",
        "usuario9.nombre='jose'\n",
        "usuario9.mostrar()"
      ]
    },
    {
      "cell_type": "code",
      "execution_count": null,
      "metadata": {
        "id": "gLkc0fX5Pzgc"
      },
      "outputs": [],
      "source": [
        "usuario9.jugar()"
      ]
    },
    {
      "cell_type": "markdown",
      "metadata": {
        "id": "WS4cYYKRkiqx"
      },
      "source": [
        "## Funciones vs métodos\n",
        "Un método es un tipo específico de función - se comporta como una función y se parece a una función, pero difiere en la forma en que actúa y en su estilo de invocación.\n",
        "\n",
        "Una función no pertenece a ningún dato - obtiene datos, puede crear nuevos datos y (generalmente) produce un resultado.\n",
        "\n",
        "Un método hace todas estas cosas, pero también puede cambiar el estado de una entidad seleccionada.\n",
        "\n",
        "Un método es propiedad de los datos para los que trabaja, mientras que una función es propiedad de todo el código.\n",
        "\n",
        "Esto también significa que invocar un método requiere alguna especificación de los datos a partir de los cuales se invoca el método.\n",
        "\n",
        "Nota: el nombre del método está precedido por el nombre de los datos que posee el método. A continuación, se agrega un punto, seguido del nombre del método y un par de paréntesis que encierran los argumentos.\n",
        "\n",
        "El método se comportará como una función, pero puede hacer algo más - puede cambiar el estado interno de los datos a partir de los cuales se ha invocado."
      ]
    },
    {
      "cell_type": "markdown",
      "metadata": {
        "id": "NShU5W-3kmoc"
      },
      "source": [
        "### CADENAS\n",
        "count(value) Devuelve el número de veces que se encuentra la busqueda en la cadena. Los parámetros opcionales start y end definen una subcadena en la que buscar."
      ]
    },
    {
      "cell_type": "code",
      "execution_count": null,
      "metadata": {
        "colab": {
          "base_uri": "https://localhost:8080/"
        },
        "id": "cpotCnlWkpGs",
        "outputId": "d760d29b-f659-4552-8ea5-31862bce1457"
      },
      "outputs": [
        {
          "data": {
            "text/plain": [
              "0"
            ]
          },
          "execution_count": 3,
          "metadata": {},
          "output_type": "execute_result"
        }
      ],
      "source": [
        "  s = \"Hola mundo\"\n",
        "  s.count(\"1\")"
      ]
    },
    {
      "cell_type": "markdown",
      "metadata": {
        "id": "POyHwytDkscc"
      },
      "source": [
        "find(sub) Devuelve la posición en la que se encontró por primera vez sub en la cadena o -1 si no se encontró."
      ]
    },
    {
      "cell_type": "code",
      "execution_count": null,
      "metadata": {
        "colab": {
          "base_uri": "https://localhost:8080/"
        },
        "id": "hScl6m7Tkvdd",
        "outputId": "46b564c2-37d1-4a28-c000-d9cb7c3803d9"
      },
      "outputs": [
        {
          "data": {
            "text/plain": [
              "52"
            ]
          },
          "execution_count": 4,
          "metadata": {},
          "output_type": "execute_result"
        }
      ],
      "source": [
        "cadenaDeTexto = \"Es peor cometer una injusticia que padecerla porque quien la comete se convierte en injusto y quien la padece no.\"\n",
        "cadenaDeTexto.find('quien')"
      ]
    },
    {
      "cell_type": "markdown",
      "metadata": {
        "id": "K8kI0oSIkxhc"
      },
      "source": [
        "join(secuence) Devuelve una cadena resultante de concatenar las cadenas de la secuencia separadas por la cadena sobre la que se llama el método."
      ]
    },
    {
      "cell_type": "code",
      "execution_count": null,
      "metadata": {
        "colab": {
          "base_uri": "https://localhost:8080/"
        },
        "id": "VjlL446Ek0Sk",
        "outputId": "02f6f9f2-06c9-4f72-bdda-bad58e5b4096"
      },
      "outputs": [
        {
          "name": "stdout",
          "output_type": "stream",
          "text": [
            "1*2*3*4\n"
          ]
        }
      ],
      "source": [
        "list1 = ['1','2','3','4']\n",
        "s = \"*\"\n",
        "s = s.join(list1)\n",
        "print(s)"
      ]
    },
    {
      "cell_type": "markdown",
      "metadata": {
        "id": "H9r3A-RCk472"
      },
      "source": [
        "partition(sep) Busca el separador (sep) en la cadena y devuelve una tupla con la subcadena hasta dicho separador, el separador en si, y la subcadena del separador hasta el final de la cadena. Si no se encuentra el separador, la tupla contendrá la cadena en si y dos cadenas vacías."
      ]
    },
    {
      "cell_type": "code",
      "execution_count": null,
      "metadata": {
        "colab": {
          "base_uri": "https://localhost:8080/"
        },
        "id": "Yu53JZs0k8Nb",
        "outputId": "188a8da4-5ae3-451d-8c6e-c83a03ef6bf3"
      },
      "outputs": [
        {
          "data": {
            "text/plain": [
              "('Juan ', 'G', 'ónzalez Pérez')"
            ]
          },
          "execution_count": 9,
          "metadata": {},
          "output_type": "execute_result"
        }
      ],
      "source": [
        "nombre = \"Juan Gónzalez Pérez\"\n",
        "nombre.partition(\"G\")"
      ]
    },
    {
      "cell_type": "markdown",
      "metadata": {
        "id": "Jf6DQ94Pk_IL"
      },
      "source": [
        "replace(old) Devuelve una cadena en la que se han reemplazado todas las ocurrencias de la cadena old por la cadena new. Si se especifica el parámetro count, este indica el número máximo de ocurrencias a reemplazar."
      ]
    },
    {
      "cell_type": "code",
      "execution_count": null,
      "metadata": {
        "colab": {
          "base_uri": "https://localhost:8080/"
        },
        "id": "Bb6rINO_lCEu",
        "outputId": "66e10f29-54c2-4e6b-fb0e-f06504613d0b"
      },
      "outputs": [
        {
          "name": "stdout",
          "output_type": "stream",
          "text": [
            "Estimado Sr. Juan Pérez:\n"
          ]
        }
      ],
      "source": [
        "buscar = \"nombre \"\n",
        "reemplazar_por = \"Juan Pérez\"\n",
        "print(\"Estimado Sr. nombre :\".replace(buscar, reemplazar_por) )"
      ]
    },
    {
      "cell_type": "code",
      "execution_count": null,
      "metadata": {
        "colab": {
          "base_uri": "https://localhost:8080/"
        },
        "id": "LoZ6UrmUlESq",
        "outputId": "16f31ec1-9f80-42aa-bcb5-7550da1b9bca"
      },
      "outputs": [
        {
          "name": "stdout",
          "output_type": "stream",
          "text": [
            "no puedes cambiar un dato no le especificas si hay limite :\n"
          ]
        }
      ],
      "source": [
        " print(\"si puedes cambiar un dato si le especificas si hay limite :\".replace(\"si\", \"no\",2) )"
      ]
    },
    {
      "cell_type": "markdown",
      "metadata": {
        "id": "iaVZbjvwlG-q"
      },
      "source": [
        "split() Devuelve una lista conteniendo las subcadenas en las que se divide nuestra cadena al dividirlas por el delimitador sep. En el caso de que no se especifique sep, se usan espacios. Si se especifica maxsplit, este indica el número máximo de particiones a realizar."
      ]
    },
    {
      "cell_type": "code",
      "execution_count": null,
      "metadata": {
        "colab": {
          "base_uri": "https://localhost:8080/"
        },
        "id": "dC4S0kuVlJfh",
        "outputId": "d26f13f1-48ac-4aba-f405-3832f0abdca3"
      },
      "outputs": [
        {
          "data": {
            "text/plain": [
              "['Hola']"
            ]
          },
          "execution_count": 13,
          "metadata": {},
          "output_type": "execute_result"
        }
      ],
      "source": [
        "cadena = 'Hola compañeros del taller'\n",
        "cadena.split()"
      ]
    },
    {
      "cell_type": "code",
      "execution_count": null,
      "metadata": {
        "colab": {
          "base_uri": "https://localhost:8080/"
        },
        "id": "pJV0thU7lLke",
        "outputId": "4f37eb77-65f4-4bc5-8357-0f41fd97f3ab"
      },
      "outputs": [
        {
          "data": {
            "text/plain": [
              "['80', '1', '20', '12', '44']"
            ]
          },
          "execution_count": 14,
          "metadata": {},
          "output_type": "execute_result"
        }
      ],
      "source": [
        "cadena = \"80Edad:1Edad:20Edad:12Edad:44\"\n",
        "separador = \"Edad:\"\n",
        "cadena.split(separador)"
      ]
    },
    {
      "cell_type": "code",
      "execution_count": null,
      "metadata": {
        "id": "R81pMieMlNb6"
      },
      "outputs": [],
      "source": [
        "cadena = \"Hola mundo estamos explicando el funcionamiento de split en Python\"\n",
        "separador = \" \"\n",
        "cadena.split(separador)"
      ]
    },
    {
      "cell_type": "code",
      "execution_count": null,
      "metadata": {
        "id": "85veUtlWlP_S"
      },
      "outputs": [],
      "source": [
        "palabra='popocatepetl'\n",
        "\n",
        "while True:\n",
        "  letra=input('adivina las letras que componen la palabra secreta')\n",
        "  if letra in palabra:\n",
        "    print('si esta en la palabra',palabra.count(letra))\n",
        "  else:\n",
        "    print('no esta en la palabra')\n",
        "    i = i - 1\n",
        "\n",
        "\n",
        "\n",
        "\n",
        "\n"
      ]
    },
    {
      "cell_type": "markdown",
      "metadata": {
        "id": "wq306ko-lU9r"
      },
      "source": [
        "# Tipos de secuencia y mutabilidad.\n",
        "\n",
        "Un tipo de secuencia es un tipo de dato en Python el cual es capaz de almacenar más de un valor (o ninguno si la secuencia esta vacía), los cuales pueden ser secuencialmente (de ahí el nombre) examinados, elemento por elemento.\n",
        "\n",
        "Debido a que el bucle for es una herramienta especialmente diseñada para iterar a través de las secuencias, podemos definirlas de la siguiente manera: una secuencia es un tipo de dato que puede ser escaneado por el bucle for.\n",
        "\n",
        "Hasta ahora, has trabajado con una secuencia en Python - la lista. La lista es un clásico ejemplo de una secuencia de Python. Aunque existen otras secuencias dignas de mencionar, las cuales se presentaran a continuación.\n",
        "\n",
        "La segunda noción - la mutabilidad - es una propiedad de cualquier tipo de dato en Python que describe su disponibilidad para poder cambiar libremente durante la ejecución de un programa. Existen dos tipos de datos en Python: mutables e inmutables.\n",
        "\n",
        "Los datos mutables pueden ser actualizados libremente en cualquier momento - a esta operación se le denomina \"in situ\"."
      ]
    },
    {
      "cell_type": "markdown",
      "metadata": {
        "id": "Q71xeQqElYKS"
      },
      "source": [
        "La función len()\n",
        "\n",
        "La longitud de una lista puede variar durante la ejecución. Se pueden agregar nuevos elementos a la lista, mientras que otros pueden eliminarse de ella. Esto significa que la lista es una entidad muy dinámica.\n",
        "\n",
        "Si deseas verificar la longitud actual de la lista, puedes usar una función llamada len() (su nombre proviene de length - longitud).\n",
        "\n",
        "La función toma el nombre de la lista como un argumento y devuelve el número de elementos almacenados actualmente dentro de la lista (en otras palabras - la longitud de la lista)."
      ]
    },
    {
      "cell_type": "code",
      "execution_count": null,
      "metadata": {
        "colab": {
          "background_save": true
        },
        "id": "Xt7MY0kglaoi",
        "outputId": "23373873-7a59-49d5-b9a5-26b75e03c843"
      },
      "outputs": [
        {
          "data": {
            "text/plain": [
              "5"
            ]
          },
          "execution_count": 1,
          "metadata": {},
          "output_type": "execute_result"
        }
      ],
      "source": [
        "numeros=[111,15,45,78,85]\n",
        "len(numeros)"
      ]
    },
    {
      "cell_type": "markdown",
      "metadata": {
        "id": "w9zZVKkFleXa"
      },
      "source": [
        "### Eliminando elementos de una lista\n",
        "Cualquier elemento de la lista puede ser eliminado en cualquier momento - esto se hace con una instrucción llamada del (eliminar). Nota: es una instrucción, no una función.\n",
        "\n",
        "Tienes que apuntar al elemento que quieres eliminar - desaparecerá de la lista y la longitud de la lista se reducirá en uno."
      ]
    },
    {
      "cell_type": "code",
      "execution_count": null,
      "metadata": {
        "id": "fW4skCQ4lgr7"
      },
      "outputs": [],
      "source": [
        "del numeros[1]\n",
        "print(len(numeros))\n",
        "print(numeros)"
      ]
    },
    {
      "cell_type": "markdown",
      "metadata": {
        "id": "6CblFGUuljvR"
      },
      "source": [
        "### Los índices negativos son legales\n",
        "Puede parecer extraño, pero los índices negativos son válidos, y pueden ser muy útiles.\n",
        "\n",
        "Un elemento con un índice igual a -1 es el último en la lista."
      ]
    },
    {
      "cell_type": "code",
      "execution_count": null,
      "metadata": {
        "id": "CK2uyCmIlmQp"
      },
      "outputs": [],
      "source": [
        "numeros = [111, 7, 2, 1]\n",
        "print(numeros[-1])"
      ]
    },
    {
      "cell_type": "markdown",
      "metadata": {
        "id": "uJ_0Pe9Glopc"
      },
      "source": [
        "Agregando elementos a una lista: append() y insert()\n",
        "Un nuevo elemento puede ser añadido al final de la lista existente:"
      ]
    },
    {
      "cell_type": "code",
      "execution_count": null,
      "metadata": {
        "colab": {
          "background_save": true
        },
        "id": "xt_UXAaplssg",
        "outputId": "f179dbe4-b90b-4de6-9e98-a74f76ee9841"
      },
      "outputs": [
        {
          "name": "stdout",
          "output_type": "stream",
          "text": [
            "4\n",
            "[111, 7, 2, 1]\n",
            "5\n",
            "[111, 7, 2, 1, 4]\n",
            "6\n",
            "[222, 111, 7, 2, 1, 4]\n"
          ]
        }
      ],
      "source": [
        "numbers = [111, 7, 2, 1]\n",
        "print(len(numbers))\n",
        "print(numbers)\n",
        "\n",
        "###\n",
        "\n",
        "numbers.append(4)\n",
        "\n",
        "print(len(numbers))\n",
        "print(numbers)\n",
        "\n",
        "###\n",
        "\n",
        "numbers.insert(0, 222)\n",
        "print(len(numbers))\n",
        "print(numbers)"
      ]
    },
    {
      "cell_type": "code",
      "execution_count": null,
      "metadata": {
        "colab": {
          "base_uri": "https://localhost:8080/"
        },
        "id": "tQ6oFoe6lvJw",
        "outputId": "e45cccae-917a-46d1-ca6b-e5f56f5b695b"
      },
      "outputs": [
        {
          "name": "stdout",
          "output_type": "stream",
          "text": [
            "[1, 2, 3, 4, 5]\n"
          ]
        }
      ],
      "source": [
        "my_list = []  # Creando una lista vacía.\n",
        "\n",
        "for i in range(5):\n",
        "    my_list.append(i + 1)\n",
        "\n",
        "print(my_list)\n"
      ]
    },
    {
      "cell_type": "code",
      "execution_count": null,
      "metadata": {
        "colab": {
          "base_uri": "https://localhost:8080/"
        },
        "id": "c4MDb9IAlxgA",
        "outputId": "4d37ff0a-a6ee-470c-f2b2-9f3a03321d8f"
      },
      "outputs": [
        {
          "name": "stdout",
          "output_type": "stream",
          "text": [
            "[5, 4, 3, 2, 1]\n"
          ]
        }
      ],
      "source": [
        "my_list = []  # Creando una lista vacía.\n",
        "\n",
        "for i in range(5):\n",
        "    my_list.insert(0, i + 1)\n",
        "\n",
        "print(my_list)"
      ]
    },
    {
      "cell_type": "code",
      "execution_count": null,
      "metadata": {
        "colab": {
          "background_save": true,
          "base_uri": "https://localhost:8080/"
        },
        "id": "EX72NsYel1VA",
        "outputId": "fc1a2092-8d15-4967-bb07-60cf2eb6e5b0"
      },
      "outputs": [
        {
          "name": "stdout",
          "output_type": "stream",
          "text": [
            "27\n"
          ]
        }
      ],
      "source": [
        "# Ejercicio\n",
        "my_list = [10, 1, 8, 3, 5]\n",
        "total = 0\n",
        "\n",
        "for i in my_list:\n",
        "    total += i\n",
        "\n",
        "print(total)"
      ]
    },
    {
      "cell_type": "code",
      "execution_count": null,
      "metadata": {
        "colab": {
          "base_uri": "https://localhost:8080/"
        },
        "id": "LPaT37uLl4US",
        "outputId": "d2c09482-ffa6-4e36-a15e-4108339ac816"
      },
      "outputs": [
        {
          "name": "stdout",
          "output_type": "stream",
          "text": [
            "[5, 3, 8, 1, 10]\n"
          ]
        }
      ],
      "source": [
        "my_list = [10, 1, 8, 3, 5]\n",
        "\n",
        "my_list[0], my_list[4] = my_list[4], my_list[0]\n",
        "my_list[1], my_list[3] = my_list[3], my_list[1]\n",
        "\n",
        "print(my_list)"
      ]
    },
    {
      "cell_type": "markdown",
      "metadata": {
        "id": "VDoMPYlBl61D"
      },
      "source": [
        "Puedes usar el método sort() para ordenar los elementos de una lista, por ejemplo:"
      ]
    },
    {
      "cell_type": "code",
      "execution_count": null,
      "metadata": {
        "id": "-i79eASVl8yF"
      },
      "outputs": [],
      "source": [
        "my_list = [8, 10, 6, 2, 4]\n",
        "my_list.sort()\n",
        "print(my_list)"
      ]
    },
    {
      "cell_type": "markdown",
      "metadata": {
        "id": "AmCKwbkNmBJU"
      },
      "source": [
        "También hay un método de lista llamado reverse(), que puedes usar para invertir\n",
        "\n",
        "---\n",
        "\n",
        "la lista, por ejemplo:"
      ]
    },
    {
      "cell_type": "code",
      "execution_count": null,
      "metadata": {
        "id": "CTdZ9e7lmEOY"
      },
      "outputs": [],
      "source": [
        "lst = [5, 3, 1, 2, 4]\n",
        "print(lst)\n",
        "\n",
        "lst.reverse()\n",
        "print(lst)  # output: [4, 2, 1, 3, 5]"
      ]
    },
    {
      "cell_type": "markdown",
      "metadata": {
        "id": "ifaAxm6UmIW5"
      },
      "source": [
        "count(value) Devuelve el número de veces que se encontró un dato en la lista."
      ]
    },
    {
      "cell_type": "code",
      "execution_count": null,
      "metadata": {
        "id": "5CKQQcxBmLCD",
        "colab": {
          "base_uri": "https://localhost:8080/"
        },
        "outputId": "c3de71f0-cc6b-4bac-8450-952ca5c2268d"
      },
      "outputs": [
        {
          "output_type": "stream",
          "name": "stdout",
          "text": [
            "Veces que esta 123 en la lista :  2\n",
            "Veces que esta zara en la lista :  1\n"
          ]
        }
      ],
      "source": [
        "aList = [123, 'xyz', 'zara', 'abc', 123]\n",
        "\n",
        "print(\"Veces que esta 123 en la lista : \", aList.count(123))\n",
        "print(\"Veces que esta zara en la lista : \", aList.count('zara'))"
      ]
    },
    {
      "cell_type": "markdown",
      "metadata": {
        "id": "WSt6s8QNmOYh"
      },
      "source": [
        "\\extend(iterable) Añade los elementos del iterable a la lista."
      ]
    },
    {
      "cell_type": "code",
      "execution_count": null,
      "metadata": {
        "id": "5cBPwqWdmRcz"
      },
      "outputs": [],
      "source": [
        "notas_musicales = [\"Do\", \"Re\", \"Mi\", \"Fa\", \"Sol\", \"La\"]\n",
        "notas_musicales.extend(\"Si\")\n",
        "print(notas_musicales)"
      ]
    },
    {
      "cell_type": "code",
      "execution_count": null,
      "metadata": {
        "id": "CBp7wqxemT8q"
      },
      "outputs": [],
      "source": [
        "lst = []\n",
        "word = 'Sample'\n",
        "lst.extend(word)\n",
        "print(lst)"
      ]
    },
    {
      "cell_type": "markdown",
      "metadata": {
        "id": "8U72ZNTEmcU_"
      },
      "source": [
        "\n",
        "diferencia con append"
      ]
    },
    {
      "cell_type": "code",
      "execution_count": null,
      "metadata": {
        "id": "C6Siex1AmlD_"
      },
      "outputs": [],
      "source": [
        "A = [1, 2]\n",
        "A.extend([3, 4])\n",
        "print(A)"
      ]
    },
    {
      "cell_type": "code",
      "execution_count": null,
      "metadata": {
        "id": "z-Fqq0_gmnCA"
      },
      "outputs": [],
      "source": [
        "A = [1, 2]\n",
        "A.append([3, 4])\n",
        "print(A)"
      ]
    },
    {
      "cell_type": "markdown",
      "metadata": {
        "id": "Jsp-ZGqNmpZ_"
      },
      "source": [
        "index(value) Devuelve la posición en la que se encontró la primera ocurrencia de value. Si se especifican, start y stop definen las posiciones de inicio y fin de una sublista en la que buscar."
      ]
    },
    {
      "cell_type": "code",
      "execution_count": null,
      "metadata": {
        "colab": {
          "background_save": true
        },
        "id": "C6YIJaDpmrmy",
        "outputId": "ece435e0-69b3-4282-c254-627b57f5328f"
      },
      "outputs": [
        {
          "name": "stdout",
          "output_type": "stream",
          "text": [
            "3\n"
          ]
        }
      ],
      "source": [
        " versiones = [2.1, 2.5, 3.6, 4, 5, 6, 4]\n",
        " print(versiones.index(4))"
      ]
    },
    {
      "cell_type": "markdown",
      "metadata": {
        "id": "pu5DNfDFmuMN"
      },
      "source": [
        "pop(index) Devuelve el valor en la posición index y lo elimina de la lista. Si no se especifica la posición, se utiliza el último elemento de la lista."
      ]
    },
    {
      "cell_type": "code",
      "execution_count": null,
      "metadata": {
        "id": "m_umSaUdmw1_"
      },
      "outputs": [],
      "source": [
        "ciudades = ['New York', 'Dallas', 'San Antonio', 'Houston', 'San Francisco']\n",
        "\n",
        "print ( \"Ciudad removida : \", ciudades.pop() )\n",
        "print ( \"La ciudad en el indice 2 es : \", ciudades.pop(2) )"
      ]
    },
    {
      "cell_type": "markdown",
      "metadata": {
        "id": "GqwOu4UcmzG5"
      },
      "source": [
        "remove(value) Eliminar la primera ocurrencia de value en la lista, elimina el primer elemento de la lista, cuyo valor es igual al del argumento pasado. Cuando se utiliza este método, normalmente no se sabe o no le importa cuál es el índice del elemento que se va a eliminar."
      ]
    },
    {
      "cell_type": "code",
      "execution_count": null,
      "metadata": {
        "id": "Qlj_QFj0m2BJ"
      },
      "outputs": [],
      "source": [
        "names = ['Bob', 'Cindy', 'Noah']\n",
        "names.remove('Cindy')\n",
        "print(names)"
      ]
    },
    {
      "cell_type": "markdown",
      "metadata": {
        "id": "DksRKozPm4xy"
      },
      "source": [
        "reverse() Invierte la lista. Esta función trabaja sobre la propia lista desde la que se invoca el método, no sobre una copia."
      ]
    },
    {
      "cell_type": "code",
      "execution_count": null,
      "metadata": {
        "colab": {
          "background_save": true
        },
        "id": "vqgWOorSm6zG",
        "outputId": "524ad342-5108-4b95-e5d0-123eb043baa4"
      },
      "outputs": [
        {
          "name": "stdout",
          "output_type": "stream",
          "text": [
            "['insects', 'bird', 'dog', 'cat']\n"
          ]
        }
      ],
      "source": [
        "list=[\"cat\",\"dog\",\"bird\",\"insects\"]\n",
        "list.reverse()\n",
        "print(list)"
      ]
    },
    {
      "cell_type": "markdown",
      "metadata": {
        "id": "NxlmG1LRnGtM"
      },
      "source": [
        "## Los operadores in y not in\n",
        "Python ofrece dos operadores muy poderosos, capaces de revisar la lista para verificar si un valor específico está almacenado dentro de la lista o no.\n",
        "\n",
        "Estos operadores son:\n",
        "\n",
        "\n",
        "elem in my_list\n",
        "\n",
        "elem not in my_list"
      ]
    },
    {
      "cell_type": "code",
      "execution_count": null,
      "metadata": {
        "id": "r__ge9PunLVH"
      },
      "outputs": [],
      "source": [
        "my_list = [0, 3, 12, 8, 2]\n",
        "\n",
        "print(5 in my_list)\n",
        "print(5 not in my_list)\n",
        "print(12 in my_list)\n",
        "\n"
      ]
    },
    {
      "cell_type": "markdown",
      "metadata": {
        "id": "hWoN7VtynPSG"
      },
      "source": [
        "## Ejercicio\n",
        "Encuentra el número mayor en la lista"
      ]
    },
    {
      "cell_type": "code",
      "execution_count": null,
      "metadata": {
        "id": "dTQQnE_YnVba"
      },
      "outputs": [],
      "source": [
        "my_list = [1, 2, 3, 4, 5, 6, 7, 8, 9, 10]\n",
        "to_find = 5\n",
        "found = False\n",
        "\n",
        "for i in my_list:\n",
        "    found = my_list[i] == to_find\n",
        "    if found:\n",
        "        break\n",
        "\n",
        "if found:\n",
        "    print(\"Elemento encontrado en el índice\", i)\n",
        "else:\n",
        "    print(\"ausente\")"
      ]
    },
    {
      "cell_type": "markdown",
      "source": [
        "# FUNCIONES\n",
        "Hasta ahorita has implementado varias veces el uso de funciones, pero solo se han visto algunas de sus ventajas. Solo se han invocado funciones para utilizarlas como herramientas, con el fin de hacer la vida más fácil, y para simplificar tareas tediosas y repetitivas.\n",
        "\n",
        "Cuando se desea mostrar o imprimir algo en consola se utiliza print(). Cuando se desea leer el valor de una variable se emplea input(), combinados posiblemente con int() o float().\n",
        "\n",
        "También se ha hecho uso de algunos métodos, los cuales también son funciones, pero declarados de una manera muy específica.\n",
        "\n",
        " si un fragmento de código comienza a aparecer en más de una ocasión, considera la posibilidad de aislarlo en la forma de una función invocando la función desde el lugar en el que originalmente se encontraba.\n",
        "\n",
        " Un buen desarrollador divide el código (o mejor dicho: el problema) en piezas aisladas, y codifica cada una de ellas en la forma de una función.\n",
        "\n",
        " Existe una segunda condición: si un fragmento de código se hace tan extenso que leerlo o entenderlo se hace complicado, considera dividirlo en pequeños problemas, por separado, e implementa cada uno de ellos como una función independiente..\n",
        "\n",
        " se debe descomponer el problema para permitir que el producto sea implementado como un conjunto de funciones escritas por separado empacadas juntas en diferentes módulos.\n",
        "\n",
        " ## DE DONDE VIENEN LAS FUNCIONES\n",
        "\n",
        " De Python mismo: varias funciones (como print()) son una parte integral de Python, y siempre están disponibles sin algún esfuerzo adicional del programador; se les llama a estas funciones integradas.\n",
        "\n",
        " De los módulos preinstalados de Python: muchas de las funciones, las cuales comúnmente son menos utilizadas que las integradas, están disponibles en módulos instalados juntamente con Python\n",
        "\n",
        " Directamente del código: tu puedes escribir tus propias funciones, colocarlas dentro del código, y usarlas libremente."
      ],
      "metadata": {
        "id": "I1Iir0bhn97E"
      }
    },
    {
      "cell_type": "markdown",
      "metadata": {
        "id": "9h5Y0Bo9F8N4"
      },
      "source": [
        "https://docs.python.org/3/library/functions.html."
      ]
    },
    {
      "cell_type": "code",
      "execution_count": null,
      "metadata": {
        "id": "UqWdpqhEFOEa"
      },
      "outputs": [],
      "source": [
        "print(\"Ingresa un valor: \")\n",
        "a = int(input())\n",
        "\n",
        "print(\"Ingresa un valor: \")\n",
        "b = int(input())\n",
        "\n",
        "print(\"Ingresa un valor: \")\n",
        "c = int(input())"
      ]
    },
    {
      "cell_type": "code",
      "execution_count": null,
      "metadata": {
        "id": "lQjpdERMFzci"
      },
      "outputs": [],
      "source": [
        "def mensaje():\n",
        "    print(\"Ingresar valor: \")\n",
        "\n",
        "mensaje()"
      ]
    },
    {
      "cell_type": "code",
      "execution_count": null,
      "metadata": {
        "id": "kQZ_c7gGF1nh"
      },
      "outputs": [],
      "source": [
        "def mensaje():\n",
        "    print(\"Ingresar valor: \")\n",
        "\n",
        "mensaje()\n",
        "a = int(input())\n",
        "mensaje()\n",
        "b = int(input())\n",
        "mensaje()\n",
        "c = int(input())"
      ]
    },
    {
      "cell_type": "code",
      "execution_count": null,
      "metadata": {
        "id": "X58Rv05hGC2W"
      },
      "outputs": [],
      "source": [
        "def mensaje():\n",
        "    print(\"Hello\")\n",
        "\n",
        "mensaje()"
      ]
    },
    {
      "cell_type": "code",
      "execution_count": null,
      "metadata": {
        "id": "QmqYTxCTiNF5"
      },
      "outputs": [],
      "source": [
        "def hello(name):\n",
        "    print(\"Hello,\", name)\n",
        "\n",
        "\n",
        "\n",
        "hello('juan')"
      ]
    },
    {
      "cell_type": "code",
      "execution_count": null,
      "metadata": {
        "id": "GWf8IAnrGLJe"
      },
      "outputs": [],
      "source": [
        "def hello(name):\n",
        "    print(\"Hello,\", name)\n",
        "\n",
        "\n",
        "name = input(\"Ingresa tu nombre: \")\n",
        "\n",
        "hello(name)"
      ]
    },
    {
      "cell_type": "markdown",
      "source": [
        "### Función de orden superior\n",
        "El concepto de funciones de orden superior se refiere al uso de funciones como si de un valor cualquiera se tratara, posibilitando el pasar funciones como parámetros de otras funciones o devolver funciones como valor de retorno. Es posible porque, como hemos insistido ya en varias ocasiones, en Python todo son objetos. Y las funciones no son una excepción. Veamos un pequeño ejemplo:"
      ],
      "metadata": {
        "id": "lUGlir-_pIsn"
      }
    },
    {
      "cell_type": "markdown",
      "source": [
        "## Argumentos y parámetros\n",
        "\n",
        "los parámetros solo existen dentro de las funciones (este es su entorno natural)\n",
        "\n",
        "los argumentos existen fuera de las funciones, y son los que pasan los valores a los parámetros correspondientes."
      ],
      "metadata": {
        "id": "fekp7_d1pMen"
      }
    },
    {
      "cell_type": "code",
      "execution_count": null,
      "metadata": {
        "id": "8vLBsb7pGbX9"
      },
      "outputs": [],
      "source": [
        "def mensaje(numero):\n",
        "    print(\"Ingresa un número:\", numero)\n",
        "\n",
        "mensaje()"
      ]
    },
    {
      "cell_type": "code",
      "execution_count": null,
      "metadata": {
        "id": "vK7EuzOtGknI"
      },
      "outputs": [],
      "source": [
        "def message(number):   #parametro\n",
        "    print(\"Ingresa un número:\", number)\n",
        "\n",
        "message(1) #argumento"
      ]
    },
    {
      "cell_type": "code",
      "execution_count": null,
      "metadata": {
        "id": "3OarbfaQGucg"
      },
      "outputs": [],
      "source": [
        "def nombres(primer_nombre, apellido):\n",
        "    print(\"Hola, mi nombre es\", primer_nombre, apellido)\n",
        "\n",
        "nombres(\"Juan\", \"Pérez\")\n",
        "nombres(\"Miguel\", \"Gónzaez\")\n",
        "nombres(\"Clara\", \"López\")"
      ]
    },
    {
      "cell_type": "code",
      "execution_count": null,
      "metadata": {
        "id": "-nDZdt9CHDip"
      },
      "outputs": [],
      "source": [
        "def nombres(primer_nombre, apellido):\n",
        "    print(\"Hola, mi nombre es\", primer_nombre, apellido)\n",
        "\n",
        "nombres(primer_nombre = \"Juan\", apellido = \"Pérez\")\n",
        "nombres(apellido = \"Silvia\", primer_nombre = \"López\")"
      ]
    },
    {
      "cell_type": "markdown",
      "source": [
        "## return\n",
        "Todas las funciones presentadas anteriormente tienen algún tipo de efecto - producen un texto y lo envían a la consola.\n",
        "\n",
        "Para lograr que las funciones devuelvan un valor (pero no solo para ese propósito) se utiliza la instrucción return (regresar o retornar).\n",
        "\n",
        "Existen dos consecuencias de usarla:\n",
        "\n",
        "provoca la terminación inmediata de la ejecución de la función (nada nuevo en comparación con la primer variante)\n",
        "\n",
        "además, la función evaluará el valor de la expresión y lo devolverá (de ahí el nombre una vez más) como el resultado de la función."
      ],
      "metadata": {
        "id": "LdKd4byPpPVC"
      }
    },
    {
      "cell_type": "code",
      "execution_count": null,
      "metadata": {
        "id": "fVpmiHFTHTJk"
      },
      "outputs": [],
      "source": [
        "def una_funcion():\n",
        "  a=5*8\n",
        "  b=10.3+6\n",
        "  return 123\n",
        "\n",
        "una_funcion()"
      ]
    },
    {
      "cell_type": "code",
      "execution_count": null,
      "metadata": {
        "colab": {
          "base_uri": "https://localhost:8080/"
        },
        "id": "IsFaRAz6H0Hz",
        "outputId": "98a65deb-1f74-4ecd-edf4-788a446973f3"
      },
      "outputs": [
        {
          "name": "stdout",
          "output_type": "stream",
          "text": [
            "True\n",
            "None\n"
          ]
        }
      ],
      "source": [
        "def extraña_funcion(n):\n",
        "    if(n % 2 == 0):\n",
        "        return True\n",
        "\n",
        "print(extraña_funcion(2))\n",
        "print(extraña_funcion(1))"
      ]
    },
    {
      "cell_type": "markdown",
      "source": [
        "1 - Realiza un programa que solicite dos números y una operación (suma, resta, división y multiplicación) e imprima el resultado.\n",
        "\n",
        "Además deberá mostrar un menú con las siguientes opciones:\n",
        "\n",
        "Mostrar números\n",
        "\n",
        "Sumar\n",
        "\n",
        "Restar\n",
        "\n",
        "Dividir (considerar la división entre 0)\n",
        "\n",
        "multipicar\n",
        "\n",
        "cerrar calculadora"
      ],
      "metadata": {
        "id": "VB87VD4eqJ7n"
      }
    },
    {
      "cell_type": "code",
      "execution_count": null,
      "metadata": {
        "id": "aeEkJQNwIyJQ"
      },
      "outputs": [],
      "source": [
        "\n",
        "\n",
        "\n"
      ]
    },
    {
      "cell_type": "code",
      "execution_count": null,
      "metadata": {
        "id": "ioIQWITwjcmi"
      },
      "outputs": [],
      "source": [
        "menu()"
      ]
    },
    {
      "cell_type": "markdown",
      "source": [
        "##Filter\n",
        "Tal como su nombre indica filter significa filtrar, a partir de una lista o iterador y una función condicional, es capaz de devolver una nueva colección con los elementos filtrados que cumplan la condición."
      ],
      "metadata": {
        "id": "OmM5jLOKpdYh"
      }
    },
    {
      "cell_type": "code",
      "execution_count": null,
      "metadata": {
        "id": "Af0WZHZ5H6o-"
      },
      "outputs": [],
      "source": [
        "def multiple(numero):\n",
        "  if numero % 5 == 0:\n",
        "    return True\n",
        "\n",
        "numeros = [2, 5, 10, 23, 50, 30, 33,35]\n",
        "\n",
        "filter(multiple, numeros)"
      ]
    },
    {
      "cell_type": "markdown",
      "source": [
        "Si ejecutamos el filtro obtenemos un objeto de tipo filtro, pero podemos transformarlo en una lista fácilmente haciendo un cast (conversión):"
      ],
      "metadata": {
        "id": "qZNv4x01pkfC"
      }
    },
    {
      "cell_type": "code",
      "execution_count": null,
      "metadata": {
        "id": "knGvtF3ZH8z6"
      },
      "outputs": [],
      "source": [
        "list(filter(multiple, numeros))"
      ]
    },
    {
      "cell_type": "markdown",
      "source": [
        "## Map\n",
        "En vez de usar un bucle for, la función map() proporciona una forma de aplicar una función a cada elemento en un iterable. Por tanto, a menudo puede funcionar mejor, ya que solo aplica la función a un elemento cada vez en vez de realizar copias de los elementos a otro iterable. Esto es muy útil cuando se trabaja en programas que procesan grandes conjuntos de datos."
      ],
      "metadata": {
        "id": "668hZUQEpoJp"
      }
    },
    {
      "cell_type": "code",
      "execution_count": null,
      "metadata": {
        "id": "33tXmd18H-8a"
      },
      "outputs": [],
      "source": [
        "def doble(numero):\n",
        "    return numero*2\n",
        "\n",
        "numeros = [2, 5, 10, 23, 50, 33]\n",
        "\n",
        "map(doble, numeros)"
      ]
    },
    {
      "cell_type": "code",
      "execution_count": null,
      "metadata": {
        "id": "_F1yalleIA0K"
      },
      "outputs": [],
      "source": [
        "list(map(doble, numeros)) #para mostrarlo en lista"
      ]
    },
    {
      "cell_type": "code",
      "execution_count": null,
      "metadata": {
        "id": "7TRB0-wUIDcK"
      },
      "outputs": [],
      "source": [
        "frase= 'Hola Luis, como estas?'\n",
        "def longitud_palabras(frase):\n",
        "    palabra_len = list(map(len, frase.split()))\n",
        "    return palabra_len\n",
        "\n",
        "longitud_palabras(frase)"
      ]
    },
    {
      "cell_type": "markdown",
      "source": [
        "## Reduce\n",
        "Reduce es una función incorporada de Python, que toma como argumento un conjunto de valores (una lista, una tupla, o cualquier objeto iterable) y lo \"reduce\" a un único valor. Cómo se obtiene ese único valor a partir de la colección pasada como argumento dependerá de la función aplicada."
      ],
      "metadata": {
        "id": "sbY_B-CHptSp"
      }
    },
    {
      "cell_type": "code",
      "execution_count": null,
      "metadata": {
        "id": "3WQZ-npKIJsC"
      },
      "outputs": [],
      "source": [
        "from functools import reduce   #traemos el módulo para poder utiliarla\n",
        "\n",
        "def add(x, y):\n",
        "    return x + y\n",
        "\n",
        "lista = [2, 4, 7, 3]\n",
        "print(reduce(add, lista))"
      ]
    },
    {
      "cell_type": "code",
      "execution_count": null,
      "metadata": {
        "id": "Qw1PTeKGILwn"
      },
      "outputs": [],
      "source": [
        "def suma(x,y):\n",
        "  return(x + y)\n",
        "\n",
        "suma(5,7)"
      ]
    },
    {
      "cell_type": "markdown",
      "source": [
        "\n",
        "```\n",
        "# Tiene formato de código\n",
        "```\n",
        "\n",
        "## Funciones lambda\n",
        "En Python, una función Lambda se refiere a una pequeña función anónima. Las llamamos “funciones anónimas” porque técnicamente carecen de nombre. Al contrario que una función normal, no la definimos con la palabra clave estándar def que utilizamos en Python. En su lugar, las funciones Lambda se definen como una línea que ejecuta una sola expresión. Este tipo de funciones pueden tomar cualquier número de argumentos, pero solo pueden tener una expresión.\n",
        "\n",
        "Todas las funciones Lambda en Python tienen exactamente la misma sintaxis."
      ],
      "metadata": {
        "id": "HyIHYSXcpykI"
      }
    },
    {
      "cell_type": "code",
      "execution_count": null,
      "metadata": {
        "id": "5dzYHI5mINiB"
      },
      "outputs": [],
      "source": [
        "lambda x,y : x+ y\n",
        "\n",
        "#Para poder utilizarla necesitamos guardarla en una variable\n",
        "suma = lambda x,y : x + y\n",
        "suma(5,7)"
      ]
    },
    {
      "cell_type": "code",
      "execution_count": 11,
      "metadata": {
        "id": "mML4Zqgqj45r",
        "colab": {
          "base_uri": "https://localhost:8080/"
        },
        "outputId": "19fe17ba-a316-4664-a0ff-7ce86f84b317"
      },
      "outputs": [
        {
          "output_type": "stream",
          "name": "stdout",
          "text": [
            "Resultado de reduce: 15\n",
            "Resultado de map: [5, 10, 15, 20, 25]\n",
            "Resultado de filter: [2, 4]\n"
          ]
        }
      ],
      "source": [
        "from functools import reduce\n",
        "\n",
        "\n",
        "# Ejemplo de uso de reduce\n",
        "lista = [1, 2, 3, 4, 5]\n",
        "resultado_reduce = reduce(suma, lista)\n",
        "print(\"Resultado de reduce:\", resultado_reduce)\n",
        "\n",
        "# Función para multiplicar un número por 2\n",
        "def multiplicar_por_cinco(num):\n",
        "    return num * 5\n",
        "\n",
        "# Ejemplo de uso de map\n",
        "lista = [1, 2, 3, 4, 5]\n",
        "resultado_map = list(map(multiplicar_por_cinco, lista))\n",
        "print(\"Resultado de map:\", resultado_map)\n",
        "\n",
        "# Función para verificar si un número es par\n",
        "def es_par(num):\n",
        "    return num % 2 == 0\n",
        "\n",
        "# Ejemplo de uso de filter\n",
        "lista = [1, 2, 3, 4, 5]\n",
        "resultado_filter = list(filter(es_par, lista))\n",
        "print(\"Resultado de filter:\", resultado_filter)\n"
      ]
    },
    {
      "cell_type": "markdown",
      "source": [
        "#COMPRENSION DE LISTAS\n",
        "La comprensión de listas, es una funcionalidad que nos permite crear listas avanzadas en una misma línea de código."
      ],
      "metadata": {
        "id": "WoigAxEGqf_P"
      }
    },
    {
      "cell_type": "code",
      "execution_count": null,
      "metadata": {
        "id": "6YXNRbxtMGep"
      },
      "outputs": [],
      "source": [
        "lista = []\n",
        "for letra in 'casa':\n",
        "  lista.append(letra)\n",
        "print(lista)"
      ]
    },
    {
      "cell_type": "code",
      "execution_count": null,
      "metadata": {
        "id": "LZvP3HG8MIXC"
      },
      "outputs": [],
      "source": [
        "lista = [letra for letra in 'casa']\n",
        "print(lista)"
      ]
    },
    {
      "cell_type": "code",
      "execution_count": null,
      "metadata": {
        "id": "6kU5I2H6MKEz"
      },
      "outputs": [],
      "source": [
        "lista = []\n",
        "for numero in range(0,11):\n",
        "  lista.append(numero**2)\n",
        "print(lista)"
      ]
    },
    {
      "cell_type": "code",
      "execution_count": null,
      "metadata": {
        "id": "AWeXYN-6MMKR"
      },
      "outputs": [],
      "source": [
        "lista = [numero**2 for numero in range(0,11)]\n",
        "\n",
        "print(lista)"
      ]
    }
  ],
  "metadata": {
    "colab": {
      "provenance": [],
      "authorship_tag": "ABX9TyMrtYUOdK0FjIm4lD4mUEyV",
      "include_colab_link": true
    },
    "kernelspec": {
      "display_name": "Python 3",
      "name": "python3"
    },
    "language_info": {
      "name": "python"
    }
  },
  "nbformat": 4,
  "nbformat_minor": 0
}